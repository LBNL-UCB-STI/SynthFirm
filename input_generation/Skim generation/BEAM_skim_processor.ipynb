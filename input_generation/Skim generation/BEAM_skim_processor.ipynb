{
 "cells": [
  {
   "cell_type": "code",
   "execution_count": 19,
   "id": "43a541b0-2c88-4205-b43e-f1740a5e1727",
   "metadata": {},
   "outputs": [],
   "source": [
    "import pandas as pd\n",
    "import os\n",
    "from os import listdir\n",
    "from pandas import read_csv\n",
    "import matplotlib.pyplot as plt\n",
    "import seaborn as sns\n",
    "import warnings\n",
    "import numpy as np\n",
    "import scipy.stats as s\n",
    "from sklearn.metrics import r2_score\n",
    "\n",
    "warnings.filterwarnings(\"ignore\")\n",
    "\n",
    "work_dir = '/Users/xiaodanxu/Documents/SynthFirm.nosync'\n",
    "os.chdir(work_dir)\n",
    "meter_to_mile = 0.00062137\n",
    "min_to_hour = 1/60\n",
    "sec_to_hour = 1/3600"
   ]
  },
  {
   "cell_type": "code",
   "execution_count": 9,
   "id": "a214c023-9921-43ea-88f3-2beba06b191d",
   "metadata": {},
   "outputs": [
    {
     "name": "stdout",
     "output_type": "stream",
     "text": [
      "0.skimsOD.csv.gz\n",
      "750769\n",
      "26989\n",
      ".DS_Store\n"
     ]
    },
    {
     "data": {
      "text/html": [
       "<div>\n",
       "<style scoped>\n",
       "    .dataframe tbody tr th:only-of-type {\n",
       "        vertical-align: middle;\n",
       "    }\n",
       "\n",
       "    .dataframe tbody tr th {\n",
       "        vertical-align: top;\n",
       "    }\n",
       "\n",
       "    .dataframe thead th {\n",
       "        text-align: right;\n",
       "    }\n",
       "</style>\n",
       "<table border=\"1\" class=\"dataframe\">\n",
       "  <thead>\n",
       "    <tr style=\"text-align: right;\">\n",
       "      <th></th>\n",
       "      <th>hour</th>\n",
       "      <th>mode</th>\n",
       "      <th>origTaz</th>\n",
       "      <th>destTaz</th>\n",
       "      <th>travelTimeInS</th>\n",
       "      <th>distanceInM</th>\n",
       "    </tr>\n",
       "  </thead>\n",
       "  <tbody>\n",
       "    <tr>\n",
       "      <th>18</th>\n",
       "      <td>7</td>\n",
       "      <td>CAR</td>\n",
       "      <td>484530024221</td>\n",
       "      <td>484530011001</td>\n",
       "      <td>850.0</td>\n",
       "      <td>10059.711</td>\n",
       "    </tr>\n",
       "    <tr>\n",
       "      <th>36</th>\n",
       "      <td>7</td>\n",
       "      <td>CAR</td>\n",
       "      <td>484530017123</td>\n",
       "      <td>484530020042</td>\n",
       "      <td>284.0</td>\n",
       "      <td>3165.056</td>\n",
       "    </tr>\n",
       "    <tr>\n",
       "      <th>73</th>\n",
       "      <td>7</td>\n",
       "      <td>CAR</td>\n",
       "      <td>484910203231</td>\n",
       "      <td>484530018491</td>\n",
       "      <td>1732.0</td>\n",
       "      <td>26022.497</td>\n",
       "    </tr>\n",
       "    <tr>\n",
       "      <th>88</th>\n",
       "      <td>7</td>\n",
       "      <td>CAR</td>\n",
       "      <td>484910204053</td>\n",
       "      <td>484530017162</td>\n",
       "      <td>1296.0</td>\n",
       "      <td>17426.009</td>\n",
       "    </tr>\n",
       "    <tr>\n",
       "      <th>94</th>\n",
       "      <td>7</td>\n",
       "      <td>CAR</td>\n",
       "      <td>484530009023</td>\n",
       "      <td>484530009012</td>\n",
       "      <td>141.0</td>\n",
       "      <td>1618.452</td>\n",
       "    </tr>\n",
       "  </tbody>\n",
       "</table>\n",
       "</div>"
      ],
      "text/plain": [
       "    hour mode       origTaz       destTaz  travelTimeInS  distanceInM\n",
       "18     7  CAR  484530024221  484530011001          850.0    10059.711\n",
       "36     7  CAR  484530017123  484530020042          284.0     3165.056\n",
       "73     7  CAR  484910203231  484530018491         1732.0    26022.497\n",
       "88     7  CAR  484910204053  484530017162         1296.0    17426.009\n",
       "94     7  CAR  484530009023  484530009012          141.0     1618.452"
      ]
     },
     "execution_count": 9,
     "metadata": {},
     "output_type": "execute_result"
    }
   ],
   "source": [
    "# load BEAM skim \n",
    "region = 'Austin'\n",
    "skim_dir = 'RawData/BEAM_skims/' + region\n",
    "skim_files = listdir(skim_dir)\n",
    "beam_skim_out = None\n",
    "var_to_keep = ['timePeriod', 'pathType',\n",
    "               'origin', 'destination', \n",
    "               'TIME_minutes', 'DIST_meters']\n",
    "\n",
    "var_to_keep_aus = ['hour', 'mode', \n",
    "                   'origTaz', 'destTaz', \n",
    "                   'travelTimeInS',\n",
    "                   'distanceInM']\n",
    "for file in skim_files:\n",
    "    print(file)\n",
    "    if file == '.DS_Store':\n",
    "        continue\n",
    "    beam_skim = read_csv(os.path.join(skim_dir, file))\n",
    "    print(len(beam_skim))\n",
    "    if region == 'SFBay':\n",
    "        beam_skim = beam_skim.loc[beam_skim['pathType'] == 'SOV']\n",
    "        beam_skim = beam_skim.loc[beam_skim['timePeriod'] == 'AM']\n",
    "        beam_skim = beam_skim[var_to_keep]\n",
    "    elif region == 'Austin':\n",
    "        beam_skim = beam_skim.loc[beam_skim['mode'] == 'CAR']\n",
    "        beam_skim = beam_skim.loc[beam_skim['hour'] == 7]\n",
    "        beam_skim = beam_skim[var_to_keep_aus]\n",
    "    print(len(beam_skim))\n",
    "    beam_skim_out = pd.concat([beam_skim_out, beam_skim])\n",
    "#     break\n",
    "# print(beam_skim.columns)\n",
    "beam_skim_out.head(5)"
   ]
  },
  {
   "cell_type": "code",
   "execution_count": 7,
   "id": "1408fbec-dfc3-4821-b69c-499f486978dd",
   "metadata": {},
   "outputs": [
    {
     "data": {
      "text/html": [
       "<div>\n",
       "<style scoped>\n",
       "    .dataframe tbody tr th:only-of-type {\n",
       "        vertical-align: middle;\n",
       "    }\n",
       "\n",
       "    .dataframe tbody tr th {\n",
       "        vertical-align: top;\n",
       "    }\n",
       "\n",
       "    .dataframe thead th {\n",
       "        text-align: right;\n",
       "    }\n",
       "</style>\n",
       "<table border=\"1\" class=\"dataframe\">\n",
       "  <thead>\n",
       "    <tr style=\"text-align: right;\">\n",
       "      <th></th>\n",
       "      <th>hour</th>\n",
       "      <th>mode</th>\n",
       "      <th>rideHailName</th>\n",
       "      <th>origTaz</th>\n",
       "      <th>destTaz</th>\n",
       "      <th>travelTimeInS</th>\n",
       "      <th>generalizedTimeInS</th>\n",
       "      <th>cost</th>\n",
       "      <th>generalizedCost</th>\n",
       "      <th>distanceInM</th>\n",
       "      <th>payloadWeightInKg</th>\n",
       "      <th>energy</th>\n",
       "      <th>level4CavTravelTimeScalingFactor</th>\n",
       "      <th>failedTrips</th>\n",
       "      <th>observations</th>\n",
       "      <th>iterations</th>\n",
       "    </tr>\n",
       "  </thead>\n",
       "  <tbody>\n",
       "    <tr>\n",
       "      <th>0</th>\n",
       "      <td>11</td>\n",
       "      <td>CAR</td>\n",
       "      <td>NaN</td>\n",
       "      <td>484530004012</td>\n",
       "      <td>484530024211</td>\n",
       "      <td>1197.0</td>\n",
       "      <td>1334.0</td>\n",
       "      <td>0.724558</td>\n",
       "      <td>3.411086</td>\n",
       "      <td>18578.411000</td>\n",
       "      <td>0.0</td>\n",
       "      <td>4.320284e+07</td>\n",
       "      <td>1.0</td>\n",
       "      <td>0</td>\n",
       "      <td>1</td>\n",
       "      <td>1</td>\n",
       "    </tr>\n",
       "    <tr>\n",
       "      <th>1</th>\n",
       "      <td>7</td>\n",
       "      <td>WALK</td>\n",
       "      <td>NaN</td>\n",
       "      <td>484530018332</td>\n",
       "      <td>484910201093</td>\n",
       "      <td>8293.0</td>\n",
       "      <td>8293.0</td>\n",
       "      <td>0.000000</td>\n",
       "      <td>16.701181</td>\n",
       "      <td>41466.658182</td>\n",
       "      <td>0.0</td>\n",
       "      <td>0.000000e+00</td>\n",
       "      <td>1.0</td>\n",
       "      <td>0</td>\n",
       "      <td>1</td>\n",
       "      <td>1</td>\n",
       "    </tr>\n",
       "    <tr>\n",
       "      <th>2</th>\n",
       "      <td>21</td>\n",
       "      <td>CAR</td>\n",
       "      <td>NaN</td>\n",
       "      <td>484530018391</td>\n",
       "      <td>484910203181</td>\n",
       "      <td>1196.0</td>\n",
       "      <td>2699.0</td>\n",
       "      <td>0.790165</td>\n",
       "      <td>6.225651</td>\n",
       "      <td>20260.634000</td>\n",
       "      <td>0.0</td>\n",
       "      <td>4.726030e+07</td>\n",
       "      <td>1.0</td>\n",
       "      <td>0</td>\n",
       "      <td>1</td>\n",
       "      <td>1</td>\n",
       "    </tr>\n",
       "    <tr>\n",
       "      <th>3</th>\n",
       "      <td>14</td>\n",
       "      <td>WALK</td>\n",
       "      <td>NaN</td>\n",
       "      <td>484530006011</td>\n",
       "      <td>484530002053</td>\n",
       "      <td>2678.0</td>\n",
       "      <td>2678.0</td>\n",
       "      <td>0.000000</td>\n",
       "      <td>5.393194</td>\n",
       "      <td>3481.269000</td>\n",
       "      <td>0.0</td>\n",
       "      <td>1.845073e+05</td>\n",
       "      <td>1.0</td>\n",
       "      <td>0</td>\n",
       "      <td>1</td>\n",
       "      <td>1</td>\n",
       "    </tr>\n",
       "    <tr>\n",
       "      <th>4</th>\n",
       "      <td>20</td>\n",
       "      <td>WALK</td>\n",
       "      <td>NaN</td>\n",
       "      <td>484530017291</td>\n",
       "      <td>484530017761</td>\n",
       "      <td>1452.0</td>\n",
       "      <td>1452.0</td>\n",
       "      <td>0.000000</td>\n",
       "      <td>2.924167</td>\n",
       "      <td>1887.808000</td>\n",
       "      <td>0.0</td>\n",
       "      <td>1.000538e+05</td>\n",
       "      <td>1.0</td>\n",
       "      <td>0</td>\n",
       "      <td>1</td>\n",
       "      <td>1</td>\n",
       "    </tr>\n",
       "  </tbody>\n",
       "</table>\n",
       "</div>"
      ],
      "text/plain": [
       "   hour  mode rideHailName       origTaz       destTaz  travelTimeInS  \\\n",
       "0    11   CAR          NaN  484530004012  484530024211         1197.0   \n",
       "1     7  WALK          NaN  484530018332  484910201093         8293.0   \n",
       "2    21   CAR          NaN  484530018391  484910203181         1196.0   \n",
       "3    14  WALK          NaN  484530006011  484530002053         2678.0   \n",
       "4    20  WALK          NaN  484530017291  484530017761         1452.0   \n",
       "\n",
       "   generalizedTimeInS      cost  generalizedCost   distanceInM  \\\n",
       "0              1334.0  0.724558         3.411086  18578.411000   \n",
       "1              8293.0  0.000000        16.701181  41466.658182   \n",
       "2              2699.0  0.790165         6.225651  20260.634000   \n",
       "3              2678.0  0.000000         5.393194   3481.269000   \n",
       "4              1452.0  0.000000         2.924167   1887.808000   \n",
       "\n",
       "   payloadWeightInKg        energy  level4CavTravelTimeScalingFactor  \\\n",
       "0                0.0  4.320284e+07                               1.0   \n",
       "1                0.0  0.000000e+00                               1.0   \n",
       "2                0.0  4.726030e+07                               1.0   \n",
       "3                0.0  1.845073e+05                               1.0   \n",
       "4                0.0  1.000538e+05                               1.0   \n",
       "\n",
       "   failedTrips  observations  iterations  \n",
       "0            0             1           1  \n",
       "1            0             1           1  \n",
       "2            0             1           1  \n",
       "3            0             1           1  \n",
       "4            0             1           1  "
      ]
     },
     "execution_count": 7,
     "metadata": {},
     "output_type": "execute_result"
    }
   ],
   "source": [
    "beam_skim.head(5)"
   ]
  },
  {
   "cell_type": "code",
   "execution_count": 10,
   "id": "106fec97-26a7-4e71-a1ee-6b746a893b9e",
   "metadata": {},
   "outputs": [],
   "source": [
    "beam_skim_sample = beam_skim.head(1000)\n",
    "beam_skim_sample.to_csv('RawData/beam_skim_sample_aus.csv')\n",
    "# print(beam_skim.pathType.unique())\n",
    "# print(beam_skim.timePeriod.unique())"
   ]
  },
  {
   "cell_type": "code",
   "execution_count": 20,
   "id": "bfbf76de-7f92-4013-836e-2022ce9f342a",
   "metadata": {},
   "outputs": [
    {
     "name": "stdout",
     "output_type": "stream",
     "text": [
      "26989\n"
     ]
    },
    {
     "data": {
      "text/html": [
       "<div>\n",
       "<style scoped>\n",
       "    .dataframe tbody tr th:only-of-type {\n",
       "        vertical-align: middle;\n",
       "    }\n",
       "\n",
       "    .dataframe tbody tr th {\n",
       "        vertical-align: top;\n",
       "    }\n",
       "\n",
       "    .dataframe thead th {\n",
       "        text-align: right;\n",
       "    }\n",
       "</style>\n",
       "<table border=\"1\" class=\"dataframe\">\n",
       "  <thead>\n",
       "    <tr style=\"text-align: right;\">\n",
       "      <th></th>\n",
       "      <th>hour</th>\n",
       "      <th>mode</th>\n",
       "      <th>origin</th>\n",
       "      <th>destination</th>\n",
       "      <th>travelTimeInS</th>\n",
       "      <th>distanceInM</th>\n",
       "      <th>beam_dist_mile</th>\n",
       "      <th>beam_time_hour</th>\n",
       "    </tr>\n",
       "  </thead>\n",
       "  <tbody>\n",
       "    <tr>\n",
       "      <th>18</th>\n",
       "      <td>7</td>\n",
       "      <td>CAR</td>\n",
       "      <td>484530024221</td>\n",
       "      <td>484530011001</td>\n",
       "      <td>850.0</td>\n",
       "      <td>10059.711</td>\n",
       "      <td>6.250803</td>\n",
       "      <td>0.236111</td>\n",
       "    </tr>\n",
       "    <tr>\n",
       "      <th>36</th>\n",
       "      <td>7</td>\n",
       "      <td>CAR</td>\n",
       "      <td>484530017123</td>\n",
       "      <td>484530020042</td>\n",
       "      <td>284.0</td>\n",
       "      <td>3165.056</td>\n",
       "      <td>1.966671</td>\n",
       "      <td>0.078889</td>\n",
       "    </tr>\n",
       "    <tr>\n",
       "      <th>73</th>\n",
       "      <td>7</td>\n",
       "      <td>CAR</td>\n",
       "      <td>484910203231</td>\n",
       "      <td>484530018491</td>\n",
       "      <td>1732.0</td>\n",
       "      <td>26022.497</td>\n",
       "      <td>16.169599</td>\n",
       "      <td>0.481111</td>\n",
       "    </tr>\n",
       "    <tr>\n",
       "      <th>88</th>\n",
       "      <td>7</td>\n",
       "      <td>CAR</td>\n",
       "      <td>484910204053</td>\n",
       "      <td>484530017162</td>\n",
       "      <td>1296.0</td>\n",
       "      <td>17426.009</td>\n",
       "      <td>10.827999</td>\n",
       "      <td>0.360000</td>\n",
       "    </tr>\n",
       "    <tr>\n",
       "      <th>94</th>\n",
       "      <td>7</td>\n",
       "      <td>CAR</td>\n",
       "      <td>484530009023</td>\n",
       "      <td>484530009012</td>\n",
       "      <td>141.0</td>\n",
       "      <td>1618.452</td>\n",
       "      <td>1.005658</td>\n",
       "      <td>0.039167</td>\n",
       "    </tr>\n",
       "  </tbody>\n",
       "</table>\n",
       "</div>"
      ],
      "text/plain": [
       "    hour mode        origin   destination  travelTimeInS  distanceInM  \\\n",
       "18     7  CAR  484530024221  484530011001          850.0    10059.711   \n",
       "36     7  CAR  484530017123  484530020042          284.0     3165.056   \n",
       "73     7  CAR  484910203231  484530018491         1732.0    26022.497   \n",
       "88     7  CAR  484910204053  484530017162         1296.0    17426.009   \n",
       "94     7  CAR  484530009023  484530009012          141.0     1618.452   \n",
       "\n",
       "    beam_dist_mile  beam_time_hour  \n",
       "18        6.250803        0.236111  \n",
       "36        1.966671        0.078889  \n",
       "73       16.169599        0.481111  \n",
       "88       10.827999        0.360000  \n",
       "94        1.005658        0.039167  "
      ]
     },
     "execution_count": 20,
     "metadata": {},
     "output_type": "execute_result"
    }
   ],
   "source": [
    "if region == 'SFBay':\n",
    "    beam_skim_out.loc[:, 'beam_dist_mile'] = beam_skim_out.loc[:, 'DIST_meters'] * meter_to_mile\n",
    "    beam_skim_out.loc[:, 'beam_time_hour'] = beam_skim_out.loc[:, 'TIME_minutes'] * min_to_hour\n",
    "elif region == 'Austin':\n",
    "    beam_skim_out.loc[:, 'beam_dist_mile'] = beam_skim_out.loc[:, 'distanceInM'] * meter_to_mile\n",
    "    beam_skim_out.loc[:, 'beam_time_hour'] = beam_skim_out.loc[:, 'travelTimeInS'] * sec_to_hour\n",
    "    print(len(beam_skim_out))\n",
    "beam_skim_out.head(5)"
   ]
  },
  {
   "cell_type": "code",
   "execution_count": 12,
   "id": "a362a647-49c7-4dd6-b136-8cccc91d65e8",
   "metadata": {},
   "outputs": [
    {
     "data": {
      "text/html": [
       "<div>\n",
       "<style scoped>\n",
       "    .dataframe tbody tr th:only-of-type {\n",
       "        vertical-align: middle;\n",
       "    }\n",
       "\n",
       "    .dataframe tbody tr th {\n",
       "        vertical-align: top;\n",
       "    }\n",
       "\n",
       "    .dataframe thead th {\n",
       "        text-align: right;\n",
       "    }\n",
       "</style>\n",
       "<table border=\"1\" class=\"dataframe\">\n",
       "  <thead>\n",
       "    <tr style=\"text-align: right;\">\n",
       "      <th></th>\n",
       "      <th>start_cbg</th>\n",
       "      <th>end_cbg</th>\n",
       "      <th>start_hour</th>\n",
       "      <th>vehicle_weight_class</th>\n",
       "      <th>trip_distance_mile</th>\n",
       "      <th>travel_time_h</th>\n",
       "      <th>trip_count</th>\n",
       "      <th>trip_avg_speed_mph</th>\n",
       "    </tr>\n",
       "  </thead>\n",
       "  <tbody>\n",
       "    <tr>\n",
       "      <th>0</th>\n",
       "      <td>480019501001</td>\n",
       "      <td>50199536021</td>\n",
       "      <td>16</td>\n",
       "      <td>1</td>\n",
       "      <td>231.856151</td>\n",
       "      <td>3.417222</td>\n",
       "      <td>1</td>\n",
       "      <td>67.849304</td>\n",
       "    </tr>\n",
       "    <tr>\n",
       "      <th>2</th>\n",
       "      <td>480019501001</td>\n",
       "      <td>50910209001</td>\n",
       "      <td>15</td>\n",
       "      <td>1</td>\n",
       "      <td>206.494618</td>\n",
       "      <td>2.896667</td>\n",
       "      <td>1</td>\n",
       "      <td>71.286980</td>\n",
       "    </tr>\n",
       "    <tr>\n",
       "      <th>3</th>\n",
       "      <td>480019501001</td>\n",
       "      <td>220039505002</td>\n",
       "      <td>17</td>\n",
       "      <td>1</td>\n",
       "      <td>226.728172</td>\n",
       "      <td>4.048889</td>\n",
       "      <td>1</td>\n",
       "      <td>55.997627</td>\n",
       "    </tr>\n",
       "    <tr>\n",
       "      <th>5</th>\n",
       "      <td>480019501001</td>\n",
       "      <td>220170239042</td>\n",
       "      <td>5</td>\n",
       "      <td>1</td>\n",
       "      <td>129.240171</td>\n",
       "      <td>1.965556</td>\n",
       "      <td>1</td>\n",
       "      <td>65.752489</td>\n",
       "    </tr>\n",
       "    <tr>\n",
       "      <th>6</th>\n",
       "      <td>480019501001</td>\n",
       "      <td>220170240002</td>\n",
       "      <td>14</td>\n",
       "      <td>1</td>\n",
       "      <td>141.670150</td>\n",
       "      <td>2.004722</td>\n",
       "      <td>1</td>\n",
       "      <td>70.668220</td>\n",
       "    </tr>\n",
       "  </tbody>\n",
       "</table>\n",
       "</div>"
      ],
      "text/plain": [
       "      start_cbg       end_cbg  start_hour  vehicle_weight_class  \\\n",
       "0  480019501001   50199536021          16                     1   \n",
       "2  480019501001   50910209001          15                     1   \n",
       "3  480019501001  220039505002          17                     1   \n",
       "5  480019501001  220170239042           5                     1   \n",
       "6  480019501001  220170240002          14                     1   \n",
       "\n",
       "   trip_distance_mile  travel_time_h  trip_count  trip_avg_speed_mph  \n",
       "0          231.856151       3.417222           1           67.849304  \n",
       "2          206.494618       2.896667           1           71.286980  \n",
       "3          226.728172       4.048889           1           55.997627  \n",
       "5          129.240171       1.965556           1           65.752489  \n",
       "6          141.670150       2.004722           1           70.668220  "
      ]
     },
     "execution_count": 12,
     "metadata": {},
     "output_type": "execute_result"
    }
   ],
   "source": [
    "# load INRIX skim data\n",
    "inrix_dir = 'PrivateData/INRIX'\n",
    "inrix_file = 'TX_travel_time.csv'\n",
    "inrix_skim = read_csv(os.path.join(inrix_dir, inrix_file))\n",
    "inrix_skim = inrix_skim.loc[inrix_skim['vehicle_weight_class'] == 1]\n",
    "inrix_skim.head(5)"
   ]
  },
  {
   "cell_type": "code",
   "execution_count": 13,
   "id": "854f9c29-bbc6-41f2-b00b-46c75d975d2c",
   "metadata": {},
   "outputs": [
    {
     "data": {
      "text/plain": [
       "<Axes: xlabel='start_hour'>"
      ]
     },
     "execution_count": 13,
     "metadata": {},
     "output_type": "execute_result"
    },
    {
     "data": {
      "image/png": "[encoded data removed]",
      "text/plain": [
       "<Figure size 432x288 with 1 Axes>"
      ]
     },
     "metadata": {
      "needs_background": "light"
     },
     "output_type": "display_data"
    }
   ],
   "source": [
    "hourly_trip_count = inrix_skim.groupby('start_hour')[['trip_count']].sum()\n",
    "hourly_trip_count.plot()"
   ]
  },
  {
   "cell_type": "code",
   "execution_count": 21,
   "id": "e20a7a39-4393-4b6f-8431-d54637adb504",
   "metadata": {},
   "outputs": [
    {
     "name": "stdout",
     "output_type": "stream",
     "text": [
      "13627\n"
     ]
    },
    {
     "data": {
      "text/html": [
       "<div>\n",
       "<style scoped>\n",
       "    .dataframe tbody tr th:only-of-type {\n",
       "        vertical-align: middle;\n",
       "    }\n",
       "\n",
       "    .dataframe tbody tr th {\n",
       "        vertical-align: top;\n",
       "    }\n",
       "\n",
       "    .dataframe thead th {\n",
       "        text-align: right;\n",
       "    }\n",
       "</style>\n",
       "<table border=\"1\" class=\"dataframe\">\n",
       "  <thead>\n",
       "    <tr style=\"text-align: right;\">\n",
       "      <th></th>\n",
       "      <th>hour</th>\n",
       "      <th>mode</th>\n",
       "      <th>origin</th>\n",
       "      <th>destination</th>\n",
       "      <th>travelTimeInS</th>\n",
       "      <th>distanceInM</th>\n",
       "      <th>beam_dist_mile</th>\n",
       "      <th>beam_time_hour</th>\n",
       "      <th>inrix_dist_mile</th>\n",
       "      <th>inrix_time_hour</th>\n",
       "      <th>sample_size</th>\n",
       "    </tr>\n",
       "  </thead>\n",
       "  <tbody>\n",
       "    <tr>\n",
       "      <th>0</th>\n",
       "      <td>7</td>\n",
       "      <td>CAR</td>\n",
       "      <td>484530024221</td>\n",
       "      <td>484530011001</td>\n",
       "      <td>850.0</td>\n",
       "      <td>10059.7110</td>\n",
       "      <td>6.250803</td>\n",
       "      <td>0.236111</td>\n",
       "      <td>6.633690</td>\n",
       "      <td>0.675386</td>\n",
       "      <td>18</td>\n",
       "    </tr>\n",
       "    <tr>\n",
       "      <th>1</th>\n",
       "      <td>7</td>\n",
       "      <td>CAR</td>\n",
       "      <td>484910203231</td>\n",
       "      <td>484530018491</td>\n",
       "      <td>1732.0</td>\n",
       "      <td>26022.4970</td>\n",
       "      <td>16.169599</td>\n",
       "      <td>0.481111</td>\n",
       "      <td>14.054463</td>\n",
       "      <td>0.846389</td>\n",
       "      <td>1</td>\n",
       "    </tr>\n",
       "    <tr>\n",
       "      <th>2</th>\n",
       "      <td>7</td>\n",
       "      <td>CAR</td>\n",
       "      <td>484530009023</td>\n",
       "      <td>484530009012</td>\n",
       "      <td>141.0</td>\n",
       "      <td>1618.4520</td>\n",
       "      <td>1.005658</td>\n",
       "      <td>0.039167</td>\n",
       "      <td>1.117930</td>\n",
       "      <td>0.084074</td>\n",
       "      <td>3</td>\n",
       "    </tr>\n",
       "    <tr>\n",
       "      <th>3</th>\n",
       "      <td>7</td>\n",
       "      <td>CAR</td>\n",
       "      <td>484530018553</td>\n",
       "      <td>484910208051</td>\n",
       "      <td>679.5</td>\n",
       "      <td>10946.7185</td>\n",
       "      <td>6.801962</td>\n",
       "      <td>0.188750</td>\n",
       "      <td>7.986754</td>\n",
       "      <td>0.347421</td>\n",
       "      <td>14</td>\n",
       "    </tr>\n",
       "    <tr>\n",
       "      <th>4</th>\n",
       "      <td>7</td>\n",
       "      <td>CAR</td>\n",
       "      <td>484530018411</td>\n",
       "      <td>484530018531</td>\n",
       "      <td>506.0</td>\n",
       "      <td>6686.1585</td>\n",
       "      <td>4.154578</td>\n",
       "      <td>0.140556</td>\n",
       "      <td>4.855038</td>\n",
       "      <td>0.414074</td>\n",
       "      <td>3</td>\n",
       "    </tr>\n",
       "  </tbody>\n",
       "</table>\n",
       "</div>"
      ],
      "text/plain": [
       "   hour mode        origin   destination  travelTimeInS  distanceInM  \\\n",
       "0     7  CAR  484530024221  484530011001          850.0   10059.7110   \n",
       "1     7  CAR  484910203231  484530018491         1732.0   26022.4970   \n",
       "2     7  CAR  484530009023  484530009012          141.0    1618.4520   \n",
       "3     7  CAR  484530018553  484910208051          679.5   10946.7185   \n",
       "4     7  CAR  484530018411  484530018531          506.0    6686.1585   \n",
       "\n",
       "   beam_dist_mile  beam_time_hour  inrix_dist_mile  inrix_time_hour  \\\n",
       "0        6.250803        0.236111         6.633690         0.675386   \n",
       "1       16.169599        0.481111        14.054463         0.846389   \n",
       "2        1.005658        0.039167         1.117930         0.084074   \n",
       "3        6.801962        0.188750         7.986754         0.347421   \n",
       "4        4.154578        0.140556         4.855038         0.414074   \n",
       "\n",
       "   sample_size  \n",
       "0           18  \n",
       "1            1  \n",
       "2            3  \n",
       "3           14  \n",
       "4            3  "
      ]
     },
     "execution_count": 21,
     "metadata": {},
     "output_type": "execute_result"
    }
   ],
   "source": [
    "inrix_skim_am = inrix_skim.loc[inrix_skim['start_hour'] == 7]\n",
    "inrix_skim_am = inrix_skim_am[['start_cbg', 'end_cbg', \n",
    "                               'trip_distance_mile', 'travel_time_h', 'trip_count']]\n",
    "inrix_skim_am.columns = ['origin', 'destination', \n",
    "                         'inrix_dist_mile', 'inrix_time_hour', 'sample_size']\n",
    "if region == 'Austin':\n",
    "    beam_skim_out = beam_skim_out.rename(columns = {'origTaz':'origin',\n",
    "                                          'destTaz': 'destination'})\n",
    "beam_skim_compare = pd.merge(beam_skim_out,\n",
    "                             inrix_skim_am,\n",
    "                             on = ['origin', 'destination'],\n",
    "                             how = 'inner')\n",
    "print(len(beam_skim_compare))\n",
    "beam_skim_compare.head(5)"
   ]
  },
  {
   "cell_type": "code",
   "execution_count": 16,
   "id": "c069f03e-b5fa-4fcb-97a9-f0f16cce726c",
   "metadata": {},
   "outputs": [
    {
     "data": {
      "text/plain": [
       "Index(['hour', 'mode', 'origTaz', 'destTaz', 'travelTimeInS', 'distanceInM',\n",
       "       'beam_dist_mile', 'beam_time_hour'],\n",
       "      dtype='object')"
      ]
     },
     "execution_count": 16,
     "metadata": {},
     "output_type": "execute_result"
    }
   ],
   "source": [
    "beam_skim_out.columns"
   ]
  },
  {
   "cell_type": "code",
   "execution_count": 20,
   "id": "bdcacd45-6eab-43b6-bf61-e75e6cd9b3c5",
   "metadata": {},
   "outputs": [
    {
     "name": "stdout",
     "output_type": "stream",
     "text": [
      "1047124\n"
     ]
    }
   ],
   "source": [
    "print(beam_skim_compare.sample_size.sum())"
   ]
  },
  {
   "cell_type": "code",
   "execution_count": 22,
   "id": "1ef6c6b0-98ba-4730-a2c7-bc601524496d",
   "metadata": {},
   "outputs": [
    {
     "name": "stdout",
     "output_type": "stream",
     "text": [
      "r2 score for routed distance 0.69\n",
      "r2 score for routed travel time 0.12\n"
     ]
    }
   ],
   "source": [
    "dist_r2 = r2_score(beam_skim_compare['inrix_dist_mile'], \n",
    "                  beam_skim_compare['beam_dist_mile'])\n",
    "print('r2 score for routed distance ' + str(np.round(dist_r2, 2)))\n",
    "\n",
    "time_r2 = r2_score(beam_skim_compare['inrix_time_hour'], \n",
    "                  beam_skim_compare['beam_time_hour'])\n",
    "print('r2 score for routed travel time ' + str(np.round(time_r2, 2)))"
   ]
  },
  {
   "cell_type": "code",
   "execution_count": 32,
   "id": "75c297d2-74ec-4592-a32b-7bfdad6384c2",
   "metadata": {},
   "outputs": [
    {
     "name": "stdout",
     "output_type": "stream",
     "text": [
      "8.763428082143934 7.86806109206099 0.40945153240844684 0.24158410484779666\n"
     ]
    }
   ],
   "source": [
    "print(np.round(beam_skim_compare['inrix_dist_mile'].mean(), 2),\n",
    "      np.round(beam_skim_compare['beam_dist_mile'].mean(), 2),\n",
    "     np.round(beam_skim_compare['inrix_time_hour'].mean(), 2),\n",
    "     np.round(beam_skim_compare['beam_time_hour'].mean())"
   ]
  },
  {
   "cell_type": "code",
   "execution_count": 25,
   "id": "7b195fac-1e52-4236-a4cb-1706a501fce1",
   "metadata": {},
   "outputs": [
    {
     "data": {
      "image/png": "[encoded data removed]",
      "text/plain": [
       "<Figure size 360x360 with 1 Axes>"
      ]
     },
     "metadata": {
      "needs_background": "light"
     },
     "output_type": "display_data"
    }
   ],
   "source": [
    "\n",
    "plt.figure(figsize = (5,5))\n",
    "sns.scatterplot(data=beam_skim_compare, x=\"inrix_dist_mile\", \n",
    "                y=\"beam_dist_mile\", alpha = 0.01, \n",
    "                size = 'sample_size')\n",
    "plt.xlim([0,80])\n",
    "plt.ylim([0,80])\n",
    "plt.show()"
   ]
  },
  {
   "cell_type": "code",
   "execution_count": 30,
   "id": "d5f6232b-8c5f-4821-b236-b13f4d3a3655",
   "metadata": {},
   "outputs": [
    {
     "data": {
      "image/png": "[encoded data removed]",
      "text/plain": [
       "<Figure size 432x432 with 3 Axes>"
      ]
     },
     "metadata": {
      "needs_background": "light"
     },
     "output_type": "display_data"
    }
   ],
   "source": [
    "sns.jointplot(data=beam_skim_compare, x=\"inrix_dist_mile\", \n",
    "                y=\"beam_dist_mile\", kind=\"hist\")\n",
    "plt.xlim([0,80])\n",
    "plt.ylim([0,80])\n",
    "plt.savefig('plots/Aus_travel_dist_skim_validation.png', dpi = 300, \n",
    "           bbox_inches = 'tight')\n",
    "plt.show()"
   ]
  },
  {
   "cell_type": "code",
   "execution_count": 28,
   "id": "75e5c02d-73d7-47f5-805b-247b2ad53029",
   "metadata": {},
   "outputs": [
    {
     "data": {
      "image/png": "[encoded data removed]",
      "text/plain": [
       "<Figure size 360x360 with 1 Axes>"
      ]
     },
     "metadata": {
      "needs_background": "light"
     },
     "output_type": "display_data"
    }
   ],
   "source": [
    "plt.figure(figsize = (5,5))\n",
    "sns.scatterplot(data=beam_skim_compare, x=\"inrix_time_hour\", \n",
    "                y=\"beam_time_hour\", alpha = 0.01, \n",
    "                size = 'sample_size')\n",
    "plt.xlim([0,1.5])\n",
    "plt.ylim([0,1.5])\n",
    "plt.show()"
   ]
  },
  {
   "cell_type": "code",
   "execution_count": 29,
   "id": "32ec9399-d3dc-4b0e-b4f3-edbee82d3204",
   "metadata": {},
   "outputs": [
    {
     "name": "stdout",
     "output_type": "stream",
     "text": [
      "991\n",
      "989\n"
     ]
    }
   ],
   "source": [
    "print(len(beam_skim_compare.origin.unique()))\n",
    "print(len(beam_skim_compare.destination.unique()))"
   ]
  },
  {
   "cell_type": "code",
   "execution_count": 31,
   "id": "328fca0f-c544-4720-b729-43418805fe91",
   "metadata": {},
   "outputs": [
    {
     "data": {
      "image/png": "[encoded data removed]",
      "text/plain": [
       "<Figure size 432x432 with 3 Axes>"
      ]
     },
     "metadata": {
      "needs_background": "light"
     },
     "output_type": "display_data"
    }
   ],
   "source": [
    "sns.jointplot(data=beam_skim_compare, x=\"inrix_time_hour\", \n",
    "                y=\"beam_time_hour\", kind=\"hist\")\n",
    "plt.xlim([0,1.5])\n",
    "plt.ylim([0,1.5])\n",
    "plt.savefig('plots/aus_travel_time_skim_validation.png', dpi = 300, \n",
    "           bbox_inches = 'tight')\n",
    "plt.show()"
   ]
  },
  {
   "cell_type": "code",
   "execution_count": 21,
   "id": "1922052e-e3a2-4a26-9faf-c89bb3d109b9",
   "metadata": {},
   "outputs": [],
   "source": [
    "beam_skim_out.to_csv('RawData/travel_skim_beam.csv.zip')"
   ]
  },
  {
   "cell_type": "code",
   "execution_count": null,
   "id": "4b77380f-2f55-44b7-8d7c-a606d0b79cba",
   "metadata": {},
   "outputs": [],
   "source": []
  }
 ],
 "metadata": {
  "kernelspec": {
   "display_name": "Python 3 (ipykernel)",
   "language": "python",
   "name": "python3"
  },
  "language_info": {
   "codemirror_mode": {
    "name": "ipython",
    "version": 3
   },
   "file_extension": ".py",
   "mimetype": "text/x-python",
   "name": "python",
   "nbconvert_exporter": "python",
   "pygments_lexer": "ipython3",
   "version": "3.8.8"
  }
 },
 "nbformat": 4,
 "nbformat_minor": 5
}
