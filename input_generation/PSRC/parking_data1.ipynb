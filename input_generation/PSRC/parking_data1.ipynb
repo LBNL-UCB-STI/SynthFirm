{
 "cells": [
  {
   "cell_type": "code",
   "execution_count": null,
   "metadata": {},
   "outputs": [],
   "source": [
    "import requests\n",
    "import pandas as pd\n",
    "from datetime import datetime\n",
    "import pytz"
   ]
  },
  {
   "cell_type": "markdown",
   "metadata": {},
   "source": [
    "Get the curbs zones data "
   ]
  },
  {
   "cell_type": "code",
   "execution_count": null,
   "metadata": {},
   "outputs": [],
   "source": [
    "#get the parking zone details \n",
    "curbiq_token = 'c2d003e0-464d-4fd3-aa18-af647054fe1b'\n",
    "url = f'https://v2.curbiq-curb-api.io/curbs/zones?curbiq_token={curbiq_token}'\n",
    "response = requests.get(url, verify = False)\n",
    "# Check if the request was successful\n",
    "if response.status_code == 200:\n",
    "    # Parse the JSON response\n",
    "    data = response.json()\n",
    "    print(data)\n",
    "else:\n",
    "    print(f\"Error: {response.status_code} - {response.text}\")"
   ]
  },
  {
   "cell_type": "code",
   "execution_count": null,
   "metadata": {},
   "outputs": [],
   "source": [
    "\"\"\"acces the curb zones data by defining more parameters\"\"\"\n",
    "#get the parking zone details \n",
    "curbiq_token = 'c2d003e0-464d-4fd3-aa18-af647054fe1b'\n",
    "url = f'https://v2.curbiq-curb-api.io/curbs/zones?curbiq_token={curbiq_token}'\n",
    "response = requests.get(url, params = {    \"min_lat\": \"47.4919\",\n",
    "      \"min_lng\": \"-122.4594\",\n",
    "      \"max_lat\": \"47.7341\",\n",
    "      \"max_lng\": \"-122.2244\", \n",
    "      \"include_geometry\": \"true\"} , verify = False)\n",
    "# Check if the request was successful\n",
    "if response.status_code == 200:\n",
    "    # Parse the JSON response\n",
    "    data = response.json()\n",
    "    print(data)\n",
    "else:\n",
    "    print(f\"Error: {response.status_code} - {response.text}\")"
   ]
  },
  {
   "cell_type": "code",
   "execution_count": null,
   "metadata": {},
   "outputs": [],
   "source": [
    "#convert parking zone details into a dataframe\n",
    "zones = data['data'][0]['zones']\n",
    "df_zones = pd.json_normalize(zones)"
   ]
  },
  {
   "cell_type": "code",
   "execution_count": null,
   "metadata": {},
   "outputs": [],
   "source": [
    "curb_zone_id  = df_zones['curb_zone_id']\n",
    "print(curb_zone_id)"
   ]
  },
  {
   "cell_type": "markdown",
   "metadata": {},
   "source": [
    "Get the curb/spaces data (now getting empty cells)"
   ]
  },
  {
   "cell_type": "code",
   "execution_count": null,
   "metadata": {},
   "outputs": [],
   "source": [
    "#get the parking zone details \n",
    "curbiq_token = 'c2d003e0-464d-4fd3-aa18-af647054fe1b'\n",
    "url = f'https://v2.curbiq-curb-api.io/curbs/spaces?curbiq_token={curbiq_token}'\n",
    "response = requests.get(url, verify = False)\n",
    "# Check if the request was successful\n",
    "if response.status_code == 200:\n",
    "    # Parse the JSON response\n",
    "    data = response.json()\n",
    "    print(data)\n",
    "else:\n",
    "    print(f\"Error: {response.status_code} - {response.text}\")"
   ]
  },
  {
   "cell_type": "markdown",
   "metadata": {},
   "source": [
    "Get the curb/areas data (now getting empty cells)"
   ]
  },
  {
   "cell_type": "code",
   "execution_count": null,
   "metadata": {},
   "outputs": [],
   "source": [
    "#get the parking zone details \n",
    "curbiq_token = 'c2d003e0-464d-4fd3-aa18-af647054fe1b'\n",
    "url = f'https://v2.curbiq-curb-api.io/curbs/areas?curbiq_token={curbiq_token}'\n",
    "response = requests.get(url, verify = False)\n",
    "# Check if the request was successful\n",
    "if response.status_code == 200:\n",
    "    # Parse the JSON response\n",
    "    data = response.json()\n",
    "    print(data)\n",
    "else:\n",
    "    print(f\"Error: {response.status_code} - {response.text}\")"
   ]
  },
  {
   "cell_type": "markdown",
   "metadata": {},
   "source": [
    "Get the Curbs/events "
   ]
  },
  {
   "cell_type": "code",
   "execution_count": null,
   "metadata": {},
   "outputs": [],
   "source": [
    "def get_timestamp_ms(hour, minute, second, day, month, year, tz_str='UTC'):\n",
    "    \"\"\"\n",
    "    Returns the Unix timestamp in milliseconds for a given date and time.\n",
    "    \n",
    "    Parameters:\n",
    "        hour (int): Hour (0–23)\n",
    "        minute (int): Minute (0–59)\n",
    "        second (int): Second (0–59)\n",
    "        day (int): Day of the month\n",
    "        month (int): Month (1–12)\n",
    "        year (int): Full year (e.g., 2025)\n",
    "        tz_str (str): Time zone string (default 'UTC'; e.g., 'US/Pacific')\n",
    "\n",
    "    Returns:\n",
    "        int: Unix timestamp in milliseconds\n",
    "    \"\"\"\n",
    "    # Use a timezone-aware datetime object\n",
    "    tz = pytz.timezone(tz_str)\n",
    "    \n",
    "    # Naive datetime\n",
    "    naive_dt = datetime(year, month, day, hour, minute, second)\n",
    "    \n",
    "    # Localize with DST awareness\n",
    "    localized_dt = tz.localize(naive_dt, is_dst=None)\n",
    "    \n",
    "    # Convert to timestamp in milliseconds\n",
    "    timestamp_ms = int(localized_dt.timestamp() * 1000)\n",
    "    \n",
    "    return timestamp_ms\n",
    "\n",
    "# # Example usage\n",
    "# ts = get_timestamp_ms(20, 0, 0, 2, 6, 2025, tz_str='US/Pacific')\n",
    "# print(\"Timestamp (ms):\", ts)\n"
   ]
  },
  {
   "cell_type": "code",
   "execution_count": null,
   "metadata": {},
   "outputs": [],
   "source": [
    "#to get the parking event details \n",
    "import requests\n",
    "start_time = get_timestamp_ms(4, 0, 0, 2, 6, 2025, tz_str='US/Pacific')\n",
    "end_time = get_timestamp_ms(14, 0, 0, 2, 6, 2025, tz_str='US/Pacific')\n",
    "curb_zone_id1 = curb_zone_id[0]\n",
    "print(curb_zone_id1)\n",
    "response = requests.get(\n",
    "    \"https://v2.curbiq-curb-api.io/events/events\",\n",
    "    params={\n",
    "      \"curbiq_token\": \"c2d003e0-464d-4fd3-aa18-af647054fe1b\",\n",
    "      \"curb_zone_id\": curb_zone_id1,\n",
    "      \"start_time\": start_time,\n",
    "      \"end_time\": end_time\n",
    "    }\n",
    ", verify = False\n",
    ")\n",
    "print(\"Status:\", response.status_code)\n",
    "print(response.json())\n",
    "print(start_time)\n",
    "print(end_time)"
   ]
  },
  {
   "cell_type": "code",
   "execution_count": null,
   "metadata": {},
   "outputs": [],
   "source": [
    "# #to get the parking event details \n",
    "# import requests\n",
    "\n",
    "# response = requests.get(\n",
    "#     \"https://v2.curbiq-curb-api.io/events/events\",\n",
    "#     params={\n",
    "#       \"curbiq_token\": \"c2d003e0-464d-4fd3-aa18-af647054fe1b\",\n",
    "#       \"curb_zone_id\": \"63d8fb53-c903-4553-aff5-7184096baf17\",\n",
    "#       \"start_time\": \"1748857200000\", # june 2nd 8am PT\n",
    "#       \"end_time\": \"1748929200000\"# june 2nd 8pm PT\n",
    "#     }\n",
    "# , verify = False\n",
    "# )\n",
    "# print(\"Status:\", response.status_code)\n",
    "# print(response.json())"
   ]
  },
  {
   "cell_type": "code",
   "execution_count": null,
   "metadata": {},
   "outputs": [],
   "source": [
    "data = response.json()\n",
    "print(data)"
   ]
  },
  {
   "cell_type": "code",
   "execution_count": null,
   "metadata": {},
   "outputs": [],
   "source": [
    "import pandas as pd\n",
    "\n",
    "# Assuming `data` is your parsed JSON dictionary\n",
    "events = data['data']['events']\n",
    "\n",
    "# Normalize into a flat DataFrame\n",
    "df = pd.json_normalize(events)\n",
    "\n",
    "# Display the result\n",
    "print(df.head())\n"
   ]
  }
 ],
 "metadata": {
  "kernelspec": {
   "display_name": "Python 3",
   "language": "python",
   "name": "python3"
  },
  "language_info": {
   "codemirror_mode": {
    "name": "ipython",
    "version": 3
   },
   "file_extension": ".py",
   "mimetype": "text/x-python",
   "name": "python",
   "nbconvert_exporter": "python",
   "pygments_lexer": "ipython3",
   "version": "3.13.5"
  }
 },
 "nbformat": 4,
 "nbformat_minor": 2
}
