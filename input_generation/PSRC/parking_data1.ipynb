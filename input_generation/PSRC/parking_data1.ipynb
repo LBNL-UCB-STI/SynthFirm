{
 "cells": [
  {
   "cell_type": "code",
   "execution_count": 1,
   "metadata": {},
   "outputs": [],
   "source": [
    "import requests\n",
    "import pandas as pd\n",
    "from datetime import datetime\n",
    "import pytz\n",
    "import warnings\n",
    "warnings.filterwarnings(\"ignore\")"
   ]
  },
  {
   "cell_type": "markdown",
   "metadata": {},
   "source": [
    "Get the curbs zones data "
   ]
  },
  {
   "cell_type": "code",
   "execution_count": 2,
   "metadata": {},
   "outputs": [],
   "source": [
    "#get the parking zone details \n",
    "curbiq_token = 'c2d003e0-464d-4fd3-aa18-af647054fe1b'\n",
    "url = f'https://v2.curbiq-curb-api.io/curbs/zones?curbiq_token={curbiq_token}'\n",
    "response = requests.get(url, verify = False)\n",
    "# Check if the request was successful\n",
    "if response.status_code == 200:\n",
    "    # Parse the JSON response\n",
    "    response.encoding = \"utf-8\"\n",
    "    data = response.json()\n",
    "    # print(data)\n",
    "else:\n",
    "    print(f\"Error: {response.status_code} - {response.text}\")"
   ]
  },
  {
   "cell_type": "code",
   "execution_count": 14,
   "metadata": {},
   "outputs": [],
   "source": [
    "## adding time to this search\n",
    "#get the parking zone details \n",
    "curbiq_token = 'c2d003e0-464d-4fd3-aa18-af647054fe1b'\n",
    "date = get_timestamp_ms(0, 0, 0, 9, 3, 2025, tz_str='US/Pacific') \n",
    "url = f'https://v2.curbiq-curb-api.io/curbs/zones?curbiq_token={curbiq_token}'\n",
    "response = requests.get(\n",
    "    \"https://v2.curbiq-curb-api.io/curbs/zones\",\n",
    "        params={\n",
    "          \"curbiq_token\": \"c2d003e0-464d-4fd3-aa18-af647054fe1b\",\n",
    "         \"curb_zone_id\":\"63d8fb53-c903-4553-aff5-7184096baf17\",\n",
    "          \"time\": 1741392795000,\n",
    "          \"city_name\": \"seattle\",\n",
    "        }\n",
    "    , verify = False)\n",
    "# Check if the request was successful\n",
    "if response.status_code == 200:\n",
    "    # Parse the JSON response\n",
    "    response.encoding = \"utf-8\"\n",
    "    data = response.json()\n",
    "    # print(data)\n",
    "else:\n",
    "    print(f\"Error: {response.status_code} - {response.text}\")\n",
    "# 63d8fb53-c903-4553-aff5-7184096baf1"
   ]
  },
  {
   "cell_type": "code",
   "execution_count": 15,
   "metadata": {},
   "outputs": [
    {
     "name": "stdout",
     "output_type": "stream",
     "text": [
      "{'type': 'curbiq_api_response', 'request_type': 'zones', 'city_id': 'e0e37e56-f583-492f-89c2-083a42440d9d', 'city_name': 'seattle', 'standard_time_offset': 'UTC-8', 'dst_time_offset': 'UTC-7', 'dst_start': '2025-03-09', 'dst_end': '2025-11-02', 'query_parameters': {'city_name': 'seattle', 'curbiq_token': 'c2d003e0-464d-4fd3-aa18-af647054fe1b', 'curb_zone_id': '63d8fb53-c903-4553-aff5-7184096baf17', 'time': 1741392795000}, 'pages': {'total': 1, 'current': 1}}\n"
     ]
    }
   ],
   "source": [
    "print(data['ccds_attributes'])"
   ]
  },
  {
   "cell_type": "code",
   "execution_count": 16,
   "metadata": {},
   "outputs": [
    {
     "name": "stdout",
     "output_type": "stream",
     "text": [
      "1\n",
      "Index(['curb_zone_id', 'curb_policy_ids', 'prev_policies', 'published_date',\n",
      "       'last_updated_date', 'prev_curb_zone_ids', 'start_date', 'end_date',\n",
      "       'location_references', 'name', 'user_zone_id', 'street_name',\n",
      "       'cross_street_start_name', 'cross_street_end_name', 'length',\n",
      "       'available_space_length', 'availability_time', 'width', 'parking_angle',\n",
      "       'num_spaces', 'street_side', 'median', 'entire_roadway',\n",
      "       'curb_area_ids', 'curb_space_ids', 'ccds_attributes.demand_monitor_id',\n",
      "       'ccds_attributes.segment_id', 'ccds_attributes.curb_area_names',\n",
      "       'custom_attributes.category', 'custom_attributes.name',\n",
      "       'custom_attributes.blockid', 'custom_attributes.spacenb',\n",
      "       'custom_attributes.spacetype', 'custom_attributes.spacetypedesc',\n",
      "       'custom_attributes.blockid_spacenb'],\n",
      "      dtype='object')\n"
     ]
    }
   ],
   "source": [
    "zones_all = data['data'][0]['zones']\n",
    "df_zones_all = pd.json_normalize(zones_all)\n",
    "print(len(df_zones_all))\n",
    "print(df_zones_all.columns)\n",
    "sel_attr = ['curb_zone_id', 'street_name', 'prev_curb_zone_ids', 'start_date', 'end_date',\n",
    "            'num_spaces', 'custom_attributes.name']\n",
    "df_zones_all[sel_attr].head(5)\n",
    "df_zones_all.to_csv('/Users/xiaodanxu/Library/CloudStorage/GoogleDrive-arielinseu@gmail.com/My Drive/BEAM-CORE/Lab call/Seattle/curb_zone_df_sample1.csv')"
   ]
  },
  {
   "cell_type": "code",
   "execution_count": 4,
   "metadata": {},
   "outputs": [],
   "source": [
    "\"\"\"acces the curb zones data by defining more parameters\"\"\"\n",
    "#get the parking zone details \n",
    "curbiq_token = 'c2d003e0-464d-4fd3-aa18-af647054fe1b'\n",
    "url = f'https://v2.curbiq-curb-api.io/curbs/zones?curbiq_token={curbiq_token}'\n",
    "response = requests.get(url, params = {    \"min_lat\": \"47.4919\",\n",
    "      \"min_lng\": \"-122.4594\",\n",
    "      \"max_lat\": \"47.7341\",\n",
    "      \"max_lng\": \"-122.2244\", \n",
    "      \"include_geometry\": \"true\"} , verify = False)\n",
    "# Check if the request was successful\n",
    "if response.status_code == 200:\n",
    "    # Parse the JSON response\n",
    "    data = response.json()\n",
    "    # print(data)\n",
    "else:\n",
    "    print(f\"Error: {response.status_code} - {response.text}\")"
   ]
  },
  {
   "cell_type": "code",
   "execution_count": 63,
   "metadata": {},
   "outputs": [
    {
     "name": "stdout",
     "output_type": "stream",
     "text": [
      "20\n"
     ]
    },
    {
     "data": {
      "text/html": [
       "<div>\n",
       "<style scoped>\n",
       "    .dataframe tbody tr th:only-of-type {\n",
       "        vertical-align: middle;\n",
       "    }\n",
       "\n",
       "    .dataframe tbody tr th {\n",
       "        vertical-align: top;\n",
       "    }\n",
       "\n",
       "    .dataframe thead th {\n",
       "        text-align: right;\n",
       "    }\n",
       "</style>\n",
       "<table border=\"1\" class=\"dataframe\">\n",
       "  <thead>\n",
       "    <tr style=\"text-align: right;\">\n",
       "      <th></th>\n",
       "      <th>curb_zone_id</th>\n",
       "      <th>curb_policy_ids</th>\n",
       "      <th>prev_policies</th>\n",
       "      <th>published_date</th>\n",
       "      <th>last_updated_date</th>\n",
       "      <th>prev_curb_zone_ids</th>\n",
       "      <th>start_date</th>\n",
       "      <th>end_date</th>\n",
       "      <th>location_references</th>\n",
       "      <th>name</th>\n",
       "      <th>...</th>\n",
       "      <th>ccds_attributes.demand_monitor_id</th>\n",
       "      <th>ccds_attributes.segment_id</th>\n",
       "      <th>ccds_attributes.curb_area_names</th>\n",
       "      <th>custom_attributes.category</th>\n",
       "      <th>custom_attributes.name</th>\n",
       "      <th>custom_attributes.blockid</th>\n",
       "      <th>custom_attributes.spacenb</th>\n",
       "      <th>custom_attributes.spacetype</th>\n",
       "      <th>custom_attributes.spacetypedesc</th>\n",
       "      <th>custom_attributes.blockid_spacenb</th>\n",
       "    </tr>\n",
       "  </thead>\n",
       "  <tbody>\n",
       "    <tr>\n",
       "      <th>0</th>\n",
       "      <td>0001573a-9983-435a-8ff7-f3955b626629</td>\n",
       "      <td>[470fa4a5-f097-4f05-afb9-4204ab9763b5, 6d8a5b1...</td>\n",
       "      <td>[]</td>\n",
       "      <td>1740929186547</td>\n",
       "      <td>1740929186547</td>\n",
       "      <td>None</td>\n",
       "      <td>1704085200</td>\n",
       "      <td>None</td>\n",
       "      <td>None</td>\n",
       "      <td>9157</td>\n",
       "      <td>...</td>\n",
       "      <td>None</td>\n",
       "      <td>3037</td>\n",
       "      <td>[]</td>\n",
       "      <td>PAID</td>\n",
       "      <td>9157</td>\n",
       "      <td>31-00</td>\n",
       "      <td>-66</td>\n",
       "      <td>PS</td>\n",
       "      <td>PAY STATION</td>\n",
       "      <td>31-00-66</td>\n",
       "    </tr>\n",
       "    <tr>\n",
       "      <th>1</th>\n",
       "      <td>00050f32-dcf8-45f6-890a-7f8dc8605d93</td>\n",
       "      <td>[04db9f03-7f4a-4787-8be0-4261b352590c, 6d8a5b1...</td>\n",
       "      <td>[]</td>\n",
       "      <td>1740924865750</td>\n",
       "      <td>1740924865750</td>\n",
       "      <td>None</td>\n",
       "      <td>1704085200</td>\n",
       "      <td>None</td>\n",
       "      <td>None</td>\n",
       "      <td>78937</td>\n",
       "      <td>...</td>\n",
       "      <td>None</td>\n",
       "      <td>2188</td>\n",
       "      <td>[]</td>\n",
       "      <td>NP</td>\n",
       "      <td>78937</td>\n",
       "      <td>18-11</td>\n",
       "      <td>-20</td>\n",
       "      <td>NP</td>\n",
       "      <td>NO PARKING</td>\n",
       "      <td>18-11-20</td>\n",
       "    </tr>\n",
       "    <tr>\n",
       "      <th>2</th>\n",
       "      <td>0011154b-3b79-4ab9-99bb-67cfc3992f5d</td>\n",
       "      <td>[4e46b8a0-4391-46c2-9ead-223c6a8980d8, 6d8a5b1...</td>\n",
       "      <td>[]</td>\n",
       "      <td>1740926001602</td>\n",
       "      <td>1740926001602</td>\n",
       "      <td>None</td>\n",
       "      <td>1704085200</td>\n",
       "      <td>None</td>\n",
       "      <td>None</td>\n",
       "      <td>54513</td>\n",
       "      <td>...</td>\n",
       "      <td>None</td>\n",
       "      <td>2411</td>\n",
       "      <td>[]</td>\n",
       "      <td>PAID</td>\n",
       "      <td>54513</td>\n",
       "      <td>22-00</td>\n",
       "      <td>-70</td>\n",
       "      <td>PS</td>\n",
       "      <td>PAY STATION</td>\n",
       "      <td>22-00-70</td>\n",
       "    </tr>\n",
       "    <tr>\n",
       "      <th>3</th>\n",
       "      <td>0013ceb6-d23c-4fa3-920e-a5926c1f2cd3</td>\n",
       "      <td>[6d8a5b1f-5d62-46cd-ae53-ee5d6fbb02d5, c4fad97...</td>\n",
       "      <td>[]</td>\n",
       "      <td>1740916539378</td>\n",
       "      <td>1740916539378</td>\n",
       "      <td>None</td>\n",
       "      <td>1704085200</td>\n",
       "      <td>None</td>\n",
       "      <td>None</td>\n",
       "      <td>78065</td>\n",
       "      <td>...</td>\n",
       "      <td>None</td>\n",
       "      <td>524</td>\n",
       "      <td>[]</td>\n",
       "      <td>NP</td>\n",
       "      <td>78065</td>\n",
       "      <td>E-18</td>\n",
       "      <td>None</td>\n",
       "      <td>CLR</td>\n",
       "      <td>CLEARANCE</td>\n",
       "      <td>None</td>\n",
       "    </tr>\n",
       "    <tr>\n",
       "      <th>4</th>\n",
       "      <td>001abf70-da9f-4a55-89fa-10aa736da983</td>\n",
       "      <td>[6d8a5b1f-5d62-46cd-ae53-ee5d6fbb02d5, 767b696...</td>\n",
       "      <td>[]</td>\n",
       "      <td>1740938796206</td>\n",
       "      <td>1740938796206</td>\n",
       "      <td>None</td>\n",
       "      <td>1704085200</td>\n",
       "      <td>None</td>\n",
       "      <td>None</td>\n",
       "      <td>10005</td>\n",
       "      <td>...</td>\n",
       "      <td>None</td>\n",
       "      <td>4893</td>\n",
       "      <td>[]</td>\n",
       "      <td>NS</td>\n",
       "      <td>10005</td>\n",
       "      <td>None</td>\n",
       "      <td>None</td>\n",
       "      <td>ALLEY</td>\n",
       "      <td>ALLEY</td>\n",
       "      <td>None</td>\n",
       "    </tr>\n",
       "  </tbody>\n",
       "</table>\n",
       "<p>5 rows × 35 columns</p>\n",
       "</div>"
      ],
      "text/plain": [
       "                           curb_zone_id  \\\n",
       "0  0001573a-9983-435a-8ff7-f3955b626629   \n",
       "1  00050f32-dcf8-45f6-890a-7f8dc8605d93   \n",
       "2  0011154b-3b79-4ab9-99bb-67cfc3992f5d   \n",
       "3  0013ceb6-d23c-4fa3-920e-a5926c1f2cd3   \n",
       "4  001abf70-da9f-4a55-89fa-10aa736da983   \n",
       "\n",
       "                                     curb_policy_ids prev_policies  \\\n",
       "0  [470fa4a5-f097-4f05-afb9-4204ab9763b5, 6d8a5b1...            []   \n",
       "1  [04db9f03-7f4a-4787-8be0-4261b352590c, 6d8a5b1...            []   \n",
       "2  [4e46b8a0-4391-46c2-9ead-223c6a8980d8, 6d8a5b1...            []   \n",
       "3  [6d8a5b1f-5d62-46cd-ae53-ee5d6fbb02d5, c4fad97...            []   \n",
       "4  [6d8a5b1f-5d62-46cd-ae53-ee5d6fbb02d5, 767b696...            []   \n",
       "\n",
       "   published_date  last_updated_date prev_curb_zone_ids  start_date end_date  \\\n",
       "0   1740929186547      1740929186547               None  1704085200     None   \n",
       "1   1740924865750      1740924865750               None  1704085200     None   \n",
       "2   1740926001602      1740926001602               None  1704085200     None   \n",
       "3   1740916539378      1740916539378               None  1704085200     None   \n",
       "4   1740938796206      1740938796206               None  1704085200     None   \n",
       "\n",
       "  location_references   name  ... ccds_attributes.demand_monitor_id  \\\n",
       "0                None   9157  ...                              None   \n",
       "1                None  78937  ...                              None   \n",
       "2                None  54513  ...                              None   \n",
       "3                None  78065  ...                              None   \n",
       "4                None  10005  ...                              None   \n",
       "\n",
       "  ccds_attributes.segment_id ccds_attributes.curb_area_names  \\\n",
       "0                       3037                              []   \n",
       "1                       2188                              []   \n",
       "2                       2411                              []   \n",
       "3                        524                              []   \n",
       "4                       4893                              []   \n",
       "\n",
       "  custom_attributes.category  custom_attributes.name  \\\n",
       "0                       PAID                    9157   \n",
       "1                         NP                   78937   \n",
       "2                       PAID                   54513   \n",
       "3                         NP                   78065   \n",
       "4                         NS                   10005   \n",
       "\n",
       "  custom_attributes.blockid custom_attributes.spacenb  \\\n",
       "0                     31-00                       -66   \n",
       "1                     18-11                       -20   \n",
       "2                     22-00                       -70   \n",
       "3                      E-18                      None   \n",
       "4                      None                      None   \n",
       "\n",
       "  custom_attributes.spacetype custom_attributes.spacetypedesc  \\\n",
       "0                          PS                     PAY STATION   \n",
       "1                          NP                      NO PARKING   \n",
       "2                          PS                     PAY STATION   \n",
       "3                         CLR                       CLEARANCE   \n",
       "4                       ALLEY                           ALLEY   \n",
       "\n",
       "   custom_attributes.blockid_spacenb  \n",
       "0                           31-00-66  \n",
       "1                           18-11-20  \n",
       "2                           22-00-70  \n",
       "3                               None  \n",
       "4                               None  \n",
       "\n",
       "[5 rows x 35 columns]"
      ]
     },
     "execution_count": 63,
     "metadata": {},
     "output_type": "execute_result"
    }
   ],
   "source": [
    "#convert parking zone details into a dataframe\n",
    "zones = data['data'][0]['zones']\n",
    "df_zones = pd.json_normalize(zones)\n",
    "print(len(df_zones))\n",
    "df_zones.head(5)\n"
   ]
  },
  {
   "cell_type": "code",
   "execution_count": 13,
   "metadata": {},
   "outputs": [
    {
     "name": "stdout",
     "output_type": "stream",
     "text": [
      "0     0001573a-9983-435a-8ff7-f3955b626629\n",
      "1     00050f32-dcf8-45f6-890a-7f8dc8605d93\n",
      "2     0011154b-3b79-4ab9-99bb-67cfc3992f5d\n",
      "3     0013ceb6-d23c-4fa3-920e-a5926c1f2cd3\n",
      "4     001abf70-da9f-4a55-89fa-10aa736da983\n",
      "5     00242aa9-b0c9-4f04-b421-fe53559372cc\n",
      "6     0032bba0-c209-42fe-9452-c1cc46f22249\n",
      "7     0032e146-38c0-4e81-9934-888896a7869e\n",
      "8     00433ec8-7c62-4a37-9d9a-4f3e74e9aab6\n",
      "9     004eb7f0-e542-4919-bd5c-d27bd373e22d\n",
      "10    004ff78a-a0e1-4b43-9cfe-aa91ff592b60\n",
      "11    005096aa-6a39-48ea-be82-df1a3c1d516f\n",
      "12    0050e715-6ecf-4d8e-a747-a644792c176f\n",
      "13    0060af8b-998a-4d57-b519-a0170e4601da\n",
      "14    006a0300-c6bd-4ab4-a335-dded1fa363d3\n",
      "15    006e8a4b-fd94-4a53-917a-378bdb9d90da\n",
      "16    0074f1a4-6dff-4e17-a81e-c888c72ef258\n",
      "17    008385ac-c2d4-4ac4-8086-8521897940bc\n",
      "18    0090327e-5f96-4d51-aadb-62a964b6eab1\n",
      "19    00a0c8b6-db5e-42bf-a463-f183c3899ecb\n",
      "Name: curb_zone_id, dtype: object\n"
     ]
    }
   ],
   "source": [
    "curb_zone_id  = df_zones['curb_zone_id']\n",
    "print(curb_zone_id)\n",
    "# 63d8fb53-c903-4553-aff5-7184096baf17\n",
    "# \"00c291e4-2506-42cd-887e-8de1d3b3d0ca\""
   ]
  },
  {
   "cell_type": "markdown",
   "metadata": {},
   "source": [
    "Get the curb/spaces data (now getting empty cells)"
   ]
  },
  {
   "cell_type": "code",
   "execution_count": 10,
   "metadata": {},
   "outputs": [
    {
     "name": "stdout",
     "output_type": "stream",
     "text": [
      "{'version': '2.0.0', 'time_zone': 'UTC', 'last_updated': None, 'currency': 'USD', 'author': 'CurbIQ', 'licence_url': None, 'ccds_attributes': {'type': 'curbiq_api_response', 'request_type': 'spaces', 'query_parameters': {'curbiq_token': 'c2d003e0-464d-4fd3-aa18-af647054fe1b'}, 'pages': {'total': 1, 'current': 1}}, 'data': [{'spaces': []}]}\n"
     ]
    }
   ],
   "source": [
    "#get the parking zone details \n",
    "curbiq_token = 'c2d003e0-464d-4fd3-aa18-af647054fe1b'\n",
    "url = f'https://v2.curbiq-curb-api.io/curbs/spaces?curbiq_token={curbiq_token}'\n",
    "response = requests.get(url, headers={\"Accept\":\"*/*\"}, verify = False)\n",
    "# Check if the request was successful\n",
    "if response.status_code == 200:\n",
    "    # Parse the JSON response\n",
    "    response.encoding = \"utf-8\"\n",
    "    data = response.json()\n",
    "    print(data)\n",
    "else:\n",
    "    print(f\"Error: {response.status_code} - {response.text}\")"
   ]
  },
  {
   "cell_type": "code",
   "execution_count": 9,
   "metadata": {},
   "outputs": [
    {
     "name": "stdout",
     "output_type": "stream",
     "text": [
      "{'version': '2.0.0', 'time_zone': 'UTC', 'last_updated': None, 'currency': 'USD', 'author': 'CurbIQ', 'licence_url': None, 'ccds_attributes': {'type': 'curbiq_api_response', 'request_type': 'spaces', 'query_parameters': {'curb_space_id': '348357c3-ee1c-44a2-acea-00fea37fae6c', 'curbiq_token': 'c2d003e0-464d-4fd3-aa18-af647054fe1b'}, 'pages': {'total': 1, 'current': 1}}, 'data': [{'spaces': []}]}\n"
     ]
    }
   ],
   "source": [
    "# test specific curb space\n",
    "curb_space_id = '348357c3-ee1c-44a2-acea-00fea37fae6c'\n",
    "\n",
    "response = requests.get(\n",
    "    f'https://v2.curbiq-curb-api.io/curbs/spaces/{curb_space_id}?curbiq_token={curbiq_token}',\n",
    "    headers={\"Accept\":\"*/*\"},\n",
    ")\n",
    "\n",
    "if response.status_code == 200:\n",
    "    # Parse the JSON response\n",
    "    data = response.json()\n",
    "    print(data)\n",
    "else:\n",
    "    print(f\"Error: {response.status_code} - {response.text}\")"
   ]
  },
  {
   "cell_type": "code",
   "execution_count": null,
   "metadata": {},
   "outputs": [],
   "source": [
    "space_all = data['data'][0]['spaces']\n",
    "df_space_all = pd.json_normalize(space_all)\n",
    "print(len(df_space_all))\n",
    "df_space_all.head(5)"
   ]
  },
  {
   "cell_type": "markdown",
   "metadata": {},
   "source": [
    "Get the curb/areas data (now getting empty cells)"
   ]
  },
  {
   "cell_type": "code",
   "execution_count": 4,
   "metadata": {},
   "outputs": [
    {
     "name": "stdout",
     "output_type": "stream",
     "text": [
      "{'version': '2.0.0', 'time_zone': 'UTC', 'last_updated': None, 'currency': 'USD', 'author': 'CurbIQ', 'licence_url': None, 'ccds_attributes': {'type': 'curbiq_api_response', 'request_type': 'areas', 'query_parameters': {'curbiq_token': 'c2d003e0-464d-4fd3-aa18-af647054fe1b'}, 'pages': {'total': 1, 'current': 1}}, 'data': [{'areas': []}]}\n"
     ]
    }
   ],
   "source": [
    "#get the parking zone details \n",
    "curbiq_token = 'c2d003e0-464d-4fd3-aa18-af647054fe1b'\n",
    "url = f'https://v2.curbiq-curb-api.io/curbs/areas?curbiq_token={curbiq_token}'\n",
    "response = requests.get(url, verify = False)\n",
    "# Check if the request was successful\n",
    "if response.status_code == 200:\n",
    "    # Parse the JSON response\n",
    "    data = response.json()\n",
    "    print(data)\n",
    "else:\n",
    "    print(f\"Error: {response.status_code} - {response.text}\")"
   ]
  },
  {
   "cell_type": "code",
   "execution_count": 12,
   "metadata": {},
   "outputs": [],
   "source": [
    "#specify area id \n",
    "curbiq_token = 'c2d003e0-464d-4fd3-aa18-af647054fe1b'\n",
    "url = f'https://v2.curbiq-curb-api.io/curbs/areas?curbiq_token={curbiq_token}'\n",
    "response = requests.get(\n",
    "    \"https://v2.curbiq-curb-api.io/curbs/areas\",\n",
    "        params={\n",
    "          \"curbiq_token\": \"c2d003e0-464d-4fd3-aa18-af647054fe1b\",\n",
    "         \"curb_area_id\":\"63d8fb53-c903-4553-aff5-7184096baf1\",\n",
    "          # \"time\": 1741392795000,\n",
    "          \"city_name\": \"seattle\",\n",
    "        }\n",
    "    , verify = False)\n",
    "\n",
    "if response.status_code == 200:\n",
    "    # Parse the JSON response\n",
    "    data = response.json()\n",
    "    # print(data)\n",
    "else:\n",
    "    print(f\"Error: {response.status_code} - {response.text}\")"
   ]
  },
  {
   "cell_type": "code",
   "execution_count": 13,
   "metadata": {},
   "outputs": [
    {
     "name": "stdout",
     "output_type": "stream",
     "text": [
      "{'type': 'curbiq_api_response', 'request_type': 'areas', 'query_parameters': {'curb_area_id': '63d8fb53-c903-4553-aff5-7184096baf1', 'city_name': 'seattle', 'curbiq_token': 'c2d003e0-464d-4fd3-aa18-af647054fe1b'}, 'pages': {'total': 1, 'current': 1}}\n",
      "[{'areas': []}]\n"
     ]
    }
   ],
   "source": [
    "# for elm in data:\n",
    "#     print(elm)\n",
    "print(data['ccds_attributes'])\n",
    "print(data['data'])"
   ]
  },
  {
   "cell_type": "markdown",
   "metadata": {},
   "source": [
    "Get the Curbs/events "
   ]
  },
  {
   "cell_type": "code",
   "execution_count": 3,
   "metadata": {},
   "outputs": [],
   "source": [
    "def get_timestamp_ms(hour, minute, second, day, month, year, tz_str='UTC'):\n",
    "    \"\"\"\n",
    "    Returns the Unix timestamp in milliseconds for a given date and time.\n",
    "    \n",
    "    Parameters:\n",
    "        hour (int): Hour (0–23)\n",
    "        minute (int): Minute (0–59)\n",
    "        second (int): Second (0–59)\n",
    "        day (int): Day of the month\n",
    "        month (int): Month (1–12)\n",
    "        year (int): Full year (e.g., 2025)\n",
    "        tz_str (str): Time zone string (default 'UTC'; e.g., 'US/Pacific')\n",
    "\n",
    "    Returns:\n",
    "        int: Unix timestamp in milliseconds\n",
    "    \"\"\"\n",
    "    # Use a timezone-aware datetime object\n",
    "    tz = pytz.timezone(tz_str)\n",
    "    \n",
    "    # Naive datetime\n",
    "    naive_dt = datetime(year, month, day, hour, minute, second)\n",
    "    \n",
    "    # Localize with DST awareness\n",
    "    localized_dt = tz.localize(naive_dt, is_dst=None)\n",
    "    \n",
    "    # Convert to timestamp in milliseconds\n",
    "    timestamp_ms = int(localized_dt.timestamp() * 1000)\n",
    "    \n",
    "    return timestamp_ms\n",
    "\n",
    "# # Example usage\n",
    "# ts = get_timestamp_ms(20, 0, 0, 2, 6, 2025, tz_str='US/Pacific')\n",
    "# print(\"Timestamp (ms):\", ts)\n"
   ]
  },
  {
   "cell_type": "code",
   "execution_count": 4,
   "metadata": {},
   "outputs": [
    {
     "name": "stdout",
     "output_type": "stream",
     "text": [
      "Timestamp (ms): 1748761200000\n",
      "Timestamp (ms): 1749020400000\n"
     ]
    }
   ],
   "source": [
    "#hour, minute, second, day, month, year\n",
    "ts_start = get_timestamp_ms(0, 0, 0, 1, 6, 2025, tz_str='US/Pacific')\n",
    "print(\"Timestamp (ms):\", ts_start)\n",
    "\n",
    "ts_end = get_timestamp_ms(0, 0, 0, 4, 6, 2025, tz_str='US/Pacific')\n",
    "print(\"Timestamp (ms):\", ts_end)"
   ]
  },
  {
   "cell_type": "code",
   "execution_count": 5,
   "metadata": {},
   "outputs": [
    {
     "ename": "NameError",
     "evalue": "name 'curb_zone_id' is not defined",
     "output_type": "error",
     "traceback": [
      "\u001b[0;31m---------------------------------------------------------------------------\u001b[0m",
      "\u001b[0;31mNameError\u001b[0m                                 Traceback (most recent call last)",
      "Cell \u001b[0;32mIn[5], line 5\u001b[0m\n\u001b[1;32m      3\u001b[0m start_time \u001b[38;5;241m=\u001b[39m get_timestamp_ms(\u001b[38;5;241m4\u001b[39m, \u001b[38;5;241m0\u001b[39m, \u001b[38;5;241m0\u001b[39m, \u001b[38;5;241m2\u001b[39m, \u001b[38;5;241m6\u001b[39m, \u001b[38;5;241m2025\u001b[39m, tz_str\u001b[38;5;241m=\u001b[39m\u001b[38;5;124m'\u001b[39m\u001b[38;5;124mUS/Pacific\u001b[39m\u001b[38;5;124m'\u001b[39m)\n\u001b[1;32m      4\u001b[0m end_time \u001b[38;5;241m=\u001b[39m get_timestamp_ms(\u001b[38;5;241m14\u001b[39m, \u001b[38;5;241m0\u001b[39m, \u001b[38;5;241m0\u001b[39m, \u001b[38;5;241m2\u001b[39m, \u001b[38;5;241m6\u001b[39m, \u001b[38;5;241m2025\u001b[39m, tz_str\u001b[38;5;241m=\u001b[39m\u001b[38;5;124m'\u001b[39m\u001b[38;5;124mUS/Pacific\u001b[39m\u001b[38;5;124m'\u001b[39m)\n\u001b[0;32m----> 5\u001b[0m \u001b[38;5;28;01mfor\u001b[39;00m curb_id \u001b[38;5;129;01min\u001b[39;00m \u001b[43mcurb_zone_id\u001b[49m:\n\u001b[1;32m      6\u001b[0m     \u001b[38;5;66;03m# curb_zone_id1 = curb_zone_id[0]\u001b[39;00m\n\u001b[1;32m      7\u001b[0m     \u001b[38;5;28mprint\u001b[39m(curb_id)\n\u001b[1;32m      8\u001b[0m     response \u001b[38;5;241m=\u001b[39m requests\u001b[38;5;241m.\u001b[39mget(\n\u001b[1;32m      9\u001b[0m         \u001b[38;5;124m\"\u001b[39m\u001b[38;5;124mhttps://v2.curbiq-curb-api.io/events/events\u001b[39m\u001b[38;5;124m\"\u001b[39m,\n\u001b[1;32m     10\u001b[0m         params\u001b[38;5;241m=\u001b[39m{\n\u001b[0;32m   (...)\u001b[0m\n\u001b[1;32m     16\u001b[0m     , verify \u001b[38;5;241m=\u001b[39m \u001b[38;5;28;01mFalse\u001b[39;00m\n\u001b[1;32m     17\u001b[0m     )\n",
      "\u001b[0;31mNameError\u001b[0m: name 'curb_zone_id' is not defined"
     ]
    }
   ],
   "source": [
    "#to get the parking event details \n",
    "import requests\n",
    "start_time = get_timestamp_ms(4, 0, 0, 2, 6, 2025, tz_str='US/Pacific')\n",
    "end_time = get_timestamp_ms(14, 0, 0, 2, 6, 2025, tz_str='US/Pacific')\n",
    "for curb_id in curb_zone_id:\n",
    "    # curb_zone_id1 = curb_zone_id[0]\n",
    "    print(curb_id)\n",
    "    response = requests.get(\n",
    "        \"https://v2.curbiq-curb-api.io/events/events\",\n",
    "        params={\n",
    "          \"curbiq_token\": \"c2d003e0-464d-4fd3-aa18-af647054fe1b\",\n",
    "          \"curb_zone_id\": curb_id,\n",
    "          \"start_time\": ts_start,\n",
    "          \"end_time\": ts_end\n",
    "        }\n",
    "    , verify = False\n",
    "    )\n",
    "    print(\"Status:\", response.status_code)\n",
    "    print(response.json())\n",
    "#     print(start_time)\n",
    "# print(end_time)"
   ]
  },
  {
   "cell_type": "code",
   "execution_count": 6,
   "metadata": {},
   "outputs": [
    {
     "name": "stdout",
     "output_type": "stream",
     "text": [
      "Status: 200\n"
     ]
    }
   ],
   "source": [
    "# #to get the parking event details \n",
    "# import requests\n",
    "\n",
    "response = requests.get(\n",
    "    \"https://v2.curbiq-curb-api.io/events/events\",\n",
    "    params={\n",
    "      \"curbiq_token\": \"c2d003e0-464d-4fd3-aa18-af647054fe1b\",\n",
    "      \"curb_zone_id\": \"63d8fb53-c903-4553-aff5-7184096baf17\",\n",
    "      \"start_time\": ts_start, # june 2nd 8am PT\n",
    "      \"end_time\": ts_end# june 2nd 8pm PT\n",
    "    }\n",
    ", verify = False\n",
    ")\n",
    "print(\"Status:\", response.status_code)\n",
    "# print(response.json())"
   ]
  },
  {
   "cell_type": "code",
   "execution_count": 7,
   "metadata": {},
   "outputs": [],
   "source": [
    "\n",
    "# print(data)"
   ]
  },
  {
   "cell_type": "code",
   "execution_count": 13,
   "metadata": {},
   "outputs": [
    {
     "name": "stdout",
     "output_type": "stream",
     "text": [
      "version\n",
      "time_zone\n",
      "last_updated\n",
      "currency\n",
      "author\n",
      "licence_url\n",
      "ccds_attributes\n",
      "data\n",
      "links\n"
     ]
    }
   ],
   "source": [
    "data = response.json()\n",
    "for ele in data:\n",
    "    print(ele)\n",
    "# print(data['data'])"
   ]
  },
  {
   "cell_type": "code",
   "execution_count": 15,
   "metadata": {},
   "outputs": [
    {
     "name": "stdout",
     "output_type": "stream",
     "text": [
      "100\n",
      "                               event_id  event_type     event_time  \\\n",
      "0  baf3c692-296f-499f-b92e-92edc5572852  park_start  1748763756000   \n",
      "1  a7c73b8c-034f-429c-b468-40e313adea45    park_end  1748784070000   \n",
      "2  e3ab08fa-d471-49f6-a01e-cbc8343bfebb  park_start  1748784088000   \n",
      "3  93b648f6-6243-4f25-8ea3-eec1b249f9f8  park_start  1748784105000   \n",
      "4  92797fe6-5bbd-44ad-871a-6821b6fe9906    park_end  1748813530000   \n",
      "\n",
      "   event_publication_time                      event_session_id  \\\n",
      "0           1748763816010  c304b45c-35ff-4c29-997f-ceaa65afe39f   \n",
      "1           1748784117895  c304b45c-35ff-4c29-997f-ceaa65afe39f   \n",
      "2           1748784121305  26775e70-6df0-4aeb-bd1f-de6f2b8548fe   \n",
      "3           1748784187714  2c4d9a01-df36-4f17-a1c7-6b1275657c72   \n",
      "4           1748813577163  2c4d9a01-df36-4f17-a1c7-6b1275657c72   \n",
      "\n",
      "                           curb_zone_id curb_area_ids data_source_type  \\\n",
      "0  63d8fb53-c903-4553-aff5-7184096baf17          None     above_ground   \n",
      "1  63d8fb53-c903-4553-aff5-7184096baf17          None     above_ground   \n",
      "2  63d8fb53-c903-4553-aff5-7184096baf17          None     above_ground   \n",
      "3  63d8fb53-c903-4553-aff5-7184096baf17          None     above_ground   \n",
      "4  63d8fb53-c903-4553-aff5-7184096baf17          None     above_ground   \n",
      "\n",
      "                data_source_operator_id data_source_operator_name  \\\n",
      "0  206f4089-6b26-4dc9-a297-ca10d1622cea                 IPS Group   \n",
      "1  206f4089-6b26-4dc9-a297-ca10d1622cea                 IPS Group   \n",
      "2  206f4089-6b26-4dc9-a297-ca10d1622cea                 IPS Group   \n",
      "3  206f4089-6b26-4dc9-a297-ca10d1622cea                 IPS Group   \n",
      "4  206f4089-6b26-4dc9-a297-ca10d1622cea                 IPS Group   \n",
      "\n",
      "                  data_source_device_id data_source_device_name  \\\n",
      "0  7d106824-adbc-42df-a212-680a638a8098                   SG-08   \n",
      "1  7d106824-adbc-42df-a212-680a638a8098                   SG-08   \n",
      "2  7d106824-adbc-42df-a212-680a638a8098                   SG-08   \n",
      "3  7d106824-adbc-42df-a212-680a638a8098                   SG-08   \n",
      "4  7d106824-adbc-42df-a212-680a638a8098                   SG-08   \n",
      "\n",
      "  data_source_manufacturer data_source_model  sensor_status_is_online  \\\n",
      "0                     None              None                     True   \n",
      "1                     None              None                     True   \n",
      "2                     None              None                     True   \n",
      "3                     None              None                     True   \n",
      "4                     None              None                     True   \n",
      "\n",
      "  event_location.type  event_location.properties.timestamp  \\\n",
      "0             Feature                        1748763756000   \n",
      "1             Feature                        1748784070000   \n",
      "2             Feature                        1748784088000   \n",
      "3             Feature                        1748784105000   \n",
      "4             Feature                        1748813530000   \n",
      "\n",
      "  event_location.geometry.type event_location.geometry.coordinates  \n",
      "0                        Point      [-122.341249511, 47.617270682]  \n",
      "1                        Point      [-122.341249511, 47.617270682]  \n",
      "2                        Point      [-122.341249511, 47.617270682]  \n",
      "3                        Point      [-122.341249511, 47.617270682]  \n",
      "4                        Point      [-122.341249511, 47.617270682]  \n"
     ]
    }
   ],
   "source": [
    "import pandas as pd\n",
    "\n",
    "# Assuming `data` is your parsed JSON dictionary\n",
    "events = data['data']['events']\n",
    "\n",
    "# Normalize into a flat DataFrame\n",
    "df = pd.json_normalize(events)\n",
    "print(len(df))\n",
    "# Display the result\n",
    "print(df.head())\n",
    "df.to_csv('/Users/xiaodanxu/Library/CloudStorage/GoogleDrive-arielinseu@gmail.com/My Drive/BEAM-CORE/Lab call/Seattle/event_sample1.csv')"
   ]
  },
  {
   "cell_type": "code",
   "execution_count": 34,
   "metadata": {},
   "outputs": [
    {
     "name": "stdout",
     "output_type": "stream",
     "text": [
      "Error: 500 - {\"error\": \"Internal server error\"}\n"
     ]
    }
   ],
   "source": [
    "# curb status\n",
    "url = f'https://v2.curbiq-curb-api.io/events/status?curbiq_token={curbiq_token}'\n",
    "response = requests.get(url, headers={\"Accept\":\"*/*\"}, verify = False)\n",
    "# Check if the request was successful\n",
    "if response.status_code == 200:\n",
    "    # Parse the JSON response\n",
    "    data = response.json()\n",
    "    print(data)\n",
    "else:\n",
    "    print(f\"Error: {response.status_code} - {response.text}\")"
   ]
  },
  {
   "cell_type": "code",
   "execution_count": 35,
   "metadata": {},
   "outputs": [
    {
     "name": "stdout",
     "output_type": "stream",
     "text": [
      "Error: 400 - {\"error\": \"You must either provide a curb_zone_id, a start and end time, or both!\"}\n"
     ]
    }
   ],
   "source": [
    "# metrics\n",
    "url = f'https://v2.curbiq-curb-api.io/metrics/aggregates?curbiq_token={curbiq_token}'\n",
    "response = requests.get(url, headers={\"Accept\":\"*/*\"}, verify = False)\n",
    "# Check if the request was successful\n",
    "if response.status_code == 200:\n",
    "    # Parse the JSON response\n",
    "    data = response.json()\n",
    "    print(data)\n",
    "else:\n",
    "    print(f\"Error: {response.status_code} - {response.text}\")"
   ]
  },
  {
   "cell_type": "code",
   "execution_count": 44,
   "metadata": {},
   "outputs": [
    {
     "name": "stdout",
     "output_type": "stream",
     "text": [
      "0001573a-9983-435a-8ff7-f3955b626629\n",
      "Status: 200\n",
      "00050f32-dcf8-45f6-890a-7f8dc8605d93\n",
      "Status: 200\n",
      "0011154b-3b79-4ab9-99bb-67cfc3992f5d\n",
      "Status: 200\n",
      "0013ceb6-d23c-4fa3-920e-a5926c1f2cd3\n",
      "Status: 200\n",
      "001abf70-da9f-4a55-89fa-10aa736da983\n",
      "Status: 200\n",
      "00242aa9-b0c9-4f04-b421-fe53559372cc\n",
      "Status: 200\n",
      "0032bba0-c209-42fe-9452-c1cc46f22249\n",
      "Status: 200\n",
      "0032e146-38c0-4e81-9934-888896a7869e\n",
      "Status: 200\n",
      "00433ec8-7c62-4a37-9d9a-4f3e74e9aab6\n",
      "Status: 200\n",
      "004eb7f0-e542-4919-bd5c-d27bd373e22d\n",
      "Status: 200\n",
      "004ff78a-a0e1-4b43-9cfe-aa91ff592b60\n",
      "Status: 200\n",
      "005096aa-6a39-48ea-be82-df1a3c1d516f\n",
      "Status: 200\n",
      "0050e715-6ecf-4d8e-a747-a644792c176f\n",
      "Status: 200\n",
      "0060af8b-998a-4d57-b519-a0170e4601da\n",
      "Status: 200\n",
      "006a0300-c6bd-4ab4-a335-dded1fa363d3\n",
      "Status: 200\n",
      "006e8a4b-fd94-4a53-917a-378bdb9d90da\n",
      "Status: 200\n",
      "0074f1a4-6dff-4e17-a81e-c888c72ef258\n",
      "Status: 200\n",
      "008385ac-c2d4-4ac4-8086-8521897940bc\n",
      "Status: 200\n",
      "0090327e-5f96-4d51-aadb-62a964b6eab1\n",
      "Status: 200\n",
      "00a0c8b6-db5e-42bf-a463-f183c3899ecb\n",
      "Status: 200\n"
     ]
    }
   ],
   "source": [
    "start_time = get_timestamp_ms(0, 0, 0, 2, 6, 2025, tz_str='US/Pacific')\n",
    "end_time = get_timestamp_ms(14, 0, 0, 2, 6, 2025, tz_str='US/Pacific')\n",
    "for curb_id in curb_zone_id:\n",
    "    # curb_zone_id1 = curb_zone_id[0]\n",
    "    print(curb_id)\n",
    "    response = requests.get(\n",
    "        \"https://v2.curbiq-curb-api.io/metrics/aggregates\",\n",
    "        params={\n",
    "          \"curbiq_token\": \"c2d003e0-464d-4fd3-aa18-af647054fe1b\",\n",
    "          \"curb_zone_id\": curb_id,\n",
    "          \"start_time\": start_time,\n",
    "          \"end_time\": end_time\n",
    "        }\n",
    "    , headers={\"Accept\":\"*/*\"}, verify = False\n",
    "    )\n",
    "    print(\"Status:\", response.status_code)\n",
    "    # if response.status_code == 200:\n",
    "    # # Parse the JSON response\n",
    "    #     data = response.json()\n",
    "    #     print(data)"
   ]
  },
  {
   "cell_type": "code",
   "execution_count": 43,
   "metadata": {},
   "outputs": [
    {
     "data": {
      "text/plain": [
       "<Response [200]>"
      ]
     },
     "execution_count": 43,
     "metadata": {},
     "output_type": "execute_result"
    }
   ],
   "source": [
    "response"
   ]
  },
  {
   "cell_type": "code",
   "execution_count": null,
   "metadata": {},
   "outputs": [],
   "source": []
  }
 ],
 "metadata": {
  "kernelspec": {
   "display_name": "Python 3 (ipykernel)",
   "language": "python",
   "name": "python3"
  },
  "language_info": {
   "codemirror_mode": {
    "name": "ipython",
    "version": 3
   },
   "file_extension": ".py",
   "mimetype": "text/x-python",
   "name": "python",
   "nbconvert_exporter": "python",
   "pygments_lexer": "ipython3",
   "version": "3.11.6"
  }
 },
 "nbformat": 4,
 "nbformat_minor": 4
}
