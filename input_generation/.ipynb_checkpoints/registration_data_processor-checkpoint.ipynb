{
 "cells": [
  {
   "cell_type": "code",
   "execution_count": 19,
   "id": "92532886-f89d-451d-b765-57ff79db6b00",
   "metadata": {},
   "outputs": [],
   "source": [
    "import os\n",
    "from pandas import read_csv\n",
    "import pandas as pd\n",
    "import geopandas as gps\n",
    "import matplotlib.pyplot as plt\n",
    "import seaborn as sns\n",
    "\n",
    "os.chdir('/Users/xiaodanxu/Documents/SynthFirm.nosync/BayArea_GIS')\n",
    "\n",
    "medium_duty_class = [3, 4, 5, 6] # ref: https://afdc.energy.gov/data/10380\n",
    "heavy_duty_class = [7, 8]\n",
    "\n",
    "plt.style.use('ggplot')\n",
    "sns.set(font_scale=1.2)  # larger font"
   ]
  },
  {
   "cell_type": "code",
   "execution_count": 3,
   "id": "a81ae6f9-fa54-44ac-8df0-56dfccc2804e",
   "metadata": {},
   "outputs": [
    {
     "name": "stdout",
     "output_type": "stream",
     "text": [
      "623668\n"
     ]
    },
    {
     "data": {
      "text/html": [
       "<div>\n",
       "<style scoped>\n",
       "    .dataframe tbody tr th:only-of-type {\n",
       "        vertical-align: middle;\n",
       "    }\n",
       "\n",
       "    .dataframe tbody tr th {\n",
       "        vertical-align: top;\n",
       "    }\n",
       "\n",
       "    .dataframe thead th {\n",
       "        text-align: right;\n",
       "    }\n",
       "</style>\n",
       "<table border=\"1\" class=\"dataframe\">\n",
       "  <thead>\n",
       "    <tr style=\"text-align: right;\">\n",
       "      <th></th>\n",
       "      <th>Unnamed: 0</th>\n",
       "      <th>zip_code</th>\n",
       "      <th>vocation</th>\n",
       "      <th>carrier_type</th>\n",
       "      <th>business_name</th>\n",
       "      <th>fuel</th>\n",
       "      <th>vin_gvw</th>\n",
       "      <th>vehicle_type</th>\n",
       "      <th>yr_mdl</th>\n",
       "      <th>totcount</th>\n",
       "    </tr>\n",
       "  </thead>\n",
       "  <tbody>\n",
       "    <tr>\n",
       "      <th>0</th>\n",
       "      <td>1</td>\n",
       "      <td>73301</td>\n",
       "      <td>INDIVIDUAL</td>\n",
       "      <td>INDIVIDUAL</td>\n",
       "      <td>31556.0</td>\n",
       "      <td>DIESEL</td>\n",
       "      <td>8</td>\n",
       "      <td>TRACTOR TRUCK</td>\n",
       "      <td>1994</td>\n",
       "      <td>1</td>\n",
       "    </tr>\n",
       "    <tr>\n",
       "      <th>1</th>\n",
       "      <td>2</td>\n",
       "      <td>75001</td>\n",
       "      <td>AGRICULTURE/FARM</td>\n",
       "      <td>PRIVATE</td>\n",
       "      <td>20583.0</td>\n",
       "      <td>DIESEL</td>\n",
       "      <td>4</td>\n",
       "      <td>PICKUP</td>\n",
       "      <td>2008</td>\n",
       "      <td>1</td>\n",
       "    </tr>\n",
       "    <tr>\n",
       "      <th>2</th>\n",
       "      <td>3</td>\n",
       "      <td>75001</td>\n",
       "      <td>AGRICULTURE/FARM</td>\n",
       "      <td>PRIVATE</td>\n",
       "      <td>20583.0</td>\n",
       "      <td>DIESEL</td>\n",
       "      <td>6</td>\n",
       "      <td>STRAIGHT TRUCK</td>\n",
       "      <td>2005</td>\n",
       "      <td>1</td>\n",
       "    </tr>\n",
       "    <tr>\n",
       "      <th>3</th>\n",
       "      <td>4</td>\n",
       "      <td>75001</td>\n",
       "      <td>AGRICULTURE/FARM</td>\n",
       "      <td>PRIVATE</td>\n",
       "      <td>20583.0</td>\n",
       "      <td>DIESEL</td>\n",
       "      <td>7</td>\n",
       "      <td>STRAIGHT TRUCK</td>\n",
       "      <td>1990</td>\n",
       "      <td>1</td>\n",
       "    </tr>\n",
       "    <tr>\n",
       "      <th>4</th>\n",
       "      <td>5</td>\n",
       "      <td>75001</td>\n",
       "      <td>AGRICULTURE/FARM</td>\n",
       "      <td>PRIVATE</td>\n",
       "      <td>20583.0</td>\n",
       "      <td>DIESEL</td>\n",
       "      <td>7</td>\n",
       "      <td>TRACTOR TRUCK</td>\n",
       "      <td>1989</td>\n",
       "      <td>1</td>\n",
       "    </tr>\n",
       "  </tbody>\n",
       "</table>\n",
       "</div>"
      ],
      "text/plain": [
       "   Unnamed: 0  zip_code          vocation carrier_type  business_name    fuel  \\\n",
       "0           1     73301        INDIVIDUAL   INDIVIDUAL        31556.0  DIESEL   \n",
       "1           2     75001  AGRICULTURE/FARM      PRIVATE        20583.0  DIESEL   \n",
       "2           3     75001  AGRICULTURE/FARM      PRIVATE        20583.0  DIESEL   \n",
       "3           4     75001  AGRICULTURE/FARM      PRIVATE        20583.0  DIESEL   \n",
       "4           5     75001  AGRICULTURE/FARM      PRIVATE        20583.0  DIESEL   \n",
       "\n",
       "   vin_gvw    vehicle_type  yr_mdl  totcount  \n",
       "0        8   TRACTOR TRUCK    1994         1  \n",
       "1        4          PICKUP    2008         1  \n",
       "2        6  STRAIGHT TRUCK    2005         1  \n",
       "3        7  STRAIGHT TRUCK    1990         1  \n",
       "4        7   TRACTOR TRUCK    1989         1  "
      ]
     },
     "execution_count": 3,
     "metadata": {},
     "output_type": "execute_result"
    }
   ],
   "source": [
    "tx_registration_data = read_csv('registration/TEXAS_MDHDbybiz.csv')\n",
    "print(tx_registration_data.totcount.sum())\n",
    "tx_registration_data.head(5)"
   ]
  },
  {
   "cell_type": "code",
   "execution_count": 5,
   "id": "a8407aaf-b754-442c-a733-a3836f12a923",
   "metadata": {},
   "outputs": [
    {
     "name": "stdout",
     "output_type": "stream",
     "text": [
      "                    carrier_type  totcount  percentage\n",
      "0                         DEALER      3977    0.637679\n",
      "1                  FINANCE LEASE     13072    2.095987\n",
      "2                       FOR HIRE     57753    9.260215\n",
      "3             FULL SERVICE LEASE     42385    6.796084\n",
      "4                     INDIVIDUAL    189452   30.377060\n",
      "5   LOCAL GOVERNMENT (U.S. ONLY)     63897   10.245355\n",
      "6   MANUFACTURER SPONSORED LEASE      7596    1.217956\n",
      "7                        PRIVATE    227694   36.508848\n",
      "8   STATE GOVERNMENT (U.S. ONLY)      5187    0.831693\n",
      "9                U.S. GOVERNMENT       944    0.151363\n",
      "10      UTILITIES/COMMUNICATIONS     11513    1.846014\n",
      "11          VEHICLE MANUFACTURER       198    0.031748\n",
      "                     fuel  totcount  percentage\n",
      "0  COMPRESSED NATURAL GAS      1399    0.224318\n",
      "1             CONVERTIBLE       128    0.020524\n",
      "2                  DIESEL    544865   87.364591\n",
      "3                FLEXIBLE       748    0.119936\n",
      "4                     GAS     66997   10.742414\n",
      "5                 PROPANE       484    0.077605\n",
      "6                 UNKNOWN      9047    1.450612\n"
     ]
    }
   ],
   "source": [
    "count_by_carrier_type = tx_registration_data.groupby(['carrier_type'])[['totcount']].sum()\n",
    "count_by_carrier_type = count_by_carrier_type.reset_index()\n",
    "count_by_carrier_type.loc[:, 'percentage'] = count_by_carrier_type.loc[:, 'totcount'] / \\\n",
    "count_by_carrier_type.loc[:, 'totcount'].sum() *100\n",
    "print(count_by_carrier_type)\n",
    "\n",
    "count_by_fuel_type = tx_registration_data.groupby(['fuel'])[['totcount']].sum()\n",
    "count_by_fuel_type = count_by_fuel_type.reset_index()\n",
    "count_by_fuel_type.loc[:, 'percentage'] = count_by_fuel_type.loc[:, 'totcount'] / \\\n",
    "count_by_fuel_type.loc[:, 'totcount'].sum() *100\n",
    "print(count_by_fuel_type)"
   ]
  },
  {
   "cell_type": "code",
   "execution_count": 20,
   "id": "5a02e6dc-852f-449c-884d-21e319bc97d5",
   "metadata": {},
   "outputs": [
    {
     "name": "stdout",
     "output_type": "stream",
     "text": [
      "total tx private carriers  135562\n",
      "total private trucks  227694\n",
      "max private trucks in a firm 3340\n",
      "avg. private trucks in a firm 4.619945216597342\n"
     ]
    },
    {
     "data": {
      "text/plain": [
       "Text(0.5, 1.0, 'private truck count distribution')"
      ]
     },
     "execution_count": 20,
     "metadata": {},
     "output_type": "execute_result"
    },
    {
     "data": {
      "image/png": "[encoded data removed]",
      "text/plain": [
       "<Figure size 432x288 with 1 Axes>"
      ]
     },
     "metadata": {},
     "output_type": "display_data"
    }
   ],
   "source": [
    "# private truck analysis\n",
    "private_carriers = tx_registration_data.loc[tx_registration_data['carrier_type'] == 'PRIVATE']\n",
    "private_truck_by_firm = private_carriers.groupby(['business_name'])[['totcount']].sum()\n",
    "private_truck_by_firm = private_truck_by_firm.reset_index()\n",
    "print('total tx private carriers ', len(private_carriers))\n",
    "print('total private trucks ', private_carriers['totcount'].sum())\n",
    "print('max private trucks in a firm', private_truck_by_firm['totcount'].max())\n",
    "print('avg. private trucks in a firm', private_truck_by_firm['totcount'].mean())\n",
    "\n",
    "private_truck_by_firm['totcount'].hist(bins = 200)\n",
    "plt.xlim([0, 500])\n",
    "plt.xlabel('truck count per firm')\n",
    "plt.ylabel('count of firms')\n",
    "plt.title('private truck count distribution')"
   ]
  },
  {
   "cell_type": "code",
   "execution_count": 22,
   "id": "26d6fe52-32ab-45b9-8ff1-5c9c5dff99a4",
   "metadata": {},
   "outputs": [
    {
     "name": "stdout",
     "output_type": "stream",
     "text": [
      "total tx for-hire carriers  27108\n",
      "total for-hire trucks  57753\n",
      "max for-hire trucks in a firm 1400\n",
      "avg. for-hire trucks in a firm 5.535077630822312\n"
     ]
    },
    {
     "data": {
      "text/plain": [
       "Text(0.5, 1.0, 'for-hire truck count distribution')"
      ]
     },
     "execution_count": 22,
     "metadata": {},
     "output_type": "execute_result"
    },
    {
     "data": {
      "image/png": "[encoded data removed]",
      "text/plain": [
       "<Figure size 432x288 with 1 Axes>"
      ]
     },
     "metadata": {},
     "output_type": "display_data"
    }
   ],
   "source": [
    "# for-hire truck analysis\n",
    "for_hire_carriers = tx_registration_data.loc[tx_registration_data['carrier_type'] == 'FOR HIRE']\n",
    "print('total tx for-hire carriers ', len(for_hire_carriers))\n",
    "\n",
    "for_hire_truck_by_firm = for_hire_carriers.groupby(['business_name'])[['totcount']].sum()\n",
    "for_hire_truck_by_firm = for_hire_truck_by_firm.reset_index()\n",
    "print('total for-hire trucks ', for_hire_truck_by_firm['totcount'].sum())\n",
    "print('max for-hire trucks in a firm', for_hire_truck_by_firm['totcount'].max())\n",
    "print('avg. for-hire trucks in a firm', for_hire_truck_by_firm['totcount'].mean())\n",
    "\n",
    "for_hire_truck_by_firm['totcount'].hist(bins = 100)\n",
    "plt.xlim([0, 500])\n",
    "plt.xlabel('truck count per firm')\n",
    "plt.ylabel('count of firms')\n",
    "plt.title('for-hire truck count distribution')"
   ]
  },
  {
   "cell_type": "code",
   "execution_count": null,
   "id": "0ee8f714-3cd9-4b1d-aa80-76c03e7e3823",
   "metadata": {},
   "outputs": [],
   "source": []
  }
 ],
 "metadata": {
  "kernelspec": {
   "display_name": "Python 3 (ipykernel)",
   "language": "python",
   "name": "python3"
  },
  "language_info": {
   "codemirror_mode": {
    "name": "ipython",
    "version": 3
   },
   "file_extension": ".py",
   "mimetype": "text/x-python",
   "name": "python",
   "nbconvert_exporter": "python",
   "pygments_lexer": "ipython3",
   "version": "3.8.8"
  }
 },
 "nbformat": 4,
 "nbformat_minor": 5
}
