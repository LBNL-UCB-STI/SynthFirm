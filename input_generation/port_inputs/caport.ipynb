{
 "cells": [
  {
   "cell_type": "code",
   "execution_count": 1,
   "id": "4ff27574-1370-4902-8c82-26074399b544",
   "metadata": {},
   "outputs": [],
   "source": [
    "import geopandas\n",
    "import numpy as np\n",
    "import re\n",
    "from shapely.geometry import Polygon\n"
   ]
  },
  {
   "cell_type": "code",
   "execution_count": 82,
   "id": "dee09797-dc44-4e32-b6f8-7a48cfc4b351",
   "metadata": {},
   "outputs": [
    {
     "data": {
      "text/plain": [
       "'https://en.wikipedia.org/wiki/List_of_Canada%E2%80%93United_States_border_crossings'"
      ]
     },
     "execution_count": 82,
     "metadata": {},
     "output_type": "execute_result"
    }
   ],
   "source": [
    "\"https://en.wikipedia.org/wiki/List_of_Canada%E2%80%93United_States_border_crossings\""
   ]
  },
  {
   "cell_type": "code",
   "execution_count": 29,
   "id": "2a33f215-15ca-4d07-bd8c-813cb983e261",
   "metadata": {},
   "outputs": [],
   "source": [
    "f=open(\"caport.txt\",'r')\n",
    "lines=f.readlines()\n",
    "f.close()"
   ]
  },
  {
   "cell_type": "code",
   "execution_count": 30,
   "id": "7b0ca4bf-d1dd-4511-976c-c4ef4343967a",
   "metadata": {},
   "outputs": [],
   "source": [
    "lwas=[]\n",
    "start=False\n",
    "for l in lines:\n",
    "    if \"Washington\" in l:\n",
    "        start=True\n",
    "    if \"Idaho\" in l:\n",
    "        break\n",
    "    if start==True:\n",
    "        lwas.append(l)\n",
    "    "
   ]
  },
  {
   "cell_type": "code",
   "execution_count": 31,
   "id": "9bba2a8e-1db3-4234-8ce6-70eb5ae2b24c",
   "metadata": {},
   "outputs": [
    {
     "name": "stdout",
     "output_type": "stream",
     "text": [
      "['Point Roberts', 'PTR', 'Tyee Drive', 'Washington', 'Year-round (24-hour service)', 'An obelisk marking the westernmost point of the border along the 49th parallel north is found one mile west at Monument Park.', '49°0′7.17″N 123°4′5.66″W\\n']\n",
      "##### ['Point Roberts', '49°0′7.17″N', '123°4′5.66″W']\n",
      "['Peace Arch International Park', '49°0′7.45″N 122°45′23.49″W\\n']\n",
      "##### ['Peace Arch International Park', '49°0′7.45″N', '122°45′23.49″W']\n",
      "['Blaine–Pacific Highway', 'PHY', ' SR 543', 'Year-round (24-hour service). Commercial vehicles must use this crossing between Surrey and Blaine.', '', '49°0′7.74″N 122°44′7.58″W\\n']\n",
      "##### ['Blaine–Pacific Highway', '49°0′7.74″N', '122°44′7.58″W']\n",
      "['Lynden', 'LYN', ' SR 539', 'Year-round (8:00–0:00 PT).', '', '49°0′8.14″N 122°29′6.37″W\\n']\n",
      "##### ['Lynden', '49°0′8.14″N', '122°29′6.37″W']\n",
      "['Sumas', 'SUM', ' SR 9', 'Year-round (24-hour service)', '', '49°0′8.65″N 122°15′55.25″W\\n']\n",
      "##### ['Sumas', '49°0′8.65″N', '122°15′55.25″W']\n",
      "['Nighthawk', 'NIG', 'Similkameen Road', 'Year-round (9:00–17:00 PT).', '', '49°0′0.76″N 119°40′15.74″W\\n']\n",
      "##### ['Nighthawk', '49°0′0.76″N', '119°40′15.74″W']\n",
      "['Oroville', 'ORO', ' US 97', 'Year-round (24-hour service)', '', '49°0′0.36″N 119°27′45.72″W\\n']\n",
      "##### ['Oroville', '49°0′0.36″N', '119°27′45.72″W']\n",
      "['Ferry', 'FER', 'Customs Road [Curlew]', 'Year-round (9:00–17:00 PT).', '', '49°0′0.36″N 118°45′39.96″W\\n']\n",
      "##### ['Ferry', '49°0′0.36″N', '118°45′39.96″W']\n",
      "['Danville', 'DVL', ' SR 21', 'Year-round (8:00–0:00 PT).', '', '49°0′0.36″N 118°30′11.85″W\\n']\n",
      "##### ['Danville', '49°0′0.36″N', '118°30′11.85″W']\n",
      "['Laurier', 'LAU', ' US 395', '', '49°0′0.36″N 118°13′26.12″W\\n']\n",
      "##### ['Laurier', '49°0′0.36″N', '118°13′26.12″W']\n",
      "['Frontier', 'FWA', ' SR 25 [Northport]', 'Year-round (24-hour service)', '', '49°0′1.80″N 117°49′54.12″W\\n']\n",
      "##### ['Frontier', '49°0′1.80″N', '117°49′54.12″W']\n",
      "['Boundary', 'BWA', 'Waneta Road [Northport]', 'Year-round (9:00–17:00 PT).', '', '49°0′2.52″N 117°37′30.36″W\\n']\n",
      "##### ['Boundary', '49°0′2.52″N', '117°37′30.36″W']\n",
      "['Metaline Falls', 'MET', ' SR 31', 'Year-round (8:00–0:00 PT).', '', '49°0′0.00″N 117°17′58.92″W\\n']\n",
      "##### ['Metaline Falls', '49°0′0.00″N', '117°17′58.92″W']\n"
     ]
    }
   ],
   "source": [
    "pos=[]\n",
    "for l in lwas:\n",
    "    if \"″N\" in l:\n",
    "        ls=l.split('\\t')\n",
    "        p=ls[-1].split()\n",
    "        print(ls)\n",
    "        pos.append([ls[0]]+p)\n",
    "        print(\"#####\",pos[-1])"
   ]
  },
  {
   "cell_type": "code",
   "execution_count": 32,
   "id": "688448a8-6e3b-4c45-a259-db1cca76a1aa",
   "metadata": {},
   "outputs": [
    {
     "data": {
      "text/plain": [
       "117.2997"
      ]
     },
     "execution_count": 32,
     "metadata": {},
     "output_type": "execute_result"
    }
   ],
   "source": [
    "w=\"117°17′58.92″\"\n",
    "def parse(w):\n",
    "    w=re.split('°|′|″', w)[:3]\n",
    "    w=[float(i) for i in w]\n",
    "    w=w[0]+w[1]/60.+w[2]/60/60\n",
    "    return w\n",
    "\n",
    "parse(w)"
   ]
  },
  {
   "cell_type": "code",
   "execution_count": 33,
   "id": "5b156d27-b6f5-4a47-b933-19974a9f849a",
   "metadata": {},
   "outputs": [
    {
     "name": "stdout",
     "output_type": "stream",
     "text": [
      "Point Roberts POLYGON ((123.0672388888889 49.00199166666667, 123.0682388888889 49.00099166666667, 123.0692388888889 49.00199166666667, 123.0682388888889 49.00299166666667, 123.0672388888889 49.00199166666667))\n",
      "Peace Arch International Park POLYGON ((122.755525 49.00206944444444, 122.756525 49.00106944444445, 122.757525 49.00206944444444, 122.756525 49.00306944444444, 122.755525 49.00206944444444))\n",
      "Blaine–Pacific Highway POLYGON ((122.7344388888889 49.00215, 122.7354388888889 49.00115, 122.7364388888889 49.00215, 122.7354388888889 49.00315, 122.7344388888889 49.00215))\n",
      "Lynden POLYGON ((122.4841027777778 49.00226111111111, 122.4851027777778 49.00126111111111, 122.4861027777778 49.00226111111111, 122.4851027777778 49.00326111111111, 122.4841027777778 49.00226111111111))\n",
      "Sumas POLYGON ((122.2643472222222 49.00240277777777, 122.2653472222222 49.00140277777778, 122.2663472222222 49.00240277777777, 122.2653472222222 49.00340277777777, 122.2643472222222 49.00240277777777))\n",
      "Nighthawk POLYGON ((119.6700388888889 49.00021111111111, 119.6710388888889 48.99921111111112, 119.6720388888889 49.00021111111111, 119.6710388888889 49.00121111111111, 119.6700388888889 49.00021111111111))\n",
      "Oroville POLYGON ((119.4617 49.0001, 119.4627 48.99910000000001, 119.4637 49.0001, 119.4627 49.0011, 119.4617 49.0001))\n",
      "Ferry POLYGON ((118.7601 49.0001, 118.7611 48.99910000000001, 118.7621 49.0001, 118.7611 49.0011, 118.7601 49.0001))\n",
      "Danville POLYGON ((118.5022916666667 49.0001, 118.5032916666667 48.99910000000001, 118.5042916666667 49.0001, 118.5032916666667 49.0011, 118.5022916666667 49.0001))\n",
      "Laurier POLYGON ((118.2229222222222 49.0001, 118.2239222222222 48.99910000000001, 118.2249222222222 49.0001, 118.2239222222222 49.0011, 118.2229222222222 49.0001))\n",
      "Frontier POLYGON ((117.8307 49.0005, 117.8317 48.9995, 117.8327 49.0005, 117.8317 49.0015, 117.8307 49.0005))\n",
      "Boundary POLYGON ((117.6241 49.0007, 117.6251 48.9997, 117.6261 49.0007, 117.6251 49.0017, 117.6241 49.0007))\n",
      "Metaline Falls POLYGON ((117.2987 49, 117.2997 48.999, 117.3007 49, 117.2997 49.001, 117.2987 49))\n"
     ]
    }
   ],
   "source": [
    "p2=[]\n",
    "for p in pos:\n",
    "    q=np.array([parse(p[2][:-1]), parse(p[1][:-1])])\n",
    "    q1=[q+np.array(i)*1e-3 for i in [(-1,0),(0,-1),(1,0),(0,1)]]\n",
    "    p1 = Polygon(q1)\n",
    "    p2.append(p1)\n",
    "    print(p[0], p1)"
   ]
  },
  {
   "cell_type": "code",
   "execution_count": 34,
   "id": "0ea33ca3-4221-4763-902d-3a6c64b3b997",
   "metadata": {},
   "outputs": [],
   "source": [
    "g = geopandas.GeoSeries(p2)"
   ]
  },
  {
   "cell_type": "code",
   "execution_count": 35,
   "id": "56275437-0f5d-44c7-b13b-c1a4e80e2dfb",
   "metadata": {},
   "outputs": [
    {
     "data": {
      "text/plain": [
       "<Axes: >"
      ]
     },
     "execution_count": 35,
     "metadata": {},
     "output_type": "execute_result"
    },
    {
     "data": {
      "image/png": "[encoded data removed]",
      "text/plain": [
       "<Figure size 640x480 with 1 Axes>"
      ]
     },
     "metadata": {},
     "output_type": "display_data"
    }
   ],
   "source": [
    "g.plot()"
   ]
  },
  {
   "cell_type": "code",
   "execution_count": 36,
   "id": "c1f4cfa9-e35b-4986-b996-f718b7fcf838",
   "metadata": {},
   "outputs": [
    {
     "data": {
      "text/plain": [
       "0     POLYGON ((123.06724 49.00199, 123.06824 49.000...\n",
       "1     POLYGON ((122.75552 49.00207, 122.75652 49.001...\n",
       "2     POLYGON ((122.73444 49.00215, 122.73544 49.001...\n",
       "3     POLYGON ((122.48410 49.00226, 122.48510 49.001...\n",
       "4     POLYGON ((122.26435 49.00240, 122.26535 49.001...\n",
       "5     POLYGON ((119.67004 49.00021, 119.67104 48.999...\n",
       "6     POLYGON ((119.46170 49.00010, 119.46270 48.999...\n",
       "7     POLYGON ((118.76010 49.00010, 118.76110 48.999...\n",
       "8     POLYGON ((118.50229 49.00010, 118.50329 48.999...\n",
       "9     POLYGON ((118.22292 49.00010, 118.22392 48.999...\n",
       "10    POLYGON ((117.83070 49.00050, 117.83170 48.999...\n",
       "11    POLYGON ((117.62410 49.00070, 117.62510 48.999...\n",
       "12    POLYGON ((117.29870 49.00000, 117.29970 48.999...\n",
       "dtype: geometry"
      ]
     },
     "execution_count": 36,
     "metadata": {},
     "output_type": "execute_result"
    }
   ],
   "source": [
    "g"
   ]
  },
  {
   "cell_type": "code",
   "execution_count": 37,
   "id": "2c3833cc-28ae-43bf-bdc4-37e04ac0f981",
   "metadata": {},
   "outputs": [],
   "source": [
    "import pandas as pd"
   ]
  },
  {
   "cell_type": "code",
   "execution_count": 38,
   "id": "ba1b8be7-9876-4433-aa89-ab9b23a326e4",
   "metadata": {},
   "outputs": [
    {
     "data": {
      "text/html": [
       "<div>\n",
       "<style scoped>\n",
       "    .dataframe tbody tr th:only-of-type {\n",
       "        vertical-align: middle;\n",
       "    }\n",
       "\n",
       "    .dataframe tbody tr th {\n",
       "        vertical-align: top;\n",
       "    }\n",
       "\n",
       "    .dataframe thead th {\n",
       "        text-align: right;\n",
       "    }\n",
       "</style>\n",
       "<table border=\"1\" class=\"dataframe\">\n",
       "  <thead>\n",
       "    <tr style=\"text-align: right;\">\n",
       "      <th></th>\n",
       "      <th>col1</th>\n",
       "      <th>geometry</th>\n",
       "    </tr>\n",
       "  </thead>\n",
       "  <tbody>\n",
       "    <tr>\n",
       "      <th>0</th>\n",
       "      <td>Point Roberts</td>\n",
       "      <td>POLYGON ((123.06724 49.00199, 123.06824 49.000...</td>\n",
       "    </tr>\n",
       "    <tr>\n",
       "      <th>1</th>\n",
       "      <td>Peace Arch International Park</td>\n",
       "      <td>POLYGON ((122.75552 49.00207, 122.75652 49.001...</td>\n",
       "    </tr>\n",
       "    <tr>\n",
       "      <th>2</th>\n",
       "      <td>Blaine–Pacific Highway</td>\n",
       "      <td>POLYGON ((122.73444 49.00215, 122.73544 49.001...</td>\n",
       "    </tr>\n",
       "    <tr>\n",
       "      <th>3</th>\n",
       "      <td>Lynden</td>\n",
       "      <td>POLYGON ((122.48410 49.00226, 122.48510 49.001...</td>\n",
       "    </tr>\n",
       "    <tr>\n",
       "      <th>4</th>\n",
       "      <td>Sumas</td>\n",
       "      <td>POLYGON ((122.26435 49.00240, 122.26535 49.001...</td>\n",
       "    </tr>\n",
       "    <tr>\n",
       "      <th>5</th>\n",
       "      <td>Nighthawk</td>\n",
       "      <td>POLYGON ((119.67004 49.00021, 119.67104 48.999...</td>\n",
       "    </tr>\n",
       "    <tr>\n",
       "      <th>6</th>\n",
       "      <td>Oroville</td>\n",
       "      <td>POLYGON ((119.46170 49.00010, 119.46270 48.999...</td>\n",
       "    </tr>\n",
       "    <tr>\n",
       "      <th>7</th>\n",
       "      <td>Ferry</td>\n",
       "      <td>POLYGON ((118.76010 49.00010, 118.76110 48.999...</td>\n",
       "    </tr>\n",
       "    <tr>\n",
       "      <th>8</th>\n",
       "      <td>Danville</td>\n",
       "      <td>POLYGON ((118.50229 49.00010, 118.50329 48.999...</td>\n",
       "    </tr>\n",
       "    <tr>\n",
       "      <th>9</th>\n",
       "      <td>Laurier</td>\n",
       "      <td>POLYGON ((118.22292 49.00010, 118.22392 48.999...</td>\n",
       "    </tr>\n",
       "    <tr>\n",
       "      <th>10</th>\n",
       "      <td>Frontier</td>\n",
       "      <td>POLYGON ((117.83070 49.00050, 117.83170 48.999...</td>\n",
       "    </tr>\n",
       "    <tr>\n",
       "      <th>11</th>\n",
       "      <td>Boundary</td>\n",
       "      <td>POLYGON ((117.62410 49.00070, 117.62510 48.999...</td>\n",
       "    </tr>\n",
       "    <tr>\n",
       "      <th>12</th>\n",
       "      <td>Metaline Falls</td>\n",
       "      <td>POLYGON ((117.29870 49.00000, 117.29970 48.999...</td>\n",
       "    </tr>\n",
       "  </tbody>\n",
       "</table>\n",
       "</div>"
      ],
      "text/plain": [
       "                             col1  \\\n",
       "0                   Point Roberts   \n",
       "1   Peace Arch International Park   \n",
       "2          Blaine–Pacific Highway   \n",
       "3                          Lynden   \n",
       "4                           Sumas   \n",
       "5                       Nighthawk   \n",
       "6                        Oroville   \n",
       "7                           Ferry   \n",
       "8                        Danville   \n",
       "9                         Laurier   \n",
       "10                       Frontier   \n",
       "11                       Boundary   \n",
       "12                 Metaline Falls   \n",
       "\n",
       "                                             geometry  \n",
       "0   POLYGON ((123.06724 49.00199, 123.06824 49.000...  \n",
       "1   POLYGON ((122.75552 49.00207, 122.75652 49.001...  \n",
       "2   POLYGON ((122.73444 49.00215, 122.73544 49.001...  \n",
       "3   POLYGON ((122.48410 49.00226, 122.48510 49.001...  \n",
       "4   POLYGON ((122.26435 49.00240, 122.26535 49.001...  \n",
       "5   POLYGON ((119.67004 49.00021, 119.67104 48.999...  \n",
       "6   POLYGON ((119.46170 49.00010, 119.46270 48.999...  \n",
       "7   POLYGON ((118.76010 49.00010, 118.76110 48.999...  \n",
       "8   POLYGON ((118.50229 49.00010, 118.50329 48.999...  \n",
       "9   POLYGON ((118.22292 49.00010, 118.22392 48.999...  \n",
       "10  POLYGON ((117.83070 49.00050, 117.83170 48.999...  \n",
       "11  POLYGON ((117.62410 49.00070, 117.62510 48.999...  \n",
       "12  POLYGON ((117.29870 49.00000, 117.29970 48.999...  "
      ]
     },
     "execution_count": 38,
     "metadata": {},
     "output_type": "execute_result"
    }
   ],
   "source": [
    "\n",
    "\n",
    "d = {'col1': [p[0] for p in pos]}\n",
    "df = pd.DataFrame(d)\n",
    "gdf=geopandas.GeoDataFrame(df, geometry=g)\n",
    "gdf"
   ]
  },
  {
   "cell_type": "code",
   "execution_count": 25,
   "id": "f7425629-bb37-41df-bfe3-847ccdb8b210",
   "metadata": {},
   "outputs": [
    {
     "data": {
      "text/plain": [
       "<Axes: >"
      ]
     },
     "execution_count": 25,
     "metadata": {},
     "output_type": "execute_result"
    },
    {
     "data": {
      "image/png": "[encoded data removed]",
      "text/plain": [
       "<Figure size 640x480 with 1 Axes>"
      ]
     },
     "metadata": {},
     "output_type": "display_data"
    }
   ],
   "source": [
    "gdf.plot()"
   ]
  },
  {
   "cell_type": "code",
   "execution_count": null,
   "id": "a1ec9dd3-07e9-4998-bfbe-f1291e1f53bc",
   "metadata": {},
   "outputs": [],
   "source": []
  }
 ],
 "metadata": {
  "kernelspec": {
   "display_name": "Python 3 (ipykernel)",
   "language": "python",
   "name": "python3"
  },
  "language_info": {
   "codemirror_mode": {
    "name": "ipython",
    "version": 3
   },
   "file_extension": ".py",
   "mimetype": "text/x-python",
   "name": "python",
   "nbconvert_exporter": "python",
   "pygments_lexer": "ipython3",
   "version": "3.11.6"
  }
 },
 "nbformat": 4,
 "nbformat_minor": 5
}
