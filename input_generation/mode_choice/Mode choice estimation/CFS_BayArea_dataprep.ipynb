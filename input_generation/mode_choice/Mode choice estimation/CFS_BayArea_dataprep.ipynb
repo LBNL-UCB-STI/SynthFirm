{
 "cells": [
  {
   "cell_type": "code",
   "execution_count": 33,
   "metadata": {},
   "outputs": [],
   "source": [
    "## Built-in modules\n",
    "import os\n",
    "\n",
    "## Third party modules\n",
    "import matplotlib.pyplot as plt\n",
    "import pandas as pd\n",
    "import numpy as np\n",
    "from collections import OrderedDict\n",
    "%matplotlib inline"
   ]
  },
  {
   "cell_type": "code",
   "execution_count": 60,
   "metadata": {},
   "outputs": [],
   "source": [
    "#import biogeme.results as res"
   ]
  },
  {
   "cell_type": "code",
   "execution_count": 3,
   "metadata": {},
   "outputs": [
    {
     "data": {
      "text/plain": [
       "'1.3.0'"
      ]
     },
     "execution_count": 3,
     "metadata": {},
     "output_type": "execute_result"
    }
   ],
   "source": [
    "#pd.__version__"
   ]
  },
  {
   "cell_type": "markdown",
   "metadata": {},
   "source": [
    "## Process the CFS data"
   ]
  },
  {
   "cell_type": "code",
   "execution_count": 44,
   "metadata": {},
   "outputs": [],
   "source": [
    "#df_raw = pd.read_csv('cfs_2012_pumf_csv.txt')\n",
    "#df_raw = pd.read_csv('cfs_2017.csv')"
   ]
  },
  {
   "cell_type": "code",
   "execution_count": 45,
   "metadata": {},
   "outputs": [],
   "source": [
    "## Only keep the CA Bay Area data + \"Rest of CA\"\n",
    "df_ca = df_raw[(df_raw['ORIG_CFS_AREA'] == '06-488') | (df_raw['ORIG_CFS_AREA'] == '06-472') | \n",
    "               (df_raw['ORIG_CFS_AREA'] == '06-260') | (df_raw['ORIG_CFS_AREA'] == '06-99999') | \n",
    "               (df_raw['DEST_CFS_AREA'] == '06-488') | (df_raw['DEST_CFS_AREA'] == '06-472') | \n",
    "               (df_raw['DEST_CFS_AREA'] == '06-260') | (df_raw['DEST_CFS_AREA'] == '06-99999') ]"
   ]
  },
  {
   "cell_type": "code",
   "execution_count": 36,
   "metadata": {},
   "outputs": [
    {
     "data": {
      "text/html": [
       "<div>\n",
       "<style scoped>\n",
       "    .dataframe tbody tr th:only-of-type {\n",
       "        vertical-align: middle;\n",
       "    }\n",
       "\n",
       "    .dataframe tbody tr th {\n",
       "        vertical-align: top;\n",
       "    }\n",
       "\n",
       "    .dataframe thead th {\n",
       "        text-align: right;\n",
       "    }\n",
       "</style>\n",
       "<table border=\"1\" class=\"dataframe\">\n",
       "  <thead>\n",
       "    <tr style=\"text-align: right;\">\n",
       "      <th></th>\n",
       "      <th>SHIPMT_ID</th>\n",
       "      <th>ORIG_STATE</th>\n",
       "      <th>ORIG_MA</th>\n",
       "      <th>ORIG_CFS_AREA</th>\n",
       "      <th>DEST_STATE</th>\n",
       "      <th>DEST_MA</th>\n",
       "      <th>DEST_CFS_AREA</th>\n",
       "      <th>NAICS</th>\n",
       "      <th>QUARTER</th>\n",
       "      <th>SCTG</th>\n",
       "      <th>MODE</th>\n",
       "      <th>SHIPMT_VALUE</th>\n",
       "      <th>SHIPMT_WGHT</th>\n",
       "      <th>SHIPMT_DIST_GC</th>\n",
       "      <th>SHIPMT_DIST_ROUTED</th>\n",
       "      <th>TEMP_CNTL_YN</th>\n",
       "      <th>EXPORT_YN</th>\n",
       "      <th>EXPORT_CNTRY</th>\n",
       "      <th>HAZMAT</th>\n",
       "      <th>WGT_FACTOR</th>\n",
       "    </tr>\n",
       "  </thead>\n",
       "  <tbody>\n",
       "    <tr>\n",
       "      <th>24</th>\n",
       "      <td>25</td>\n",
       "      <td>48</td>\n",
       "      <td>99999</td>\n",
       "      <td>48-99999</td>\n",
       "      <td>48</td>\n",
       "      <td>99999</td>\n",
       "      <td>48-99999</td>\n",
       "      <td>311</td>\n",
       "      <td>1</td>\n",
       "      <td>05</td>\n",
       "      <td>4</td>\n",
       "      <td>26498</td>\n",
       "      <td>33269</td>\n",
       "      <td>156</td>\n",
       "      <td>219</td>\n",
       "      <td>Y</td>\n",
       "      <td>N</td>\n",
       "      <td>N</td>\n",
       "      <td>N</td>\n",
       "      <td>114.3</td>\n",
       "    </tr>\n",
       "    <tr>\n",
       "      <th>43</th>\n",
       "      <td>44</td>\n",
       "      <td>48</td>\n",
       "      <td>41700</td>\n",
       "      <td>48-41700</td>\n",
       "      <td>48</td>\n",
       "      <td>41700</td>\n",
       "      <td>48-41700</td>\n",
       "      <td>4232</td>\n",
       "      <td>2</td>\n",
       "      <td>43</td>\n",
       "      <td>5</td>\n",
       "      <td>112</td>\n",
       "      <td>116</td>\n",
       "      <td>3</td>\n",
       "      <td>3</td>\n",
       "      <td>N</td>\n",
       "      <td>N</td>\n",
       "      <td>N</td>\n",
       "      <td>N</td>\n",
       "      <td>149.3</td>\n",
       "    </tr>\n",
       "    <tr>\n",
       "      <th>113</th>\n",
       "      <td>114</td>\n",
       "      <td>48</td>\n",
       "      <td>41700</td>\n",
       "      <td>48-41700</td>\n",
       "      <td>48</td>\n",
       "      <td>41700</td>\n",
       "      <td>48-41700</td>\n",
       "      <td>4244</td>\n",
       "      <td>2</td>\n",
       "      <td>05</td>\n",
       "      <td>5</td>\n",
       "      <td>94</td>\n",
       "      <td>28</td>\n",
       "      <td>6</td>\n",
       "      <td>8</td>\n",
       "      <td>Y</td>\n",
       "      <td>N</td>\n",
       "      <td>N</td>\n",
       "      <td>N</td>\n",
       "      <td>1667.7</td>\n",
       "    </tr>\n",
       "    <tr>\n",
       "      <th>145</th>\n",
       "      <td>146</td>\n",
       "      <td>48</td>\n",
       "      <td>99999</td>\n",
       "      <td>48-99999</td>\n",
       "      <td>48</td>\n",
       "      <td>99999</td>\n",
       "      <td>48-99999</td>\n",
       "      <td>4238</td>\n",
       "      <td>4</td>\n",
       "      <td>40</td>\n",
       "      <td>4</td>\n",
       "      <td>360</td>\n",
       "      <td>36</td>\n",
       "      <td>27</td>\n",
       "      <td>37</td>\n",
       "      <td>N</td>\n",
       "      <td>N</td>\n",
       "      <td>N</td>\n",
       "      <td>N</td>\n",
       "      <td>5080.7</td>\n",
       "    </tr>\n",
       "    <tr>\n",
       "      <th>169</th>\n",
       "      <td>170</td>\n",
       "      <td>51</td>\n",
       "      <td>99999</td>\n",
       "      <td>51-99999</td>\n",
       "      <td>48</td>\n",
       "      <td>99999</td>\n",
       "      <td>48-99999</td>\n",
       "      <td>326</td>\n",
       "      <td>4</td>\n",
       "      <td>24</td>\n",
       "      <td>4</td>\n",
       "      <td>22112</td>\n",
       "      <td>28239</td>\n",
       "      <td>1042</td>\n",
       "      <td>1290</td>\n",
       "      <td>N</td>\n",
       "      <td>N</td>\n",
       "      <td>N</td>\n",
       "      <td>N</td>\n",
       "      <td>106.6</td>\n",
       "    </tr>\n",
       "  </tbody>\n",
       "</table>\n",
       "</div>"
      ],
      "text/plain": [
       "     SHIPMT_ID  ORIG_STATE  ORIG_MA ORIG_CFS_AREA  DEST_STATE  DEST_MA  \\\n",
       "24          25          48    99999      48-99999          48    99999   \n",
       "43          44          48    41700      48-41700          48    41700   \n",
       "113        114          48    41700      48-41700          48    41700   \n",
       "145        146          48    99999      48-99999          48    99999   \n",
       "169        170          51    99999      51-99999          48    99999   \n",
       "\n",
       "    DEST_CFS_AREA  NAICS  QUARTER SCTG  MODE  SHIPMT_VALUE  SHIPMT_WGHT  \\\n",
       "24       48-99999    311        1   05     4         26498        33269   \n",
       "43       48-41700   4232        2   43     5           112          116   \n",
       "113      48-41700   4244        2   05     5            94           28   \n",
       "145      48-99999   4238        4   40     4           360           36   \n",
       "169      48-99999    326        4   24     4         22112        28239   \n",
       "\n",
       "     SHIPMT_DIST_GC  SHIPMT_DIST_ROUTED TEMP_CNTL_YN EXPORT_YN EXPORT_CNTRY  \\\n",
       "24              156                 219            Y         N            N   \n",
       "43                3                   3            N         N            N   \n",
       "113               6                   8            Y         N            N   \n",
       "145              27                  37            N         N            N   \n",
       "169            1042                1290            N         N            N   \n",
       "\n",
       "    HAZMAT  WGT_FACTOR  \n",
       "24       N       114.3  \n",
       "43       N       149.3  \n",
       "113      N      1667.7  \n",
       "145      N      5080.7  \n",
       "169      N       106.6  "
      ]
     },
     "execution_count": 36,
     "metadata": {},
     "output_type": "execute_result"
    }
   ],
   "source": [
    "df_ca.head()"
   ]
  },
  {
   "cell_type": "code",
   "execution_count": 51,
   "metadata": {},
   "outputs": [
    {
     "data": {
      "text/plain": [
       "(253810, 22)"
      ]
     },
     "execution_count": 51,
     "metadata": {},
     "output_type": "execute_result"
    }
   ],
   "source": [
    "df_ca.shape"
   ]
  },
  {
   "cell_type": "code",
   "execution_count": 49,
   "metadata": {},
   "outputs": [],
   "source": [
    "#df_ca['MODE'].value_counts()"
   ]
  },
  {
   "cell_type": "markdown",
   "metadata": {},
   "source": [
    "### Generate mode choice variables"
   ]
  },
  {
   "cell_type": "code",
   "execution_count": null,
   "metadata": {},
   "outputs": [],
   "source": [
    "#df_ca.loc[df_ca['MODE'] == 4, 'mode_agg5'] = 'For-hire Truck'"
   ]
  },
  {
   "cell_type": "code",
   "execution_count": 46,
   "metadata": {},
   "outputs": [],
   "source": [
    "mode_agg5_dict = {4:'For-hire Truck', \n",
    "                  5:'Private Truck', \n",
    "                  6:'Rail/IMX', \n",
    "                  15:'Rail/IMX', \n",
    "                  11:'Air', \n",
    "                  14:'Parcel', \n",
    "                  0:'Other',\n",
    "                  2:'Other',\n",
    "                  3:'Other',\n",
    "                  7:'Other',\n",
    "                  8:'Other',\n",
    "                  10:'Other',\n",
    "                  12:'Other',\n",
    "                  13:'Other',\n",
    "                  16:'Other',\n",
    "                  17:'Other',\n",
    "                  18:'Other',\n",
    "                  19:'Other',\n",
    "                  20:'Other',\n",
    "                  101:'Other'}\n",
    "\n",
    "mode_agg3_dict = {3:'Truck',\n",
    "                  4:'Truck', \n",
    "                  5:'Truck', \n",
    "                  6:'Rail/IMX', \n",
    "                  15:'Rail/IMX', \n",
    "                  11:'Air/Parcel', \n",
    "                  14:'Air/Parcel', \n",
    "                  0:'Other',\n",
    "                  2:'Other',\n",
    "                  7:'Other',\n",
    "                  8:'Other',\n",
    "                  10:'Other',\n",
    "                  12:'Other',\n",
    "                  13:'Other',\n",
    "                  16:'Other',\n",
    "                  17:'Other',\n",
    "                  18:'Other',\n",
    "                  19:'Other',\n",
    "                  20:'Other',\n",
    "                  101:'Other'}\n",
    "\n",
    "df_ca['mode_agg5'] = (df_ca.MODE).replace(mode_agg5_dict).copy()\n",
    "df_ca['mode_agg3'] = (df_ca.MODE).replace(mode_agg3_dict).copy()"
   ]
  },
  {
   "cell_type": "code",
   "execution_count": 9,
   "metadata": {},
   "outputs": [],
   "source": [
    "#df_ca[['MODE','mode_agg3','mode_agg5']].head(20)"
   ]
  },
  {
   "cell_type": "code",
   "execution_count": 53,
   "metadata": {},
   "outputs": [],
   "source": [
    "#df_ca['mode_agg5'].value_counts(dropna=False)"
   ]
  },
  {
   "cell_type": "code",
   "execution_count": 54,
   "metadata": {},
   "outputs": [],
   "source": [
    "#df_ca.groupby(['mode_agg5'])['WGT_FACTOR'].agg('sum')"
   ]
  },
  {
   "cell_type": "code",
   "execution_count": 11,
   "metadata": {},
   "outputs": [],
   "source": [
    "## Remove shipment with mode other than the 5 modes\n",
    "\n",
    "df_ca = df_ca[df_ca['mode_agg5'] != 'Other'] "
   ]
  },
  {
   "cell_type": "code",
   "execution_count": 43,
   "metadata": {},
   "outputs": [
    {
     "data": {
      "text/plain": [
       "For-hire Truck    72799\n",
       "Parcel            47848\n",
       "Private Truck     47575\n",
       "Rail/IMX           4197\n",
       "Air                2386\n",
       "Other               590\n",
       "Name: mode_agg5, dtype: int64"
      ]
     },
     "execution_count": 43,
     "metadata": {},
     "output_type": "execute_result"
    }
   ],
   "source": [
    "df_ca['mode_agg5'].value_counts()"
   ]
  },
  {
   "cell_type": "markdown",
   "metadata": {},
   "source": [
    "### Generate commodity type variables"
   ]
  },
  {
   "cell_type": "code",
   "execution_count": 13,
   "metadata": {},
   "outputs": [],
   "source": [
    "df_ca['SCTG'] = df_ca['SCTG'].astype(int)"
   ]
  },
  {
   "cell_type": "code",
   "execution_count": 14,
   "metadata": {},
   "outputs": [],
   "source": [
    "df_ca['bulk'] = np.where((df_ca['SCTG'] == 2) | (df_ca['SCTG'] == 10) | (df_ca['SCTG'] == 11) | \n",
    "                         (df_ca['SCTG'] == 12) | (df_ca['SCTG'] == 13) | (df_ca['SCTG'] == 14) | \n",
    "                         (df_ca['SCTG'] == 15) | (df_ca['SCTG'] == 25) | (df_ca['SCTG'] == 26)| (df_ca['SCTG'] == 32), 1, 0)\n",
    "df_ca['fuel_fert'] = np.where((df_ca['SCTG'] == 16) | (df_ca['SCTG'] == 17) | (df_ca['SCTG'] == 18) | \n",
    "                              (df_ca['SCTG'] == 19) | (df_ca['SCTG'] == 20) | (df_ca['SCTG'] == 22) | (df_ca['SCTG'] == 23), 1, 0)\n",
    "df_ca['interm_food'] = np.where((df_ca['SCTG'] == 1) | (df_ca['SCTG'] == 3) | (df_ca['SCTG'] == 4) | \n",
    "                         (df_ca['SCTG'] == 5) | (df_ca['SCTG'] == 6) | (df_ca['SCTG'] == 7) | (df_ca['SCTG'] == 8), 1, 0)\n",
    "df_ca['mfr_goods'] = np.where((df_ca['SCTG'] == 9) | (df_ca['SCTG'] == 21) | (df_ca['SCTG'] == 24) | \n",
    "                              (df_ca['SCTG'] == 27) | (df_ca['SCTG'] == 28) | (df_ca['SCTG'] == 29) | \n",
    "                              (df_ca['SCTG'] == 30) | (df_ca['SCTG'] == 31) | (df_ca['SCTG'] == 33) | \n",
    "                              (df_ca['SCTG'] == 34) | (df_ca['SCTG'] == 35) | (df_ca['SCTG'] == 36) |\n",
    "                              (df_ca['SCTG'] == 37) | (df_ca['SCTG'] == 38) | (df_ca['SCTG'] == 39) | (df_ca['SCTG'] == 40), 1, 0)\n",
    "df_ca['other'] = np.where((df_ca['SCTG'] == 41) | (df_ca['SCTG'] == 43) | (df_ca['SCTG'] == 99), 1, 0)\n",
    "\n",
    "## pd.get_dummies() - https://pandas.pydata.org/docs/reference/api/pandas.get_dummies.html\n",
    "## long_swiss_metro[\"single_luggage_piece\"] = (long_swiss_metro[\"LUGGAGE\"] == 1).astype(int)\n",
    "## df_long['hot_climate'] = (df_long['climate_zone'].isin(['Hot-Dry', 'Hot-Humid'])).astype(int)"
   ]
  },
  {
   "cell_type": "code",
   "execution_count": 16,
   "metadata": {},
   "outputs": [],
   "source": [
    "#df_ca[['bulk', 'fuel_fert', 'interm_food', 'mfr_goods','other']]"
   ]
  },
  {
   "cell_type": "code",
   "execution_count": 17,
   "metadata": {},
   "outputs": [],
   "source": [
    "commodity_dict = {2:'bulk', 10:'bulk', 11:'bulk', 12:'bulk', 13:'bulk', 14:'bulk', 15:'bulk', 25:'bulk', 26:'bulk', 32:'bulk',\n",
    "                  16:'fuel_fert', 17:'fuel_fert', 18:'fuel_fert', 19:'fuel_fert', 20:'fuel_fert', 22:'fuel_fert', 23:'fuel_fert',\n",
    "                  1:'interm_food', 3:'interm_food', 4:'interm_food', 5:'interm_food', 6:'interm_food', 7:'interm_food', 8:'interm_food',\n",
    "                  9:'mfr_goods', 21:'mfr_goods', 24:'mfr_goods', 27:'mfr_goods', 28:'mfr_goods', 29:'mfr_goods', 30:'mfr_goods', \n",
    "                  31:'mfr_goods', 33:'mfr_goods', 34:'mfr_goods', 35:'mfr_goods', 36:'mfr_goods', 37:'mfr_goods', 38:'mfr_goods', \n",
    "                  39:'mfr_goods', 40:'mfr_goods',\n",
    "                  41:'other', 43:'other', 99:'other'}\n",
    "\n",
    "df_ca['commodity'] = df_ca['SCTG'].map(commodity_dict)\n",
    "\n",
    "#df_ca['commodity'] = (df_ca.SCTG).replace(commodity_dict)"
   ]
  },
  {
   "cell_type": "code",
   "execution_count": 18,
   "metadata": {},
   "outputs": [],
   "source": [
    "#df_ca['commodity'].value_counts(dropna=False)"
   ]
  },
  {
   "cell_type": "code",
   "execution_count": 19,
   "metadata": {},
   "outputs": [],
   "source": [
    "#df_ca.groupby(['mode_agg5','commodity'])['WGT_FACTOR'].agg('count')"
   ]
  },
  {
   "cell_type": "markdown",
   "metadata": {},
   "source": [
    "### Generate NAICS industry type variables"
   ]
  },
  {
   "cell_type": "code",
   "execution_count": 20,
   "metadata": {},
   "outputs": [],
   "source": [
    "df_ca['naics2'] = df_ca['NAICS'].astype(str).str[:2].astype(int)"
   ]
  },
  {
   "cell_type": "code",
   "execution_count": 21,
   "metadata": {},
   "outputs": [
    {
     "data": {
      "text/plain": [
       "Manufacturing      89647\n",
       "Wholesale          65568\n",
       "Retail              5973\n",
       "Mining              5875\n",
       "Trans_Warehouse     4441\n",
       "Information         2080\n",
       "Mgt_companies       1221\n",
       "Name: naics_name, dtype: int64"
      ]
     },
     "execution_count": 21,
     "metadata": {},
     "output_type": "execute_result"
    }
   ],
   "source": [
    "df_ca['naics_name'] = (df_ca.naics2).replace({21:'Mining', \n",
    "                                              31:'Manufacturing',\n",
    "                                              32:'Manufacturing',\n",
    "                                              33:'Manufacturing',\n",
    "                                              42:'Wholesale',\n",
    "                                              45:'Retail',\n",
    "                                              49:'Trans_Warehouse',\n",
    "                                              51:'Information',\n",
    "                                              55:'Mgt_companies'})\n",
    "\n",
    "df_ca['naics_name'].value_counts() "
   ]
  },
  {
   "cell_type": "code",
   "execution_count": 22,
   "metadata": {},
   "outputs": [],
   "source": [
    "#df_ca.groupby(['mode_agg5','naics_name'])['WGT_FACTOR'].agg('count')"
   ]
  },
  {
   "cell_type": "code",
   "execution_count": 23,
   "metadata": {},
   "outputs": [],
   "source": [
    "#df_ca.groupby(['mode_agg5','naics_name'])['WGT_FACTOR'].agg('count')"
   ]
  },
  {
   "cell_type": "code",
   "execution_count": 24,
   "metadata": {},
   "outputs": [],
   "source": [
    "df_ca[\"wholesale\"] = (df_ca['naics_name'] == \"Wholesale\").astype(int)\n",
    "df_ca[\"mfring\"] = (df_ca['naics_name'] == \"Manufacturing\").astype(int)\n",
    "df_ca[\"mining\"] = (df_ca['naics_name'] == \"Mining\").astype(int)\n",
    "df_ca[\"retail\"] = (df_ca['naics_name'] == \"Retail\").astype(int)\n",
    "df_ca[\"info\"] = (df_ca['naics_name'] == \"Information\").astype(int)\n",
    "df_ca[\"management\"] = (df_ca['naics_name'] == \"Mgt_companies\").astype(int)\n",
    "df_ca[\"transwarehouse\"] = (df_ca['naics_name'] == \"Trans_Warehouse\").astype(int)"
   ]
  },
  {
   "cell_type": "markdown",
   "metadata": {},
   "source": [
    "### Generate shipment weight bins"
   ]
  },
  {
   "cell_type": "code",
   "execution_count": 25,
   "metadata": {},
   "outputs": [],
   "source": [
    "df_ca['wght_bin1'] = np.where(df_ca['SHIPMT_WGHT'] <= 150, 1,\n",
    "                     np.where((df_ca['SHIPMT_WGHT'] > 150) & (df_ca['SHIPMT_WGHT'] <= 1500), 2,\n",
    "                     np.where((df_ca['SHIPMT_WGHT'] > 1500) & (df_ca['SHIPMT_WGHT'] <= 30000), 3,\n",
    "                     np.where((df_ca['SHIPMT_WGHT'] > 30000) & (df_ca['SHIPMT_WGHT'] <= 45000), 4, 5))))\n",
    "\n",
    "#df_ca['wght_bin2'] = np.where(df_ca['SHIPMT_WGHT'] <= 150, 1,\n",
    "#                     np.where((df_ca['SHIPMT_WGHT'] > 150) & (df_ca['SHIPMT_WGHT'] <= 1000), 2,\n",
    "#                     np.where((df_ca['SHIPMT_WGHT'] > 1000) & (df_ca['SHIPMT_WGHT'] <= 5000), 3,\n",
    "#                     np.where((df_ca['SHIPMT_WGHT'] > 5000) & (df_ca['SHIPMT_WGHT'] <= 35000), 4, 5))))"
   ]
  },
  {
   "cell_type": "markdown",
   "metadata": {},
   "source": [
    "### Generate additional variables"
   ]
  },
  {
   "cell_type": "code",
   "execution_count": 26,
   "metadata": {},
   "outputs": [],
   "source": [
    "df_ca['geo'] = np.where(((df_ca['ORIG_CFS_AREA'] == '48-12420') | (df_ca['ORIG_CFS_AREA'] == '48-41700')) & \n",
    "               ((df_ca['DEST_CFS_AREA'] == '48-12420') | (df_ca['DEST_CFS_AREA'] == '48-41700')), 'Within Austin', 'External')\n",
    "\n",
    "df_ca['SHIPMT_WGHT_TON'] = df_ca['SHIPMT_WGHT']/2000\n",
    "\n",
    "df_ca['value_density'] = df_ca['SHIPMT_VALUE']/df_ca['SHIPMT_WGHT']\n",
    "\n",
    "df_ca['SHIPMT_DIST'] = df_ca['SHIPMT_DIST_ROUTED']\n",
    "df_ca['SHIPMT_DIST'] = np.where((df_ca['mode_agg5'] == 'Air') | (df_ca['mode_agg5'] == 'Parcel'), \n",
    "                                df_ca['SHIPMT_DIST_GC'],df_ca['SHIPMT_DIST']) # Use GC distance for Air and Parcel and Routed distance for the rest of modes."
   ]
  },
  {
   "cell_type": "markdown",
   "metadata": {},
   "source": [
    "### Additional data removal rules"
   ]
  },
  {
   "cell_type": "code",
   "execution_count": 27,
   "metadata": {},
   "outputs": [],
   "source": [
    "#df_ca.groupby(['mode_agg5'])['value_density'].describe()"
   ]
  },
  {
   "cell_type": "code",
   "execution_count": 28,
   "metadata": {},
   "outputs": [],
   "source": [
    "#df_ca.groupby(['commodity'])['value_density'].describe()"
   ]
  },
  {
   "cell_type": "code",
   "execution_count": 29,
   "metadata": {},
   "outputs": [],
   "source": [
    "## based on Stinson et al. (2017)\n",
    "df_ca.drop(df_ca[(df_ca['mode_agg5'] == 'Air') & (df_ca['SHIPMT_WGHT'] > 15000)].index, inplace = True)\n",
    "df_ca.drop(df_ca[(df_ca['mode_agg5'] == 'Air') & (df_ca['SHIPMT_WGHT'] > 150) & (df_ca['value_density'] < 1)].index, inplace = True)\n",
    "df_ca.drop(df_ca[(df_ca['mode_agg5'] == 'Parcel') & (df_ca['SHIPMT_WGHT'] > 150) & (df_ca['value_density'] < 1)].index, inplace = True)\n",
    "df_ca.drop(df_ca[(df_ca['MODE'] == 6) & (df_ca['SHIPMT_WGHT'] < 1500)].index, inplace = True)\n",
    "df_ca.drop(df_ca[(df_ca['MODE'] == 6) & (df_ca['value_density'] >= 4)].index, inplace = True)\n"
   ]
  },
  {
   "cell_type": "code",
   "execution_count": 30,
   "metadata": {},
   "outputs": [
    {
     "data": {
      "text/plain": [
       "(174715, 43)"
      ]
     },
     "execution_count": 30,
     "metadata": {},
     "output_type": "execute_result"
    }
   ],
   "source": [
    "df_ca.shape"
   ]
  }
 ],
 "metadata": {
  "kernelspec": {
   "display_name": "Python 3",
   "language": "python",
   "name": "python3"
  },
  "language_info": {
   "codemirror_mode": {
    "name": "ipython",
    "version": 3
   },
   "file_extension": ".py",
   "mimetype": "text/x-python",
   "name": "python",
   "nbconvert_exporter": "python",
   "pygments_lexer": "ipython3",
   "version": "3.7.6"
  }
 },
 "nbformat": 4,
 "nbformat_minor": 4
}
