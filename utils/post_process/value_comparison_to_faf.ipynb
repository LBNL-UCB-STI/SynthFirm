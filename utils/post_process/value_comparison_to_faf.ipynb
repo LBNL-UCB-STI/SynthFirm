{
 "cells": [
  {
   "cell_type": "code",
   "execution_count": 7,
   "id": "ca3f6f70-de0c-4510-9311-ccd3ee21dda2",
   "metadata": {},
   "outputs": [],
   "source": [
    "# set environment and import packages\n",
    "import os\n",
    "from pandas import read_csv\n",
    "import pandas as pd\n",
    "import geopandas as gps\n",
    "import matplotlib.pyplot as plt\n",
    "import seaborn as sns\n",
    "# import local python modules\n",
    "# import constants_sf as c\n",
    "import warnings\n",
    "warnings.filterwarnings(\"ignore\")\n",
    "\n",
    "os.chdir('/Users/xiaodanxu/Documents/SynthFirm.nosync')\n",
    "\n",
    "analysis_year = 2017\n",
    "us_ton_to_ton = 0.907185\n",
    "miles_to_km = 1.60934\n",
    "shipment_load_attr = 'tons_' + str(analysis_year)\n",
    "shipment_tonmile_attr = 'tmiles_' + str(analysis_year)\n",
    "shipment_value_attr = 'value_' + str(analysis_year)\n",
    "\n",
    "plot_dir = 'plots_Seattle'\n",
    "output_dir = 'outputs_Seattle'\n",
    "input_dir = 'inputs_Seattle'"
   ]
  },
  {
   "cell_type": "code",
   "execution_count": 2,
   "id": "cc83da29-4d09-46ec-a35c-81e0196e7cbc",
   "metadata": {},
   "outputs": [],
   "source": [
    "# set plot params\n",
    "plt.style.use('seaborn-v0_8-whitegrid')\n",
    "sns.set_style(\"white\")\n",
    "sns.set_theme(style=\"white\", font_scale=1.4)"
   ]
  },
  {
   "cell_type": "code",
   "execution_count": 3,
   "id": "61e6f30d-4526-48aa-aaaa-c27b86ee611e",
   "metadata": {},
   "outputs": [
    {
     "name": "stdout",
     "output_type": "stream",
     "text": [
      "Index(['SellerID', 'Zone', 'NAICS', 'Commodity_SCTG', 'Size',\n",
      "       'OutputCapacitylb', 'NonTransportUnitCost'],\n",
      "      dtype='object')\n",
      "Index(['NAICS', 'InputCommodity', 'Commodity_SCTG', 'Zone', 'Buyer.SCTG',\n",
      "       'BuyerID', 'Size', 'ConVal', 'PurchaseAmountlb'],\n",
      "      dtype='object')\n"
     ]
    },
    {
     "data": {
      "text/html": [
       "<div>\n",
       "<style scoped>\n",
       "    .dataframe tbody tr th:only-of-type {\n",
       "        vertical-align: middle;\n",
       "    }\n",
       "\n",
       "    .dataframe tbody tr th {\n",
       "        vertical-align: top;\n",
       "    }\n",
       "\n",
       "    .dataframe thead th {\n",
       "        text-align: right;\n",
       "    }\n",
       "</style>\n",
       "<table border=\"1\" class=\"dataframe\">\n",
       "  <thead>\n",
       "    <tr style=\"text-align: right;\">\n",
       "      <th></th>\n",
       "      <th>GEOID</th>\n",
       "      <th>CBPZONE</th>\n",
       "      <th>MESOZONE</th>\n",
       "      <th>FAFID</th>\n",
       "      <th>FAFNAME</th>\n",
       "    </tr>\n",
       "  </thead>\n",
       "  <tbody>\n",
       "    <tr>\n",
       "      <th>0</th>\n",
       "      <td>530559601001</td>\n",
       "      <td>53055</td>\n",
       "      <td>3312.0</td>\n",
       "      <td>539</td>\n",
       "      <td>Rest of WA</td>\n",
       "    </tr>\n",
       "    <tr>\n",
       "      <th>1</th>\n",
       "      <td>530330293053</td>\n",
       "      <td>53033</td>\n",
       "      <td>1923.0</td>\n",
       "      <td>531</td>\n",
       "      <td>Seattle</td>\n",
       "    </tr>\n",
       "    <tr>\n",
       "      <th>2</th>\n",
       "      <td>530330205002</td>\n",
       "      <td>53033</td>\n",
       "      <td>1429.0</td>\n",
       "      <td>531</td>\n",
       "      <td>Seattle</td>\n",
       "    </tr>\n",
       "    <tr>\n",
       "      <th>3</th>\n",
       "      <td>530770028021</td>\n",
       "      <td>53077</td>\n",
       "      <td>4720.0</td>\n",
       "      <td>539</td>\n",
       "      <td>Rest of WA</td>\n",
       "    </tr>\n",
       "    <tr>\n",
       "      <th>4</th>\n",
       "      <td>530530620003</td>\n",
       "      <td>53053</td>\n",
       "      <td>2850.0</td>\n",
       "      <td>531</td>\n",
       "      <td>Seattle</td>\n",
       "    </tr>\n",
       "  </tbody>\n",
       "</table>\n",
       "</div>"
      ],
      "text/plain": [
       "          GEOID  CBPZONE  MESOZONE  FAFID     FAFNAME\n",
       "0  530559601001    53055    3312.0    539  Rest of WA\n",
       "1  530330293053    53033    1923.0    531     Seattle\n",
       "2  530330205002    53033    1429.0    531     Seattle\n",
       "3  530770028021    53077    4720.0    539  Rest of WA\n",
       "4  530530620003    53053    2850.0    531     Seattle"
      ]
     },
     "execution_count": 3,
     "metadata": {},
     "output_type": "execute_result"
    }
   ],
   "source": [
    "#load modeled, FAF and CFS results\n",
    "\n",
    "faf_data = read_csv('Validation/' + 'FAF5.3.csv', sep = ',')\n",
    "production_file = 'synthetic_producers.csv'\n",
    "modeled_production = read_csv(os.path.join(output_dir, production_file))\n",
    "print(modeled_production.columns)\n",
    "\n",
    "consumption_file = 'synthetic_consumers.csv'\n",
    "modeled_consumption = read_csv(os.path.join(output_dir, consumption_file))\n",
    "print(modeled_consumption.columns)\n",
    "\n",
    "zonal_file = 'zonal_id_lookup_final.csv'\n",
    "zonal_id_lookup = read_csv(os.path.join(input_dir, zonal_file))\n",
    "zonal_id_lookup.head(5)"
   ]
  },
  {
   "cell_type": "code",
   "execution_count": 17,
   "id": "893d992c-6358-460c-a4e2-c26b08ecf8ce",
   "metadata": {},
   "outputs": [
    {
     "name": "stdout",
     "output_type": "stream",
     "text": [
      "[3312. 1923. 1429. 4720. 2850.]\n"
     ]
    }
   ],
   "source": [
    "# mesozone in study area\n",
    "region_code = [531, 532, 539, 411] \n",
    "zonal_id_selected = \\\n",
    "zonal_id_lookup.loc[zonal_id_lookup['FAFID'].isin(region_code)]\n",
    "list_of_zones = zonal_id_selected['MESOZONE'].unique()\n",
    "print(list_of_zones[0:5])"
   ]
  },
  {
   "cell_type": "code",
   "execution_count": 4,
   "id": "b5def9ce-5600-4ae7-b289-3a69c43c3229",
   "metadata": {},
   "outputs": [
    {
     "name": "stdout",
     "output_type": "stream",
     "text": [
      "production value before and after dropping international:\n",
      "14683035.103969714\n",
      "13132301.890880251\n",
      "consumption value before and after dropping international:\n",
      "11779803.131391123\n",
      "11061641.55055941\n"
     ]
    }
   ],
   "source": [
    "# cleaning -- removing international firms and re-calculate production value\n",
    "\n",
    "modeled_production.loc[:, 'ProdVal'] = \\\n",
    "modeled_production.loc[:, 'OutputCapacitylb'] * \\\n",
    "modeled_production.loc[:, 'NonTransportUnitCost'] / 10 ** 6\n",
    "\n",
    "print('production value before and after dropping international:')\n",
    "print(modeled_production.loc[:, 'ProdVal'].sum())\n",
    "modeled_production = \\\n",
    "modeled_production.loc[modeled_production['Zone'] < 30000]\n",
    "print(modeled_production.loc[:, 'ProdVal'].sum())\n",
    "\n",
    "print('consumption value before and after dropping international:')\n",
    "print(modeled_consumption.loc[:, 'ConVal'].sum())\n",
    "modeled_consumption = \\\n",
    "modeled_consumption.loc[modeled_consumption['Zone'] < 30000]\n",
    "print(modeled_consumption.loc[:, 'ConVal'].sum())"
   ]
  },
  {
   "cell_type": "code",
   "execution_count": 8,
   "id": "71f18ac8-5432-488f-a00a-930b4772dbdc",
   "metadata": {},
   "outputs": [
    {
     "name": "stdout",
     "output_type": "stream",
     "text": [
      "total production value from faf:\n",
      "15081746.696731\n"
     ]
    },
    {
     "data": {
      "text/html": [
       "<div>\n",
       "<style scoped>\n",
       "    .dataframe tbody tr th:only-of-type {\n",
       "        vertical-align: middle;\n",
       "    }\n",
       "\n",
       "    .dataframe tbody tr th {\n",
       "        vertical-align: top;\n",
       "    }\n",
       "\n",
       "    .dataframe thead th {\n",
       "        text-align: right;\n",
       "    }\n",
       "</style>\n",
       "<table border=\"1\" class=\"dataframe\">\n",
       "  <thead>\n",
       "    <tr style=\"text-align: right;\">\n",
       "      <th></th>\n",
       "      <th>fr_orig</th>\n",
       "      <th>dms_orig</th>\n",
       "      <th>dms_dest</th>\n",
       "      <th>fr_dest</th>\n",
       "      <th>fr_inmode</th>\n",
       "      <th>dms_mode</th>\n",
       "      <th>fr_outmode</th>\n",
       "      <th>sctg2</th>\n",
       "      <th>trade_type</th>\n",
       "      <th>dist_band</th>\n",
       "      <th>...</th>\n",
       "      <th>tmiles_2019</th>\n",
       "      <th>tmiles_2020</th>\n",
       "      <th>tmiles_2022</th>\n",
       "      <th>tmiles_2023</th>\n",
       "      <th>tmiles_2025</th>\n",
       "      <th>tmiles_2030</th>\n",
       "      <th>tmiles_2035</th>\n",
       "      <th>tmiles_2040</th>\n",
       "      <th>tmiles_2045</th>\n",
       "      <th>tmiles_2050</th>\n",
       "    </tr>\n",
       "  </thead>\n",
       "  <tbody>\n",
       "    <tr>\n",
       "      <th>0</th>\n",
       "      <td>NaN</td>\n",
       "      <td>11</td>\n",
       "      <td>11</td>\n",
       "      <td>NaN</td>\n",
       "      <td>NaN</td>\n",
       "      <td>1</td>\n",
       "      <td>NaN</td>\n",
       "      <td>1</td>\n",
       "      <td>1</td>\n",
       "      <td>1</td>\n",
       "      <td>...</td>\n",
       "      <td>3.351765</td>\n",
       "      <td>3.398871</td>\n",
       "      <td>3.614785</td>\n",
       "      <td>3.718716</td>\n",
       "      <td>4.364371</td>\n",
       "      <td>5.327137</td>\n",
       "      <td>6.342501</td>\n",
       "      <td>7.763605</td>\n",
       "      <td>9.571647</td>\n",
       "      <td>11.343818</td>\n",
       "    </tr>\n",
       "    <tr>\n",
       "      <th>1</th>\n",
       "      <td>NaN</td>\n",
       "      <td>11</td>\n",
       "      <td>19</td>\n",
       "      <td>NaN</td>\n",
       "      <td>NaN</td>\n",
       "      <td>1</td>\n",
       "      <td>NaN</td>\n",
       "      <td>1</td>\n",
       "      <td>1</td>\n",
       "      <td>2</td>\n",
       "      <td>...</td>\n",
       "      <td>50.646235</td>\n",
       "      <td>51.702439</td>\n",
       "      <td>54.030117</td>\n",
       "      <td>55.009694</td>\n",
       "      <td>62.052489</td>\n",
       "      <td>72.493059</td>\n",
       "      <td>82.113979</td>\n",
       "      <td>96.869428</td>\n",
       "      <td>116.602924</td>\n",
       "      <td>134.683927</td>\n",
       "    </tr>\n",
       "    <tr>\n",
       "      <th>2</th>\n",
       "      <td>NaN</td>\n",
       "      <td>11</td>\n",
       "      <td>129</td>\n",
       "      <td>NaN</td>\n",
       "      <td>NaN</td>\n",
       "      <td>1</td>\n",
       "      <td>NaN</td>\n",
       "      <td>1</td>\n",
       "      <td>1</td>\n",
       "      <td>3</td>\n",
       "      <td>...</td>\n",
       "      <td>0.468714</td>\n",
       "      <td>0.476138</td>\n",
       "      <td>0.483170</td>\n",
       "      <td>0.481371</td>\n",
       "      <td>0.486727</td>\n",
       "      <td>0.533539</td>\n",
       "      <td>0.564126</td>\n",
       "      <td>0.638719</td>\n",
       "      <td>0.750361</td>\n",
       "      <td>0.844720</td>\n",
       "    </tr>\n",
       "    <tr>\n",
       "      <th>3</th>\n",
       "      <td>NaN</td>\n",
       "      <td>11</td>\n",
       "      <td>131</td>\n",
       "      <td>NaN</td>\n",
       "      <td>NaN</td>\n",
       "      <td>1</td>\n",
       "      <td>NaN</td>\n",
       "      <td>1</td>\n",
       "      <td>1</td>\n",
       "      <td>2</td>\n",
       "      <td>...</td>\n",
       "      <td>2.267241</td>\n",
       "      <td>2.372436</td>\n",
       "      <td>2.359789</td>\n",
       "      <td>2.352784</td>\n",
       "      <td>2.549854</td>\n",
       "      <td>3.018065</td>\n",
       "      <td>3.155784</td>\n",
       "      <td>3.394250</td>\n",
       "      <td>3.850035</td>\n",
       "      <td>4.178881</td>\n",
       "    </tr>\n",
       "    <tr>\n",
       "      <th>4</th>\n",
       "      <td>NaN</td>\n",
       "      <td>11</td>\n",
       "      <td>139</td>\n",
       "      <td>NaN</td>\n",
       "      <td>NaN</td>\n",
       "      <td>1</td>\n",
       "      <td>NaN</td>\n",
       "      <td>1</td>\n",
       "      <td>1</td>\n",
       "      <td>2</td>\n",
       "      <td>...</td>\n",
       "      <td>1.327792</td>\n",
       "      <td>1.421785</td>\n",
       "      <td>1.412938</td>\n",
       "      <td>1.412791</td>\n",
       "      <td>1.554450</td>\n",
       "      <td>1.863748</td>\n",
       "      <td>1.969298</td>\n",
       "      <td>2.141527</td>\n",
       "      <td>2.456208</td>\n",
       "      <td>2.683008</td>\n",
       "    </tr>\n",
       "  </tbody>\n",
       "</table>\n",
       "<p>5 rows × 48 columns</p>\n",
       "</div>"
      ],
      "text/plain": [
       "   fr_orig  dms_orig  dms_dest  fr_dest  fr_inmode  dms_mode  fr_outmode  \\\n",
       "0      NaN        11        11      NaN        NaN         1         NaN   \n",
       "1      NaN        11        19      NaN        NaN         1         NaN   \n",
       "2      NaN        11       129      NaN        NaN         1         NaN   \n",
       "3      NaN        11       131      NaN        NaN         1         NaN   \n",
       "4      NaN        11       139      NaN        NaN         1         NaN   \n",
       "\n",
       "   sctg2  trade_type  dist_band  ...  tmiles_2019  tmiles_2020  tmiles_2022  \\\n",
       "0      1           1          1  ...     3.351765     3.398871     3.614785   \n",
       "1      1           1          2  ...    50.646235    51.702439    54.030117   \n",
       "2      1           1          3  ...     0.468714     0.476138     0.483170   \n",
       "3      1           1          2  ...     2.267241     2.372436     2.359789   \n",
       "4      1           1          2  ...     1.327792     1.421785     1.412938   \n",
       "\n",
       "   tmiles_2023  tmiles_2025  tmiles_2030  tmiles_2035  tmiles_2040  \\\n",
       "0     3.718716     4.364371     5.327137     6.342501     7.763605   \n",
       "1    55.009694    62.052489    72.493059    82.113979    96.869428   \n",
       "2     0.481371     0.486727     0.533539     0.564126     0.638719   \n",
       "3     2.352784     2.549854     3.018065     3.155784     3.394250   \n",
       "4     1.412791     1.554450     1.863748     1.969298     2.141527   \n",
       "\n",
       "   tmiles_2045  tmiles_2050  \n",
       "0     9.571647    11.343818  \n",
       "1   116.602924   134.683927  \n",
       "2     0.750361     0.844720  \n",
       "3     3.850035     4.178881  \n",
       "4     2.456208     2.683008  \n",
       "\n",
       "[5 rows x 48 columns]"
      ]
     },
     "execution_count": 8,
     "metadata": {},
     "output_type": "execute_result"
    }
   ],
   "source": [
    "# processing the faf data\n",
    "trade_type_id = 1 # domestic only\n",
    "faf_data_domestic = \\\n",
    "faf_data.loc[faf_data['trade_type'] == trade_type_id]\n",
    "print('total production value from faf:')\n",
    "print(faf_data_domestic[shipment_value_attr].sum())\n",
    "faf_data_domestic.head(5)"
   ]
  },
  {
   "cell_type": "code",
   "execution_count": 11,
   "id": "7af50858-d710-4036-89ff-de3e4ed93dad",
   "metadata": {},
   "outputs": [
    {
     "data": {
      "text/html": [
       "<div>\n",
       "<style scoped>\n",
       "    .dataframe tbody tr th:only-of-type {\n",
       "        vertical-align: middle;\n",
       "    }\n",
       "\n",
       "    .dataframe tbody tr th {\n",
       "        vertical-align: top;\n",
       "    }\n",
       "\n",
       "    .dataframe thead th {\n",
       "        text-align: right;\n",
       "    }\n",
       "</style>\n",
       "<table border=\"1\" class=\"dataframe\">\n",
       "  <thead>\n",
       "    <tr style=\"text-align: right;\">\n",
       "      <th></th>\n",
       "      <th>sctg2</th>\n",
       "      <th>value_2017</th>\n",
       "      <th>source</th>\n",
       "    </tr>\n",
       "  </thead>\n",
       "  <tbody>\n",
       "    <tr>\n",
       "      <th>0</th>\n",
       "      <td>1</td>\n",
       "      <td>174599.840998</td>\n",
       "      <td>FAF5 value</td>\n",
       "    </tr>\n",
       "    <tr>\n",
       "      <th>1</th>\n",
       "      <td>2</td>\n",
       "      <td>156787.422540</td>\n",
       "      <td>FAF5 value</td>\n",
       "    </tr>\n",
       "    <tr>\n",
       "      <th>2</th>\n",
       "      <td>3</td>\n",
       "      <td>333167.354853</td>\n",
       "      <td>FAF5 value</td>\n",
       "    </tr>\n",
       "    <tr>\n",
       "      <th>3</th>\n",
       "      <td>4</td>\n",
       "      <td>138668.253471</td>\n",
       "      <td>FAF5 value</td>\n",
       "    </tr>\n",
       "    <tr>\n",
       "      <th>4</th>\n",
       "      <td>5</td>\n",
       "      <td>349716.595858</td>\n",
       "      <td>FAF5 value</td>\n",
       "    </tr>\n",
       "  </tbody>\n",
       "</table>\n",
       "</div>"
      ],
      "text/plain": [
       "   sctg2     value_2017      source\n",
       "0      1  174599.840998  FAF5 value\n",
       "1      2  156787.422540  FAF5 value\n",
       "2      3  333167.354853  FAF5 value\n",
       "3      4  138668.253471  FAF5 value\n",
       "4      5  349716.595858  FAF5 value"
      ]
     },
     "execution_count": 11,
     "metadata": {},
     "output_type": "execute_result"
    }
   ],
   "source": [
    "modeled_production_by_sctg = \\\n",
    "modeled_production.groupby(['Commodity_SCTG'])[['ProdVal']].sum()\n",
    "\n",
    "modeled_production_by_sctg = modeled_production_by_sctg.reset_index()\n",
    "modeled_production_by_sctg.loc[:, 'source'] = 'modeled production'\n",
    "modeled_consumption_by_sctg = \\\n",
    "modeled_consumption.groupby(['Commodity_SCTG'])[['ConVal']].sum()\n",
    "\n",
    "modeled_consumption_by_sctg = modeled_consumption_by_sctg.reset_index()\n",
    "modeled_consumption_by_sctg.loc[:, 'source'] = 'modeled consumption'\n",
    "faf_value_by_sctg = faf_data_domestic.groupby(['sctg2'])[[shipment_value_attr]].sum()\n",
    "faf_value_by_sctg = faf_value_by_sctg.reset_index()\n",
    "faf_value_by_sctg.loc[:, 'source'] = 'FAF5 value'\n",
    "faf_value_by_sctg.head(5)"
   ]
  },
  {
   "cell_type": "code",
   "execution_count": 13,
   "id": "9536d947-ce81-4e6a-a88b-daef8a2d0da5",
   "metadata": {},
   "outputs": [
    {
     "data": {
      "text/plain": [
       "<Axes: xlabel='SCTG', ylabel='Value'>"
      ]
     },
     "execution_count": 13,
     "metadata": {},
     "output_type": "execute_result"
    },
    {
     "data": {
      "image/png": "[encoded data removed]",
      "text/plain": [
       "<Figure size 640x480 with 1 Axes>"
      ]
     },
     "metadata": {},
     "output_type": "display_data"
    }
   ],
   "source": [
    "# compare value\n",
    "col_names = ['SCTG', 'Value', 'Source']\n",
    "modeled_production_by_sctg.columns = col_names\n",
    "modeled_consumption_by_sctg.columns = col_names\n",
    "faf_value_by_sctg.columns = col_names\n",
    "\n",
    "national_value_to_compare = \\\n",
    "pd.concat([modeled_production_by_sctg,\n",
    "           modeled_consumption_by_sctg,\n",
    "           faf_value_by_sctg])\n"
   ]
  },
  {
   "cell_type": "code",
   "execution_count": 16,
   "id": "bbabbd92-ec96-4321-b33c-76a1d3877446",
   "metadata": {},
   "outputs": [
    {
     "name": "stdout",
     "output_type": "stream",
     "text": [
      "[43, 36, 35, 21, 34, 17, 24, 40, 7, 19, 30, 18, 32, 33, 23]\n"
     ]
    },
    {
     "data": {
      "text/plain": [
       "<Axes: xlabel='SCTG', ylabel='Value'>"
      ]
     },
     "execution_count": 16,
     "metadata": {},
     "output_type": "execute_result"
    },
    {
     "data": {
      "image/png": "[encoded data removed]",
      "text/plain": [
       "<Figure size 1000x600 with 1 Axes>"
      ]
     },
     "metadata": {},
     "output_type": "display_data"
    }
   ],
   "source": [
    "# plot top 10 commodity\n",
    "faf_value_by_sctg = faf_value_by_sctg.sort_values(by = 'Value',\n",
    "                                                 ascending = False)\n",
    "top_sctg = faf_value_by_sctg.head(15)['SCTG'].tolist()\n",
    "print(top_sctg)\n",
    "national_value_to_compare_top = \\\n",
    "national_value_to_compare.loc[national_value_to_compare['SCTG'].isin(top_sctg)]\n",
    "plt.figure(figsize = (10, 6))\n",
    "sns.barplot(national_value_to_compare_top,\n",
    "            x = 'SCTG', y = 'Value', hue = 'Source',\n",
    "            errorbar = None)"
   ]
  },
  {
   "cell_type": "code",
   "execution_count": 20,
   "id": "a10ff517-fb3f-44ed-85f3-d929c4bb57a6",
   "metadata": {},
   "outputs": [
    {
     "data": {
      "text/html": [
       "<div>\n",
       "<style scoped>\n",
       "    .dataframe tbody tr th:only-of-type {\n",
       "        vertical-align: middle;\n",
       "    }\n",
       "\n",
       "    .dataframe tbody tr th {\n",
       "        vertical-align: top;\n",
       "    }\n",
       "\n",
       "    .dataframe thead th {\n",
       "        text-align: right;\n",
       "    }\n",
       "</style>\n",
       "<table border=\"1\" class=\"dataframe\">\n",
       "  <thead>\n",
       "    <tr style=\"text-align: right;\">\n",
       "      <th></th>\n",
       "      <th>sctg2</th>\n",
       "      <th>value_2017</th>\n",
       "      <th>source</th>\n",
       "    </tr>\n",
       "  </thead>\n",
       "  <tbody>\n",
       "    <tr>\n",
       "      <th>0</th>\n",
       "      <td>1</td>\n",
       "      <td>2915.172571</td>\n",
       "      <td>FAF5 production</td>\n",
       "    </tr>\n",
       "    <tr>\n",
       "      <th>1</th>\n",
       "      <td>2</td>\n",
       "      <td>6741.448954</td>\n",
       "      <td>FAF5 production</td>\n",
       "    </tr>\n",
       "    <tr>\n",
       "      <th>2</th>\n",
       "      <td>3</td>\n",
       "      <td>18113.399920</td>\n",
       "      <td>FAF5 production</td>\n",
       "    </tr>\n",
       "    <tr>\n",
       "      <th>3</th>\n",
       "      <td>4</td>\n",
       "      <td>3081.014371</td>\n",
       "      <td>FAF5 production</td>\n",
       "    </tr>\n",
       "    <tr>\n",
       "      <th>4</th>\n",
       "      <td>5</td>\n",
       "      <td>12148.200922</td>\n",
       "      <td>FAF5 production</td>\n",
       "    </tr>\n",
       "  </tbody>\n",
       "</table>\n",
       "</div>"
      ],
      "text/plain": [
       "   sctg2    value_2017           source\n",
       "0      1   2915.172571  FAF5 production\n",
       "1      2   6741.448954  FAF5 production\n",
       "2      3  18113.399920  FAF5 production\n",
       "3      4   3081.014371  FAF5 production\n",
       "4      5  12148.200922  FAF5 production"
      ]
     },
     "execution_count": 20,
     "metadata": {},
     "output_type": "execute_result"
    }
   ],
   "source": [
    "# compare results for selected region\n",
    "region_modeled_production = \\\n",
    "modeled_production.loc[modeled_production['Zone'].isin(list_of_zones)]\n",
    "region_production_by_sctg = \\\n",
    "region_modeled_production.groupby(['Commodity_SCTG'])[['ProdVal']].sum()\n",
    "region_production_by_sctg = region_production_by_sctg.reset_index()\n",
    "region_production_by_sctg.loc[:, 'source'] = 'modeled production'\n",
    "\n",
    "region_modeled_consumption = \\\n",
    "modeled_consumption.loc[modeled_consumption['Zone'].isin(list_of_zones)]\n",
    "region_consumption_by_sctg = \\\n",
    "region_modeled_consumption.groupby(['Commodity_SCTG'])[['ConVal']].sum()\n",
    "region_consumption_by_sctg = region_consumption_by_sctg.reset_index()\n",
    "region_consumption_by_sctg.loc[:, 'source'] = 'modeled consumption'\n",
    "\n",
    "faf_data_region_prod = \\\n",
    "faf_data_domestic.loc[faf_data_domestic['dms_orig'].isin(region_code)]\n",
    "\n",
    "faf_data_region_cons = \\\n",
    "faf_data_domestic.loc[faf_data_domestic['dms_dest'].isin(region_code)]\n",
    "\n",
    "faf_region_prod_by_sctg = \\\n",
    "faf_data_region_prod.groupby(['sctg2'])[[shipment_value_attr]].sum()\n",
    "faf_region_prod_by_sctg = faf_region_prod_by_sctg.reset_index()\n",
    "faf_region_prod_by_sctg.loc[:, 'source'] = 'FAF5 production'\n",
    "# faf_region_prod_by_sctg.head(5)\n",
    "\n",
    "faf_region_cons_by_sctg = \\\n",
    "faf_data_region_cons.groupby(['sctg2'])[[shipment_value_attr]].sum()\n",
    "faf_region_cons_by_sctg = faf_region_cons_by_sctg.reset_index()\n",
    "faf_region_cons_by_sctg.loc[:, 'source'] = 'FAF5 production'\n",
    "faf_region_cons_by_sctg.head(5)"
   ]
  },
  {
   "cell_type": "code",
   "execution_count": 23,
   "id": "419bf419-3d2c-4e59-a211-031c8a23562c",
   "metadata": {},
   "outputs": [
    {
     "name": "stdout",
     "output_type": "stream",
     "text": [
      "Regional production modeled:\n",
      "344601.6251083225\n",
      "FAF production modeled:\n",
      "436652.546812\n",
      "[43, 40, 35, 21, 37, 7, 17, 19, 3, 34, 26, 38, 36, 30, 24]\n"
     ]
    },
    {
     "data": {
      "text/plain": [
       "<Axes: xlabel='SCTG', ylabel='Value'>"
      ]
     },
     "execution_count": 23,
     "metadata": {},
     "output_type": "execute_result"
    },
    {
     "data": {
      "image/png": "[encoded data removed]",
      "text/plain": [
       "<Figure size 1000x600 with 1 Axes>"
      ]
     },
     "metadata": {},
     "output_type": "display_data"
    }
   ],
   "source": [
    "# regional production\n",
    "col_names = ['SCTG', 'Value', 'Source']\n",
    "region_production_by_sctg.columns = col_names\n",
    "faf_region_prod_by_sctg.columns = col_names\n",
    "\n",
    "print('Regional production modeled:')\n",
    "print(region_production_by_sctg.Value.sum())\n",
    "print('FAF production modeled:')\n",
    "print(faf_region_prod_by_sctg.Value.sum())\n",
    "\n",
    "regional_production_to_compare = \\\n",
    "pd.concat([region_production_by_sctg,\n",
    "           faf_region_prod_by_sctg])\n",
    "\n",
    "faf_region_prod_by_sctg = \\\n",
    "faf_region_prod_by_sctg.sort_values(by = 'Value', ascending = False)\n",
    "top_sctg = faf_region_prod_by_sctg.head(15)['SCTG'].tolist()\n",
    "print(top_sctg)\n",
    "regional_production_to_compare_top = \\\n",
    "regional_production_to_compare.loc[regional_production_to_compare['SCTG'].isin(top_sctg)]\n",
    "plt.figure(figsize = (10, 6))\n",
    "sns.barplot(regional_production_to_compare_top,\n",
    "            x = 'SCTG', y = 'Value', hue = 'Source',\n",
    "            errorbar = None)"
   ]
  },
  {
   "cell_type": "code",
   "execution_count": 24,
   "id": "cba9a16e-a97d-4cc1-a8b1-85b32a885cd3",
   "metadata": {},
   "outputs": [
    {
     "name": "stdout",
     "output_type": "stream",
     "text": [
      "Regional consumption modeled:\n",
      "313656.77739332087\n",
      "FAF consumption modeled:\n",
      "451227.66166200006\n",
      "[43, 35, 40, 21, 34, 17, 7, 19, 36, 37, 3, 30, 24, 26, 38]\n"
     ]
    },
    {
     "data": {
      "text/plain": [
       "<Axes: xlabel='SCTG', ylabel='Value'>"
      ]
     },
     "execution_count": 24,
     "metadata": {},
     "output_type": "execute_result"
    },
    {
     "data": {
      "image/png": "[encoded data removed]",
      "text/plain": [
       "<Figure size 1000x600 with 1 Axes>"
      ]
     },
     "metadata": {},
     "output_type": "display_data"
    }
   ],
   "source": [
    "# regional consumption\n",
    "col_names = ['SCTG', 'Value', 'Source']\n",
    "region_consumption_by_sctg.columns = col_names\n",
    "faf_region_cons_by_sctg.columns = col_names\n",
    "\n",
    "print('Regional consumption modeled:')\n",
    "print(region_consumption_by_sctg.Value.sum())\n",
    "print('FAF consumption modeled:')\n",
    "print(faf_region_cons_by_sctg.Value.sum())\n",
    "\n",
    "regional_cons_to_compare = \\\n",
    "pd.concat([region_consumption_by_sctg,\n",
    "           faf_region_cons_by_sctg])\n",
    "\n",
    "faf_region_cons_by_sctg = \\\n",
    "faf_region_cons_by_sctg.sort_values(by = 'Value', ascending = False)\n",
    "top_sctg = faf_region_cons_by_sctg.head(15)['SCTG'].tolist()\n",
    "print(top_sctg)\n",
    "regional_cons_to_compare_top = \\\n",
    "regional_cons_to_compare.loc[regional_cons_to_compare['SCTG'].isin(top_sctg)]\n",
    "plt.figure(figsize = (10, 6))\n",
    "sns.barplot(regional_cons_to_compare_top,\n",
    "            x = 'SCTG', y = 'Value', hue = 'Source',\n",
    "            errorbar = None)"
   ]
  },
  {
   "cell_type": "code",
   "execution_count": 25,
   "id": "a94f4ca8-ef6c-4ab3-9e4e-611b7ccf8463",
   "metadata": {},
   "outputs": [
    {
     "name": "stdout",
     "output_type": "stream",
     "text": [
      "5978523\n",
      "Index(['SHIPMT_ID', 'ORIG_STATE', 'ORIG_MA', 'ORIG_CFS_AREA', 'DEST_STATE',\n",
      "       'DEST_MA', 'DEST_CFS_AREA', 'NAICS', 'QUARTER', 'SCTG', 'MODE',\n",
      "       'SHIPMT_VALUE', 'SHIPMT_WGHT', 'SHIPMT_DIST_GC', 'SHIPMT_DIST_ROUTED',\n",
      "       'TEMP_CNTL_YN', 'EXPORT_YN', 'EXPORT_CNTRY', 'HAZMAT', 'WGT_FACTOR'],\n",
      "      dtype='object')\n"
     ]
    }
   ],
   "source": [
    "# checking mixed freight from CFS\n",
    "CFS_df = pd.read_csv('RawData/CFS/cfs-2017-puf-csv.csv', sep = ',')\n",
    "print(len(CFS_df))\n",
    "print(CFS_df.columns)"
   ]
  },
  {
   "cell_type": "code",
   "execution_count": 31,
   "id": "e003e334-7803-4899-8464-495820fe8ca2",
   "metadata": {},
   "outputs": [
    {
     "name": "stdout",
     "output_type": "stream",
     "text": [
      "1435050.5632075001\n"
     ]
    },
    {
     "data": {
      "text/html": [
       "<div>\n",
       "<style scoped>\n",
       "    .dataframe tbody tr th:only-of-type {\n",
       "        vertical-align: middle;\n",
       "    }\n",
       "\n",
       "    .dataframe tbody tr th {\n",
       "        vertical-align: top;\n",
       "    }\n",
       "\n",
       "    .dataframe thead th {\n",
       "        text-align: right;\n",
       "    }\n",
       "</style>\n",
       "<table border=\"1\" class=\"dataframe\">\n",
       "  <thead>\n",
       "    <tr style=\"text-align: right;\">\n",
       "      <th></th>\n",
       "      <th>WGT_VALUE</th>\n",
       "    </tr>\n",
       "    <tr>\n",
       "      <th>NAICS</th>\n",
       "      <th></th>\n",
       "    </tr>\n",
       "  </thead>\n",
       "  <tbody>\n",
       "    <tr>\n",
       "      <th>4931</th>\n",
       "      <td>569948.121440</td>\n",
       "    </tr>\n",
       "    <tr>\n",
       "      <th>4244</th>\n",
       "      <td>412509.925337</td>\n",
       "    </tr>\n",
       "    <tr>\n",
       "      <th>4249</th>\n",
       "      <td>104431.657598</td>\n",
       "    </tr>\n",
       "    <tr>\n",
       "      <th>4237</th>\n",
       "      <td>48410.738942</td>\n",
       "    </tr>\n",
       "    <tr>\n",
       "      <th>311</th>\n",
       "      <td>46969.927754</td>\n",
       "    </tr>\n",
       "    <tr>\n",
       "      <th>4242</th>\n",
       "      <td>42109.776956</td>\n",
       "    </tr>\n",
       "    <tr>\n",
       "      <th>551114</th>\n",
       "      <td>35836.797296</td>\n",
       "    </tr>\n",
       "    <tr>\n",
       "      <th>4234</th>\n",
       "      <td>34568.431299</td>\n",
       "    </tr>\n",
       "    <tr>\n",
       "      <th>4541</th>\n",
       "      <td>29945.167003</td>\n",
       "    </tr>\n",
       "    <tr>\n",
       "      <th>4241</th>\n",
       "      <td>27537.972865</td>\n",
       "    </tr>\n",
       "  </tbody>\n",
       "</table>\n",
       "</div>"
      ],
      "text/plain": [
       "            WGT_VALUE\n",
       "NAICS                \n",
       "4931    569948.121440\n",
       "4244    412509.925337\n",
       "4249    104431.657598\n",
       "4237     48410.738942\n",
       "311      46969.927754\n",
       "4242     42109.776956\n",
       "551114   35836.797296\n",
       "4234     34568.431299\n",
       "4541     29945.167003\n",
       "4241     27537.972865"
      ]
     },
     "execution_count": 31,
     "metadata": {},
     "output_type": "execute_result"
    }
   ],
   "source": [
    "# processing mixed freight from CFS\n",
    "# no export\n",
    "CFS_df = CFS_df.loc[CFS_df['EXPORT_YN'] == 'N'] \n",
    "\n",
    "CFS_df.loc[:,'WGT_VALUE'] = \\\n",
    "CFS_df.loc[:,'SHIPMT_VALUE'] * CFS_df.loc[:,'WGT_FACTOR']/ 1000000\n",
    "CFS_to_check = CFS_df.loc[CFS_df['SCTG'] == '43']\n",
    "# IN MILLION$\n",
    "print(CFS_to_check.loc[:,'WGT_VALUE'].sum())\n",
    "mixed_freight_by_naics = \\\n",
    "CFS_to_check.groupby('NAICS')[['WGT_VALUE']].sum()\n",
    "mixed_freight_by_naics = \\\n",
    "mixed_freight_by_naics.sort_values(by = 'WGT_VALUE', \n",
    "                                   ascending = False)\n",
    "mixed_freight_by_naics.head(10)"
   ]
  },
  {
   "cell_type": "code",
   "execution_count": 32,
   "id": "f0ab65b1-3276-4b91-8989-dddf07429914",
   "metadata": {},
   "outputs": [
    {
     "name": "stdout",
     "output_type": "stream",
     "text": [
      "557090.1144121002\n"
     ]
    },
    {
     "data": {
      "text/html": [
       "<div>\n",
       "<style scoped>\n",
       "    .dataframe tbody tr th:only-of-type {\n",
       "        vertical-align: middle;\n",
       "    }\n",
       "\n",
       "    .dataframe tbody tr th {\n",
       "        vertical-align: top;\n",
       "    }\n",
       "\n",
       "    .dataframe thead th {\n",
       "        text-align: right;\n",
       "    }\n",
       "</style>\n",
       "<table border=\"1\" class=\"dataframe\">\n",
       "  <thead>\n",
       "    <tr style=\"text-align: right;\">\n",
       "      <th></th>\n",
       "      <th>WGT_VALUE</th>\n",
       "    </tr>\n",
       "    <tr>\n",
       "      <th>NAICS</th>\n",
       "      <th></th>\n",
       "    </tr>\n",
       "  </thead>\n",
       "  <tbody>\n",
       "    <tr>\n",
       "      <th>4541</th>\n",
       "      <td>121251.971655</td>\n",
       "    </tr>\n",
       "    <tr>\n",
       "      <th>4239</th>\n",
       "      <td>75098.632043</td>\n",
       "    </tr>\n",
       "    <tr>\n",
       "      <th>332</th>\n",
       "      <td>48062.807996</td>\n",
       "    </tr>\n",
       "    <tr>\n",
       "      <th>4931</th>\n",
       "      <td>41400.102210</td>\n",
       "    </tr>\n",
       "    <tr>\n",
       "      <th>339</th>\n",
       "      <td>40139.593820</td>\n",
       "    </tr>\n",
       "    <tr>\n",
       "      <th>4238</th>\n",
       "      <td>28713.354626</td>\n",
       "    </tr>\n",
       "    <tr>\n",
       "      <th>333</th>\n",
       "      <td>21674.532659</td>\n",
       "    </tr>\n",
       "    <tr>\n",
       "      <th>4234</th>\n",
       "      <td>17788.230142</td>\n",
       "    </tr>\n",
       "    <tr>\n",
       "      <th>326</th>\n",
       "      <td>13182.190076</td>\n",
       "    </tr>\n",
       "    <tr>\n",
       "      <th>4249</th>\n",
       "      <td>11750.110572</td>\n",
       "    </tr>\n",
       "  </tbody>\n",
       "</table>\n",
       "</div>"
      ],
      "text/plain": [
       "           WGT_VALUE\n",
       "NAICS               \n",
       "4541   121251.971655\n",
       "4239    75098.632043\n",
       "332     48062.807996\n",
       "4931    41400.102210\n",
       "339     40139.593820\n",
       "4238    28713.354626\n",
       "333     21674.532659\n",
       "4234    17788.230142\n",
       "326     13182.190076\n",
       "4249    11750.110572"
      ]
     },
     "execution_count": 32,
     "metadata": {},
     "output_type": "execute_result"
    }
   ],
   "source": [
    "CFS_to_check = CFS_df.loc[CFS_df['SCTG'] == '40']\n",
    "# IN MILLION$\n",
    "print(CFS_to_check.loc[:,'WGT_VALUE'].sum())\n",
    "mixed_freight_by_naics = \\\n",
    "CFS_to_check.groupby('NAICS')[['WGT_VALUE']].sum()\n",
    "mixed_freight_by_naics = \\\n",
    "mixed_freight_by_naics.sort_values(by = 'WGT_VALUE', \n",
    "                                   ascending = False)\n",
    "mixed_freight_by_naics.head(10)"
   ]
  },
  {
   "cell_type": "code",
   "execution_count": 34,
   "id": "164408ff-c1ee-4cef-8e98-62aa3f58bbb0",
   "metadata": {},
   "outputs": [
    {
     "name": "stdout",
     "output_type": "stream",
     "text": [
      "1164591.2814389002\n"
     ]
    }
   ],
   "source": [
    "# check total warehouse output\n",
    "CFS_to_check = CFS_df.loc[CFS_df['NAICS'] == 4931]\n",
    "print(CFS_to_check['WGT_VALUE'].sum())"
   ]
  },
  {
   "cell_type": "code",
   "execution_count": 35,
   "id": "ea8a1a29-93b9-434a-92f7-a4d3fcce4e29",
   "metadata": {},
   "outputs": [
    {
     "data": {
      "text/plain": [
       "array([   326,   4541,   4231,    212,  45431,   4239,   4238,    333,\n",
       "         4234,    322,    334,   4931,   5111,   4237,    325,    332,\n",
       "          323,   4244,   4235,   4236,   4247,   4242,    336,    311,\n",
       "         4241,   4243,   4248,    337,    331,   4233,   4232,   4249,\n",
       "          339,    327,    321,    313,   4246,    314,    316,    335,\n",
       "       551114,    312,    324,   4245,    315])"
      ]
     },
     "execution_count": 35,
     "metadata": {},
     "output_type": "execute_result"
    }
   ],
   "source": [
    "CFS_df['NAICS'].unique()"
   ]
  },
  {
   "cell_type": "code",
   "execution_count": 56,
   "id": "3db7c518-c7b5-49af-88d4-2a419ec62500",
   "metadata": {},
   "outputs": [
    {
     "data": {
      "text/html": [
       "<div>\n",
       "<style scoped>\n",
       "    .dataframe tbody tr th:only-of-type {\n",
       "        vertical-align: middle;\n",
       "    }\n",
       "\n",
       "    .dataframe tbody tr th {\n",
       "        vertical-align: top;\n",
       "    }\n",
       "\n",
       "    .dataframe thead th {\n",
       "        text-align: right;\n",
       "    }\n",
       "</style>\n",
       "<table border=\"1\" class=\"dataframe\">\n",
       "  <thead>\n",
       "    <tr style=\"text-align: right;\">\n",
       "      <th></th>\n",
       "      <th>SellerID</th>\n",
       "      <th>Zone</th>\n",
       "      <th>NAICS</th>\n",
       "      <th>Commodity_SCTG</th>\n",
       "      <th>Size</th>\n",
       "      <th>OutputCapacitylb</th>\n",
       "      <th>NonTransportUnitCost</th>\n",
       "      <th>ProdVal</th>\n",
       "      <th>NAICS3</th>\n",
       "      <th>NAICS4</th>\n",
       "      <th>NAICS_CFS</th>\n",
       "    </tr>\n",
       "  </thead>\n",
       "  <tbody>\n",
       "    <tr>\n",
       "      <th>0</th>\n",
       "      <td>1</td>\n",
       "      <td>20001</td>\n",
       "      <td>113000</td>\n",
       "      <td>25</td>\n",
       "      <td>4.333333</td>\n",
       "      <td>29514340.68</td>\n",
       "      <td>0.098623</td>\n",
       "      <td>2.91079</td>\n",
       "      <td>113</td>\n",
       "      <td>1130</td>\n",
       "      <td>NaN</td>\n",
       "    </tr>\n",
       "    <tr>\n",
       "      <th>1</th>\n",
       "      <td>2</td>\n",
       "      <td>20001</td>\n",
       "      <td>113000</td>\n",
       "      <td>25</td>\n",
       "      <td>4.333333</td>\n",
       "      <td>29514340.68</td>\n",
       "      <td>0.098623</td>\n",
       "      <td>2.91079</td>\n",
       "      <td>113</td>\n",
       "      <td>1130</td>\n",
       "      <td>NaN</td>\n",
       "    </tr>\n",
       "    <tr>\n",
       "      <th>2</th>\n",
       "      <td>3</td>\n",
       "      <td>20001</td>\n",
       "      <td>113000</td>\n",
       "      <td>25</td>\n",
       "      <td>4.333333</td>\n",
       "      <td>29514340.68</td>\n",
       "      <td>0.098623</td>\n",
       "      <td>2.91079</td>\n",
       "      <td>113</td>\n",
       "      <td>1130</td>\n",
       "      <td>NaN</td>\n",
       "    </tr>\n",
       "    <tr>\n",
       "      <th>3</th>\n",
       "      <td>4</td>\n",
       "      <td>20001</td>\n",
       "      <td>113000</td>\n",
       "      <td>25</td>\n",
       "      <td>4.333333</td>\n",
       "      <td>29514340.68</td>\n",
       "      <td>0.098623</td>\n",
       "      <td>2.91079</td>\n",
       "      <td>113</td>\n",
       "      <td>1130</td>\n",
       "      <td>NaN</td>\n",
       "    </tr>\n",
       "    <tr>\n",
       "      <th>4</th>\n",
       "      <td>5</td>\n",
       "      <td>20001</td>\n",
       "      <td>113000</td>\n",
       "      <td>25</td>\n",
       "      <td>4.333333</td>\n",
       "      <td>29514340.68</td>\n",
       "      <td>0.098623</td>\n",
       "      <td>2.91079</td>\n",
       "      <td>113</td>\n",
       "      <td>1130</td>\n",
       "      <td>NaN</td>\n",
       "    </tr>\n",
       "  </tbody>\n",
       "</table>\n",
       "</div>"
      ],
      "text/plain": [
       "   SellerID   Zone   NAICS  Commodity_SCTG      Size  OutputCapacitylb  \\\n",
       "0         1  20001  113000              25  4.333333       29514340.68   \n",
       "1         2  20001  113000              25  4.333333       29514340.68   \n",
       "2         3  20001  113000              25  4.333333       29514340.68   \n",
       "3         4  20001  113000              25  4.333333       29514340.68   \n",
       "4         5  20001  113000              25  4.333333       29514340.68   \n",
       "\n",
       "   NonTransportUnitCost  ProdVal NAICS3 NAICS4  NAICS_CFS  \n",
       "0              0.098623  2.91079    113   1130        NaN  \n",
       "1              0.098623  2.91079    113   1130        NaN  \n",
       "2              0.098623  2.91079    113   1130        NaN  \n",
       "3              0.098623  2.91079    113   1130        NaN  \n",
       "4              0.098623  2.91079    113   1130        NaN  "
      ]
     },
     "execution_count": 56,
     "metadata": {},
     "output_type": "execute_result"
    }
   ],
   "source": [
    "import numpy as np\n",
    "\n",
    "modeled_production.loc[:, 'NAICS3'] = \\\n",
    "modeled_production.loc[:, 'NAICS'].str[0:3]\n",
    "modeled_production.loc[:, 'NAICS4'] = \\\n",
    "modeled_production.loc[:, 'NAICS'].str[0:4]\n",
    "\n",
    "naics3_list = ['326', '212', '333', '322', '334', '325', '332',\n",
    "               '323', '336', '311', '337', '331', '339', '327',    \n",
    "               '321', '313', '314', '316', '335', '312', '324', \n",
    "               '315' ]\n",
    "modeled_production.loc[:, 'NAICS_CFS'] = np.nan\n",
    "\n",
    "naics3_index = (modeled_production['NAICS3'].isin(naics3_list))\n",
    "modeled_production.loc[naics3_index, 'NAICS_CFS'] = \\\n",
    "modeled_production.loc[naics3_index, 'NAICS3'].astype(int)\n",
    "\n",
    "naics4_list = ['4541', '4231', '4239', '4238', '4234', '4931', \n",
    "               '5111', '4237', '4244', '4235', '4236', '4247',   \n",
    "               '4242', '4241', '4243', '4248', '4233', '4232',   \n",
    "               '4249', '4246', '4245']\n",
    "\n",
    "naics4_index = (modeled_production['NAICS4'].isin(naics4_list))\n",
    "modeled_production.loc[naics4_index, 'NAICS_CFS'] = \\\n",
    "modeled_production.loc[naics4_index, 'NAICS4'].astype(int)\n",
    "\n",
    "other_index = (modeled_production['NAICS3'] == '484')\n",
    "modeled_production.loc[other_index, 'NAICS_CFS'] = 4931\n",
    "\n",
    "other_index = (modeled_production['NAICS'] == '484')\n",
    "modeled_production.loc[other_index, 'NAICS_CFS'] = 4931\n",
    "modeled_production.head(5)"
   ]
  },
  {
   "cell_type": "code",
   "execution_count": 55,
   "id": "78548808-5d54-4246-93c5-c62dc2bacfa9",
   "metadata": {},
   "outputs": [
    {
     "data": {
      "text/plain": [
       "array(['113', '114', '115', '211', '212', '311', '312', '313', '314',\n",
       "       '315', '316', '321', '322', '323', '324', '325', '326', '327',\n",
       "       '331', '332', '333', '334', '335', '336', '337', '339', '511',\n",
       "       '111', '112', '424', '423', '425', nan], dtype=object)"
      ]
     },
     "execution_count": 55,
     "metadata": {},
     "output_type": "execute_result"
    }
   ],
   "source": [
    "modeled_production.loc[:, 'NAICS3'].unique()"
   ]
  },
  {
   "cell_type": "code",
   "execution_count": 63,
   "id": "da95dcc0-21f1-4cf9-9173-55fe3d967d14",
   "metadata": {},
   "outputs": [
    {
     "data": {
      "image/png": "[encoded data removed]",
      "text/plain": [
       "<Figure size 640x480 with 1 Axes>"
      ]
     },
     "metadata": {},
     "output_type": "display_data"
    }
   ],
   "source": [
    "CFS_value_by_naics = CFS_df.groupby('NAICS')[['WGT_VALUE']].sum()\n",
    "CFS_value_by_naics = CFS_value_by_naics.reset_index()\n",
    "CFS_value_by_naics\n",
    "\n",
    "modeled_production_to_compare = \\\n",
    "modeled_production.loc[~modeled_production['NAICS_CFS'].isna()]\n",
    "modeled_value_by_naics = \\\n",
    "modeled_production_to_compare.groupby('NAICS_CFS')[['ProdVal']].sum()\n",
    "modeled_value_by_naics = modeled_value_by_naics.reset_index()\n",
    "modeled_value_by_naics\n",
    "CFS_value_compare = pd.merge(CFS_value_by_naics,\n",
    "                             modeled_value_by_naics,\n",
    "                             left_on = 'NAICS', right_on = 'NAICS_CFS',\n",
    "                             how = 'left')\n",
    "\n",
    "CFS_value_compare.head(10)\n",
    "CFS_value_compare = CFS_value_compare.drop(columns = ['NAICS_CFS'])\n",
    "CFS_value_compare.plot(x='NAICS', kind = 'bar')\n",
    "CFS_value_compare.to_csv('Validation/compare_value_cfs.csv')"
   ]
  },
  {
   "cell_type": "code",
   "execution_count": 65,
   "id": "8b75a19e-b303-4c92-aa3d-2d3ae68fe1a5",
   "metadata": {},
   "outputs": [],
   "source": [
    "cfs_commodity_by_naics = \\\n",
    "CFS_df.groupby(['SCTG','NAICS'])[['WGT_VALUE']].sum()\n",
    "cfs_commodity_by_naics = cfs_commodity_by_naics.reset_index()\n",
    "cfs_commodity_by_naics.to_csv('Validation/cfs_value_by_sctg_naics.csv',\n",
    "                             index = False)"
   ]
  },
  {
   "cell_type": "code",
   "execution_count": null,
   "id": "809dadd5-b7c8-42cc-aeac-332c82ac7a67",
   "metadata": {},
   "outputs": [],
   "source": []
  }
 ],
 "metadata": {
  "kernelspec": {
   "display_name": "Python 3 (ipykernel)",
   "language": "python",
   "name": "python3"
  },
  "language_info": {
   "codemirror_mode": {
    "name": "ipython",
    "version": 3
   },
   "file_extension": ".py",
   "mimetype": "text/x-python",
   "name": "python",
   "nbconvert_exporter": "python",
   "pygments_lexer": "ipython3",
   "version": "3.11.6"
  }
 },
 "nbformat": 4,
 "nbformat_minor": 5
}
