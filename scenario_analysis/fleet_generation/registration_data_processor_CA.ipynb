{
 "cells": [
  {
   "cell_type": "code",
   "execution_count": 1,
   "id": "92532886-f89d-451d-b765-57ff79db6b00",
   "metadata": {},
   "outputs": [],
   "source": [
    "import os\n",
    "from pandas import read_csv\n",
    "import pandas as pd\n",
    "import geopandas as gps\n",
    "import matplotlib.pyplot as plt\n",
    "import seaborn as sns\n",
    "\n",
    "os.chdir('/Users/xiaodanxu/Documents/SynthFirm.nosync/BayArea_GIS')\n",
    "\n",
    "medium_duty_class = [3, 4, 5, 6] # ref: https://afdc.energy.gov/data/10380\n",
    "heavy_duty_class = [7, 8]\n",
    "\n",
    "plt.style.use('ggplot')\n",
    "sns.set(font_scale=1.2)  # larger font"
   ]
  },
  {
   "cell_type": "code",
   "execution_count": 2,
   "id": "a81ae6f9-fa54-44ac-8df0-56dfccc2804e",
   "metadata": {},
   "outputs": [
    {
     "name": "stdout",
     "output_type": "stream",
     "text": [
      "890077\n"
     ]
    },
    {
     "data": {
      "text/html": [
       "<div>\n",
       "<style scoped>\n",
       "    .dataframe tbody tr th:only-of-type {\n",
       "        vertical-align: middle;\n",
       "    }\n",
       "\n",
       "    .dataframe tbody tr th {\n",
       "        vertical-align: top;\n",
       "    }\n",
       "\n",
       "    .dataframe thead th {\n",
       "        text-align: right;\n",
       "    }\n",
       "</style>\n",
       "<table border=\"1\" class=\"dataframe\">\n",
       "  <thead>\n",
       "    <tr style=\"text-align: right;\">\n",
       "      <th></th>\n",
       "      <th>Unnamed: 0</th>\n",
       "      <th>zip_code</th>\n",
       "      <th>vocation</th>\n",
       "      <th>carrier_type</th>\n",
       "      <th>business_name</th>\n",
       "      <th>fuel</th>\n",
       "      <th>vin_gvw</th>\n",
       "      <th>vehicle_type</th>\n",
       "      <th>yr_mdl</th>\n",
       "      <th>totcount</th>\n",
       "      <th>MDV</th>\n",
       "      <th>HDV</th>\n",
       "    </tr>\n",
       "  </thead>\n",
       "  <tbody>\n",
       "    <tr>\n",
       "      <th>0</th>\n",
       "      <td>1</td>\n",
       "      <td>90001</td>\n",
       "      <td>AGRICULTURE/FARM</td>\n",
       "      <td>PRIVATE</td>\n",
       "      <td>121048.0</td>\n",
       "      <td>DIESEL</td>\n",
       "      <td>7</td>\n",
       "      <td>STRAIGHT TRUCK</td>\n",
       "      <td>1995</td>\n",
       "      <td>1</td>\n",
       "      <td>0</td>\n",
       "      <td>1</td>\n",
       "    </tr>\n",
       "    <tr>\n",
       "      <th>1</th>\n",
       "      <td>2</td>\n",
       "      <td>90001</td>\n",
       "      <td>AGRICULTURE/FARM</td>\n",
       "      <td>PRIVATE</td>\n",
       "      <td>121048.0</td>\n",
       "      <td>DIESEL</td>\n",
       "      <td>8</td>\n",
       "      <td>TRACTOR TRUCK</td>\n",
       "      <td>1996</td>\n",
       "      <td>1</td>\n",
       "      <td>0</td>\n",
       "      <td>1</td>\n",
       "    </tr>\n",
       "    <tr>\n",
       "      <th>2</th>\n",
       "      <td>3</td>\n",
       "      <td>90001</td>\n",
       "      <td>BEVERAGE PROCESSING &amp; DISTRIBUTION</td>\n",
       "      <td>PRIVATE</td>\n",
       "      <td>14652.0</td>\n",
       "      <td>DIESEL</td>\n",
       "      <td>7</td>\n",
       "      <td>CAB CHASSIS</td>\n",
       "      <td>1991</td>\n",
       "      <td>1</td>\n",
       "      <td>0</td>\n",
       "      <td>1</td>\n",
       "    </tr>\n",
       "    <tr>\n",
       "      <th>3</th>\n",
       "      <td>4</td>\n",
       "      <td>90001</td>\n",
       "      <td>BUS TRANSPORTATION</td>\n",
       "      <td>FOR HIRE</td>\n",
       "      <td>7289.0</td>\n",
       "      <td>DIESEL</td>\n",
       "      <td>8</td>\n",
       "      <td>BUS NON SCHOOL</td>\n",
       "      <td>1999</td>\n",
       "      <td>1</td>\n",
       "      <td>0</td>\n",
       "      <td>1</td>\n",
       "    </tr>\n",
       "    <tr>\n",
       "      <th>4</th>\n",
       "      <td>5</td>\n",
       "      <td>90001</td>\n",
       "      <td>BUS TRANSPORTATION</td>\n",
       "      <td>FOR HIRE</td>\n",
       "      <td>38589.0</td>\n",
       "      <td>DIESEL</td>\n",
       "      <td>8</td>\n",
       "      <td>BUS NON SCHOOL</td>\n",
       "      <td>1994</td>\n",
       "      <td>1</td>\n",
       "      <td>0</td>\n",
       "      <td>1</td>\n",
       "    </tr>\n",
       "  </tbody>\n",
       "</table>\n",
       "</div>"
      ],
      "text/plain": [
       "   Unnamed: 0  zip_code                            vocation carrier_type  \\\n",
       "0           1     90001                    AGRICULTURE/FARM      PRIVATE   \n",
       "1           2     90001                    AGRICULTURE/FARM      PRIVATE   \n",
       "2           3     90001  BEVERAGE PROCESSING & DISTRIBUTION      PRIVATE   \n",
       "3           4     90001                  BUS TRANSPORTATION     FOR HIRE   \n",
       "4           5     90001                  BUS TRANSPORTATION     FOR HIRE   \n",
       "\n",
       "   business_name    fuel  vin_gvw    vehicle_type  yr_mdl  totcount  MDV  HDV  \n",
       "0       121048.0  DIESEL        7  STRAIGHT TRUCK    1995         1    0    1  \n",
       "1       121048.0  DIESEL        8   TRACTOR TRUCK    1996         1    0    1  \n",
       "2        14652.0  DIESEL        7     CAB CHASSIS    1991         1    0    1  \n",
       "3         7289.0  DIESEL        8  BUS NON SCHOOL    1999         1    0    1  \n",
       "4        38589.0  DIESEL        8  BUS NON SCHOOL    1994         1    0    1  "
      ]
     },
     "execution_count": 2,
     "metadata": {},
     "output_type": "execute_result"
    }
   ],
   "source": [
    "registration_data = read_csv('registration/CA_MDHDbybizID.csv')\n",
    "registration_data.loc[:, 'MDV'] = registration_data.loc[:, 'totcount'] * (registration_data.loc[:, 'vin_gvw'].isin(medium_duty_class)) + \\\n",
    "0 * (registration_data.loc[:, 'vin_gvw'].isin(heavy_duty_class))\n",
    "registration_data.loc[:, 'HDV'] = 0 * (registration_data.loc[:, 'vin_gvw'].isin(medium_duty_class)) + \\\n",
    "registration_data.loc[:, 'totcount'] * (registration_data.loc[:, 'vin_gvw'].isin(heavy_duty_class))\n",
    "print(registration_data.totcount.sum())\n",
    "registration_data.head(5)"
   ]
  },
  {
   "cell_type": "code",
   "execution_count": 3,
   "id": "a8407aaf-b754-442c-a733-a3836f12a923",
   "metadata": {},
   "outputs": [
    {
     "name": "stdout",
     "output_type": "stream",
     "text": [
      "                    carrier_type  totcount  percentage\n",
      "0            CANADIAN GOVERNMENT         4    0.000449\n",
      "1                         DEALER      7746    0.870262\n",
      "2                  FINANCE LEASE     16536    1.857817\n",
      "3                       FOR HIRE    108567   12.197484\n",
      "4             FULL SERVICE LEASE     31202    3.505539\n",
      "5                     INDIVIDUAL    332083   37.309469\n",
      "6   LOCAL GOVERNMENT (U.S. ONLY)     44876    5.041811\n",
      "7   MANUFACTURER SPONSORED LEASE      1059    0.118978\n",
      "8                        PRIVATE    331136   37.203073\n",
      "9   STATE GOVERNMENT (U.S. ONLY)      4881    0.548380\n",
      "10               U.S. GOVERNMENT      1009    0.113361\n",
      "11      UTILITIES/COMMUNICATIONS     10769    1.209895\n",
      "12          VEHICLE MANUFACTURER       209    0.023481\n",
      "                      fuel  totcount  percentage\n",
      "0   COMPRESSED NATURAL GAS     12184    1.368870\n",
      "1              CONVERTIBLE       214    0.024043\n",
      "2                   DIESEL    678474   76.226439\n",
      "3                 ELECTRIC         9    0.001011\n",
      "4  ELECTRIC AND DIESEL HYB       351    0.039435\n",
      "5  ELECTRIC AND GAS HYBRID         4    0.000449\n",
      "6                 FLEXIBLE       801    0.089992\n",
      "7                      GAS    194422   21.843279\n",
      "8                  PROPANE      1394    0.156616\n",
      "9                  UNKNOWN      2224    0.249866\n"
     ]
    }
   ],
   "source": [
    "count_by_carrier_type = registration_data.groupby(['carrier_type'])[['totcount']].sum()\n",
    "count_by_carrier_type = count_by_carrier_type.reset_index()\n",
    "count_by_carrier_type.loc[:, 'percentage'] = count_by_carrier_type.loc[:, 'totcount'] / \\\n",
    "count_by_carrier_type.loc[:, 'totcount'].sum() *100\n",
    "print(count_by_carrier_type)\n",
    "\n",
    "count_by_fuel_type = registration_data.groupby(['fuel'])[['totcount']].sum()\n",
    "count_by_fuel_type = count_by_fuel_type.reset_index()\n",
    "count_by_fuel_type.loc[:, 'percentage'] = count_by_fuel_type.loc[:, 'totcount'] / \\\n",
    "count_by_fuel_type.loc[:, 'totcount'].sum() *100\n",
    "print(count_by_fuel_type)"
   ]
  },
  {
   "cell_type": "code",
   "execution_count": 5,
   "id": "5a02e6dc-852f-449c-884d-21e319bc97d5",
   "metadata": {},
   "outputs": [
    {
     "name": "stdout",
     "output_type": "stream",
     "text": [
      "total private carriers  221564\n",
      "total private trucks  331136\n",
      "max private trucks in a firm 9567\n",
      "avg. private trucks in a firm 3.920820107073483\n"
     ]
    },
    {
     "data": {
      "text/plain": [
       "Text(0.5, 1.0, 'private truck count distribution')"
      ]
     },
     "execution_count": 5,
     "metadata": {},
     "output_type": "execute_result"
    },
    {
     "data": {
      "image/png": "[encoded data removed]",
      "text/plain": [
       "<Figure size 432x288 with 1 Axes>"
      ]
     },
     "metadata": {},
     "output_type": "display_data"
    }
   ],
   "source": [
    "# private truck analysis\n",
    "private_carriers = registration_data.loc[registration_data['carrier_type'] == 'PRIVATE']\n",
    "private_truck_by_firm = private_carriers.groupby(['business_name'])[['totcount', 'MDV', 'HDV']].sum()\n",
    "private_truck_by_firm = private_truck_by_firm.reset_index()\n",
    "print('total private carriers ', len(private_carriers))\n",
    "print('total private trucks ', private_carriers['totcount'].sum())\n",
    "print('max private trucks in a firm', private_truck_by_firm['totcount'].max())\n",
    "print('avg. private trucks in a firm', private_truck_by_firm['totcount'].mean())\n",
    "\n",
    "private_truck_by_firm['totcount'].hist(bins = 200)\n",
    "plt.xlim([0, 500])\n",
    "plt.xlabel('truck count per firm')\n",
    "plt.ylabel('count of firms')\n",
    "plt.title('private truck count distribution')"
   ]
  },
  {
   "cell_type": "code",
   "execution_count": 6,
   "id": "7fe07e25-7adb-4318-9178-58ca20167599",
   "metadata": {},
   "outputs": [
    {
     "name": "stdout",
     "output_type": "stream",
     "text": [
      "  fleet_size  total_carriers  total_trucks  total_truck_std  \\\n",
      "0        0-2           62818         75609         0.402693   \n",
      "1        3-5           12108         44643         0.779756   \n",
      "2       6-10            5113         38209         1.363688   \n",
      "3      11-50            3842         74861         8.951308   \n",
      "4     51-100             326         22584        13.511152   \n",
      "\n",
      "   total_single_trucks  total_combination_trucks  \n",
      "0                48815                     26794  \n",
      "1                24624                     20019  \n",
      "2                18655                     19554  \n",
      "3                32084                     42777  \n",
      "4                 8381                     14203  \n"
     ]
    }
   ],
   "source": [
    "size_interval = [-1, 2, 5, 10, 50, 100, 1000, private_truck_by_firm['totcount'].max()]\n",
    "interval_name = ['0-2', '3-5', '6-10', '11-50', '51-100', '101-1000', '>1000']    \n",
    "private_truck_by_firm.loc[:, 'size_group'] = pd.cut(private_truck_by_firm['totcount'], \n",
    "                                                bins = size_interval, right = True, \n",
    "                                                labels = interval_name)\n",
    "# private_truck_by_firm.head(5)\n",
    "truck_count_by_size = private_truck_by_firm.groupby('size_group').agg({'business_name': 'count',\n",
    "                                                                   'totcount': ['sum','std'],\n",
    "                                                                   'MDV': 'sum',\n",
    "                                                                   'HDV': 'sum'})\n",
    "truck_count_by_size = truck_count_by_size.reset_index()\n",
    "truck_count_by_size.columns = ['fleet_size', 'total_carriers', 'total_trucks', 'total_truck_std',\n",
    "                               'total_single_trucks', 'total_combination_trucks']\n",
    "print(truck_count_by_size.head(5))\n"
   ]
  },
  {
   "cell_type": "code",
   "execution_count": 7,
   "id": "63be933f-9489-4068-a6bc-a734c0b301cd",
   "metadata": {},
   "outputs": [],
   "source": [
    "min_size_lookup = {'0-2':1, '3-5':3, '6-10':6, \n",
    "                   '11-50':11, '51-100':51, '101-1000':101, \n",
    "                   '>1000':1001}\n",
    "truck_count_by_size.loc[:, 'min_size'] = truck_count_by_size.loc[:, 'fleet_size'].map(min_size_lookup)\n",
    "truck_count_by_size.loc[:, 'avg_truck_per_carrier'] = truck_count_by_size.loc[:, 'total_trucks'] / truck_count_by_size.loc[:, 'total_carriers']\n",
    "truck_count_by_size.loc[:, 'avg_sut_per_carrier'] = truck_count_by_size.loc[:, 'total_single_trucks'] / truck_count_by_size.loc[:, 'total_carriers']\n",
    "truck_count_by_size.loc[:, 'avg_ct_per_carrier'] = truck_count_by_size.loc[:, 'total_combination_trucks'] / truck_count_by_size.loc[:, 'total_carriers']\n",
    "truck_count_by_size.loc[:, 'fraction_of_carrier'] = truck_count_by_size.loc[:, 'total_carriers'] / truck_count_by_size.loc[:, 'total_carriers'].sum()\n",
    "truck_count_by_size.loc[:, 'percent_sut'] = truck_count_by_size.loc[:, 'total_single_trucks'] / truck_count_by_size.loc[:, 'total_trucks']\n",
    "truck_count_by_size.to_csv('registration/CA_private_fleet_size_distribution.csv', index = False, sep = ',')"
   ]
  },
  {
   "cell_type": "code",
   "execution_count": 9,
   "id": "26d6fe52-32ab-45b9-8ff1-5c9c5dff99a4",
   "metadata": {},
   "outputs": [
    {
     "name": "stdout",
     "output_type": "stream",
     "text": [
      "total for-hire carriers  63672\n",
      "total for-hire trucks  108551\n",
      "max for-hire trucks in a firm 1397\n",
      "avg. for-hire trucks in a firm 4.1038524063362445\n"
     ]
    },
    {
     "data": {
      "text/plain": [
       "Text(0.5, 1.0, 'for-hire truck count distribution')"
      ]
     },
     "execution_count": 9,
     "metadata": {},
     "output_type": "execute_result"
    },
    {
     "data": {
      "image/png": "[encoded data removed]",
      "text/plain": [
       "<Figure size 432x288 with 1 Axes>"
      ]
     },
     "metadata": {},
     "output_type": "display_data"
    }
   ],
   "source": [
    "# for-hire truck analysis\n",
    "for_hire_carriers = registration_data.loc[registration_data['carrier_type'] == 'FOR HIRE']\n",
    "print('total for-hire carriers ', len(for_hire_carriers))\n",
    "\n",
    "for_hire_truck_by_firm = for_hire_carriers.groupby(['business_name'])[['totcount', 'MDV', 'HDV']].sum()\n",
    "for_hire_truck_by_firm = for_hire_truck_by_firm.reset_index()\n",
    "print('total for-hire trucks ', for_hire_truck_by_firm['totcount'].sum())\n",
    "print('max for-hire trucks in a firm', for_hire_truck_by_firm['totcount'].max())\n",
    "print('avg. for-hire trucks in a firm', for_hire_truck_by_firm['totcount'].mean())\n",
    "\n",
    "for_hire_truck_by_firm['totcount'].hist(bins = 100)\n",
    "plt.xlim([0, 500])\n",
    "plt.xlabel('truck count per firm')\n",
    "plt.ylabel('count of firms')\n",
    "plt.title('for-hire truck count distribution')"
   ]
  },
  {
   "cell_type": "code",
   "execution_count": 10,
   "id": "378f381a-c064-4460-afd8-26fbebdb066f",
   "metadata": {},
   "outputs": [
    {
     "name": "stdout",
     "output_type": "stream",
     "text": [
      "  fleet_size  total_carriers  total_trucks  total_truck_std  \\\n",
      "0        0-2           19560         23627         0.405833   \n",
      "1        3-5            3720         13664         0.775830   \n",
      "2       6-10            1525         11560         1.412684   \n",
      "3      11-50            1405         28847         9.525563   \n",
      "4     51-100             158         11162        14.140368   \n",
      "\n",
      "   total_single_trucks  total_combination_trucks  \n",
      "0                 3331                     20296  \n",
      "1                 2376                     11288  \n",
      "2                 1893                      9667  \n",
      "3                 4276                     24571  \n",
      "4                 1351                      9811  \n"
     ]
    }
   ],
   "source": [
    "size_interval = [-1, 2, 5, 10, 50, 100, 1000, for_hire_truck_by_firm['totcount'].max()]\n",
    "interval_name = ['0-2', '3-5', '6-10', '11-50', '51-100', '101-1000', '>1000']    \n",
    "for_hire_truck_by_firm.loc[:, 'size_group'] = pd.cut(for_hire_truck_by_firm['totcount'], \n",
    "                                                bins = size_interval, right = True, \n",
    "                                                labels = interval_name)\n",
    "# private_truck_by_firm.head(5)\n",
    "truck_count_by_size = for_hire_truck_by_firm.groupby('size_group').agg({'business_name': 'count',\n",
    "                                                                   'totcount': ['sum','std'],\n",
    "                                                                   'MDV': 'sum',\n",
    "                                                                   'HDV': 'sum'})\n",
    "truck_count_by_size = truck_count_by_size.reset_index()\n",
    "truck_count_by_size.columns = ['fleet_size', 'total_carriers', 'total_trucks', 'total_truck_std',\n",
    "                               'total_single_trucks', 'total_combination_trucks']\n",
    "print(truck_count_by_size.head(5))\n"
   ]
  },
  {
   "cell_type": "code",
   "execution_count": 11,
   "id": "0ee8f714-3cd9-4b1d-aa80-76c03e7e3823",
   "metadata": {},
   "outputs": [],
   "source": [
    "min_size_lookup = {'0-2':1, '3-5':3, '6-10':6, \n",
    "                   '11-50':11, '51-100':51, '101-1000':101, \n",
    "                   '>1000':1001}\n",
    "truck_count_by_size.loc[:, 'min_size'] = truck_count_by_size.loc[:, 'fleet_size'].map(min_size_lookup)\n",
    "truck_count_by_size.loc[:, 'avg_truck_per_carrier'] = truck_count_by_size.loc[:, 'total_trucks'] / truck_count_by_size.loc[:, 'total_carriers']\n",
    "truck_count_by_size.loc[:, 'avg_sut_per_carrier'] = truck_count_by_size.loc[:, 'total_single_trucks'] / truck_count_by_size.loc[:, 'total_carriers']\n",
    "truck_count_by_size.loc[:, 'avg_ct_per_carrier'] = truck_count_by_size.loc[:, 'total_combination_trucks'] / truck_count_by_size.loc[:, 'total_carriers']\n",
    "truck_count_by_size.loc[:, 'fraction_of_carrier'] = truck_count_by_size.loc[:, 'total_carriers'] / truck_count_by_size.loc[:, 'total_carriers'].sum()\n",
    "truck_count_by_size.loc[:, 'percent_sut'] = truck_count_by_size.loc[:, 'total_single_trucks'] / truck_count_by_size.loc[:, 'total_trucks']\n",
    "truck_count_by_size.to_csv('registration/CA_for_hire_fleet_size_distribution.csv', index = False, sep = ',')"
   ]
  },
  {
   "cell_type": "code",
   "execution_count": 12,
   "id": "392fdd85-da70-4884-b082-3653932fbee9",
   "metadata": {},
   "outputs": [
    {
     "name": "stdout",
     "output_type": "stream",
     "text": [
      "total tx for-hire carriers  19758\n",
      "total for-hire trucks  48783\n",
      "max for-hire trucks in a firm 9903\n",
      "avg. for-hire trucks in a firm 8.119673768308921\n"
     ]
    },
    {
     "data": {
      "text/plain": [
       "Text(0.5, 1.0, 'for-hire truck count distribution')"
      ]
     },
     "execution_count": 12,
     "metadata": {},
     "output_type": "execute_result"
    },
    {
     "data": {
      "image/png": "[encoded data removed]",
      "text/plain": [
       "<Figure size 432x288 with 1 Axes>"
      ]
     },
     "metadata": {},
     "output_type": "display_data"
    }
   ],
   "source": [
    "# for-leasing truck analysis\n",
    "for_lease_carriers = registration_data.loc[registration_data['carrier_type'].isin(['FINANCE LEASE', \\\n",
    "                                                                                        'FULL SERVICE LEASE', \\\n",
    "                                                                                        'MANUFACTURER SPONSORED LEASE'])]\n",
    "print('total tx for-hire carriers ', len(for_lease_carriers))\n",
    "\n",
    "for_lease_truck_by_firm = for_lease_carriers.groupby(['business_name'])[['totcount', 'MDV', 'HDV']].sum()\n",
    "for_lease_truck_by_firm = for_lease_truck_by_firm.reset_index()\n",
    "print('total for-hire trucks ', for_lease_truck_by_firm['totcount'].sum())\n",
    "print('max for-hire trucks in a firm', for_lease_truck_by_firm['totcount'].max())\n",
    "print('avg. for-hire trucks in a firm', for_lease_truck_by_firm['totcount'].mean())\n",
    "\n",
    "for_lease_truck_by_firm['totcount'].hist(bins = 100)\n",
    "plt.xlim([0, 500])\n",
    "plt.xlabel('truck count per firm')\n",
    "plt.ylabel('count of firms')\n",
    "plt.title('for-hire truck count distribution')"
   ]
  },
  {
   "cell_type": "code",
   "execution_count": 13,
   "id": "57afcc17-c4ee-4d71-9c4c-3b7980d76a80",
   "metadata": {},
   "outputs": [
    {
     "name": "stdout",
     "output_type": "stream",
     "text": [
      "  fleet_size  total_carriers  total_trucks  total_truck_std  \\\n",
      "0        0-2            4825          5326         0.305077   \n",
      "1        3-5             522          1949         0.786140   \n",
      "2       6-10             258          1970         1.394475   \n",
      "3      11-50             293          6683        10.565402   \n",
      "4     51-100              48          3390        15.018605   \n",
      "\n",
      "   total_single_trucks  total_combination_trucks  \n",
      "0                 3098                      2228  \n",
      "1                  871                      1078  \n",
      "2                  833                      1137  \n",
      "3                 2551                      4132  \n",
      "4                 1204                      2186  \n"
     ]
    }
   ],
   "source": [
    "size_interval = [-1, 2, 5, 10, 50, 100, 1000, for_lease_truck_by_firm['totcount'].max()]\n",
    "interval_name = ['0-2', '3-5', '6-10', '11-50', '51-100', '101-1000', '>1000']    \n",
    "for_lease_truck_by_firm.loc[:, 'size_group'] = pd.cut(for_lease_truck_by_firm['totcount'], \n",
    "                                                bins = size_interval, right = True, \n",
    "                                                labels = interval_name)\n",
    "# private_truck_by_firm.head(5)\n",
    "truck_count_by_size = for_lease_truck_by_firm.groupby('size_group').agg({'business_name': 'count',\n",
    "                                                                   'totcount': ['sum','std'],\n",
    "                                                                   'MDV': 'sum',\n",
    "                                                                   'HDV': 'sum'})\n",
    "truck_count_by_size = truck_count_by_size.reset_index()\n",
    "truck_count_by_size.columns = ['fleet_size', 'total_carriers', 'total_trucks', 'total_truck_std',\n",
    "                               'total_single_trucks', 'total_combination_trucks']\n",
    "print(truck_count_by_size.head(5))"
   ]
  },
  {
   "cell_type": "code",
   "execution_count": 14,
   "id": "79abe0c2-5c0a-45c5-9604-115c2f62e6c5",
   "metadata": {},
   "outputs": [],
   "source": [
    "min_size_lookup = {'0-2':1, '3-5':3, '6-10':6, \n",
    "                   '11-50':11, '51-100':51, '101-1000':101, \n",
    "                   '>1000':1001}\n",
    "truck_count_by_size.loc[:, 'min_size'] = truck_count_by_size.loc[:, 'fleet_size'].map(min_size_lookup)\n",
    "truck_count_by_size.loc[:, 'avg_truck_per_carrier'] = truck_count_by_size.loc[:, 'total_trucks'] / truck_count_by_size.loc[:, 'total_carriers']\n",
    "truck_count_by_size.loc[:, 'avg_sut_per_carrier'] = truck_count_by_size.loc[:, 'total_single_trucks'] / truck_count_by_size.loc[:, 'total_carriers']\n",
    "truck_count_by_size.loc[:, 'avg_ct_per_carrier'] = truck_count_by_size.loc[:, 'total_combination_trucks'] / truck_count_by_size.loc[:, 'total_carriers']\n",
    "truck_count_by_size.loc[:, 'fraction_of_carrier'] = truck_count_by_size.loc[:, 'total_carriers'] / truck_count_by_size.loc[:, 'total_carriers'].sum()\n",
    "truck_count_by_size.loc[:, 'percent_sut'] = truck_count_by_size.loc[:, 'total_single_trucks'] / truck_count_by_size.loc[:, 'total_trucks']\n",
    "truck_count_by_size.to_csv('registration/CA_for_lease_fleet_size_distribution.csv', index = False, sep = ',')"
   ]
  },
  {
   "cell_type": "code",
   "execution_count": 1,
   "id": "4d9db80a-9534-4e47-8e9c-ffbaaca387a3",
   "metadata": {},
   "outputs": [
    {
     "name": "stdout",
     "output_type": "stream",
     "text": [
      "Collecting tensorflow\n",
      "  Downloading tensorflow-2.8.0-cp38-cp38-macosx_10_14_x86_64.whl (217.4 MB)\n",
      "\u001b[K     |████████████████████████████████| 217.4 MB 1.0 MB/s eta 0:00:012     |████████████████████████████▍   | 193.2 MB 11.1 MB/s eta 0:00:03\n",
      "\u001b[?25hCollecting termcolor>=1.1.0\n",
      "  Downloading termcolor-1.1.0.tar.gz (3.9 kB)\n",
      "Collecting libclang>=9.0.1\n",
      "  Downloading libclang-14.0.1-py2.py3-none-macosx_10_9_x86_64.whl (13.2 MB)\n",
      "\u001b[K     |████████████████████████████████| 13.2 MB 5.3 MB/s eta 0:00:01\n",
      "\u001b[?25hRequirement already satisfied: numpy>=1.20 in /opt/anaconda3/lib/python3.8/site-packages (from tensorflow) (1.20.3)\n",
      "Collecting grpcio<2.0,>=1.24.3\n",
      "  Downloading grpcio-1.46.0-cp38-cp38-macosx_10_10_x86_64.whl (4.4 MB)\n",
      "\u001b[K     |████████████████████████████████| 4.4 MB 6.7 MB/s eta 0:00:01\n",
      "\u001b[?25hCollecting absl-py>=0.4.0\n",
      "  Downloading absl_py-1.0.0-py3-none-any.whl (126 kB)\n",
      "\u001b[K     |████████████████████████████████| 126 kB 6.1 MB/s eta 0:00:01\n",
      "\u001b[?25hCollecting astunparse>=1.6.0\n",
      "  Downloading astunparse-1.6.3-py2.py3-none-any.whl (12 kB)\n",
      "Collecting keras-preprocessing>=1.1.1\n",
      "  Downloading Keras_Preprocessing-1.1.2-py2.py3-none-any.whl (42 kB)\n",
      "\u001b[K     |████████████████████████████████| 42 kB 4.4 MB/s eta 0:00:01\n",
      "\u001b[?25hCollecting flatbuffers>=1.12\n",
      "  Downloading flatbuffers-2.0-py2.py3-none-any.whl (26 kB)\n",
      "Collecting tf-estimator-nightly==2.8.0.dev2021122109\n",
      "  Downloading tf_estimator_nightly-2.8.0.dev2021122109-py2.py3-none-any.whl (462 kB)\n",
      "\u001b[K     |████████████████████████████████| 462 kB 5.8 MB/s eta 0:00:01\n",
      "\u001b[?25hCollecting gast>=0.2.1\n",
      "  Downloading gast-0.5.3-py3-none-any.whl (19 kB)\n",
      "Requirement already satisfied: typing-extensions>=3.6.6 in /opt/anaconda3/lib/python3.8/site-packages (from tensorflow) (3.10.0.2)\n",
      "Collecting google-pasta>=0.1.1\n",
      "  Downloading google_pasta-0.2.0-py3-none-any.whl (57 kB)\n",
      "\u001b[K     |████████████████████████████████| 57 kB 3.1 MB/s eta 0:00:01\n",
      "\u001b[?25hRequirement already satisfied: six>=1.12.0 in /opt/anaconda3/lib/python3.8/site-packages (from tensorflow) (1.15.0)\n",
      "Requirement already satisfied: wrapt>=1.11.0 in /opt/anaconda3/lib/python3.8/site-packages (from tensorflow) (1.12.1)\n",
      "Collecting tensorboard<2.9,>=2.8\n",
      "  Downloading tensorboard-2.8.0-py3-none-any.whl (5.8 MB)\n",
      "\u001b[K     |████████████████████████████████| 5.8 MB 6.0 MB/s eta 0:00:01\n",
      "\u001b[?25hCollecting opt-einsum>=2.3.2\n",
      "  Downloading opt_einsum-3.3.0-py3-none-any.whl (65 kB)\n",
      "\u001b[K     |████████████████████████████████| 65 kB 4.1 MB/s eta 0:00:01\n",
      "\u001b[?25hCollecting protobuf>=3.9.2\n",
      "  Downloading protobuf-3.20.1-cp38-cp38-macosx_10_9_x86_64.whl (962 kB)\n",
      "\u001b[K     |████████████████████████████████| 962 kB 3.6 MB/s eta 0:00:01\n",
      "\u001b[?25hCollecting keras<2.9,>=2.8.0rc0\n",
      "  Downloading keras-2.8.0-py2.py3-none-any.whl (1.4 MB)\n",
      "\u001b[K     |████████████████████████████████| 1.4 MB 4.1 MB/s eta 0:00:01\n",
      "\u001b[?25hRequirement already satisfied: h5py>=2.9.0 in /opt/anaconda3/lib/python3.8/site-packages (from tensorflow) (2.10.0)\n",
      "Collecting tensorflow-io-gcs-filesystem>=0.23.1\n",
      "  Downloading tensorflow_io_gcs_filesystem-0.25.0-cp38-cp38-macosx_10_14_x86_64.whl (1.6 MB)\n",
      "\u001b[K     |████████████████████████████████| 1.6 MB 5.2 MB/s eta 0:00:01\n",
      "\u001b[?25hRequirement already satisfied: setuptools in /opt/anaconda3/lib/python3.8/site-packages (from tensorflow) (58.0.4)\n",
      "Requirement already satisfied: wheel<1.0,>=0.23.0 in /opt/anaconda3/lib/python3.8/site-packages (from astunparse>=1.6.0->tensorflow) (0.37.0)\n",
      "Requirement already satisfied: requests<3,>=2.21.0 in /opt/anaconda3/lib/python3.8/site-packages (from tensorboard<2.9,>=2.8->tensorflow) (2.26.0)\n",
      "Collecting google-auth<3,>=1.6.3\n",
      "  Downloading google_auth-2.6.6-py2.py3-none-any.whl (156 kB)\n",
      "\u001b[K     |████████████████████████████████| 156 kB 7.3 MB/s eta 0:00:01\n",
      "\u001b[?25hRequirement already satisfied: werkzeug>=0.11.15 in /opt/anaconda3/lib/python3.8/site-packages (from tensorboard<2.9,>=2.8->tensorflow) (2.0.1)\n",
      "Collecting markdown>=2.6.8\n",
      "  Downloading Markdown-3.3.7-py3-none-any.whl (97 kB)\n",
      "\u001b[K     |████████████████████████████████| 97 kB 5.9 MB/s eta 0:00:01\n",
      "\u001b[?25hCollecting google-auth-oauthlib<0.5,>=0.4.1\n",
      "  Downloading google_auth_oauthlib-0.4.6-py2.py3-none-any.whl (18 kB)\n",
      "Collecting tensorboard-data-server<0.7.0,>=0.6.0\n",
      "  Downloading tensorboard_data_server-0.6.1-py3-none-macosx_10_9_x86_64.whl (3.5 MB)\n",
      "\u001b[K     |████████████████████████████████| 3.5 MB 4.4 MB/s eta 0:00:01\n",
      "\u001b[?25hCollecting tensorboard-plugin-wit>=1.6.0\n",
      "  Downloading tensorboard_plugin_wit-1.8.1-py3-none-any.whl (781 kB)\n",
      "\u001b[K     |████████████████████████████████| 781 kB 3.3 MB/s eta 0:00:01\n",
      "\u001b[?25hRequirement already satisfied: rsa<5,>=3.1.4 in /opt/anaconda3/lib/python3.8/site-packages (from google-auth<3,>=1.6.3->tensorboard<2.9,>=2.8->tensorflow) (4.7.2)\n",
      "Collecting cachetools<6.0,>=2.0.0\n",
      "  Downloading cachetools-5.0.0-py3-none-any.whl (9.1 kB)\n",
      "Collecting pyasn1-modules>=0.2.1\n",
      "  Downloading pyasn1_modules-0.2.8-py2.py3-none-any.whl (155 kB)\n",
      "\u001b[K     |████████████████████████████████| 155 kB 4.0 MB/s eta 0:00:01\n",
      "\u001b[?25hCollecting requests-oauthlib>=0.7.0\n",
      "  Downloading requests_oauthlib-1.3.1-py2.py3-none-any.whl (23 kB)\n",
      "Requirement already satisfied: importlib-metadata>=4.4 in /opt/anaconda3/lib/python3.8/site-packages (from markdown>=2.6.8->tensorboard<2.9,>=2.8->tensorflow) (4.8.1)\n",
      "Requirement already satisfied: zipp>=0.5 in /opt/anaconda3/lib/python3.8/site-packages (from importlib-metadata>=4.4->markdown>=2.6.8->tensorboard<2.9,>=2.8->tensorflow) (3.6.0)\n",
      "Requirement already satisfied: pyasn1<0.5.0,>=0.4.6 in /opt/anaconda3/lib/python3.8/site-packages (from pyasn1-modules>=0.2.1->google-auth<3,>=1.6.3->tensorboard<2.9,>=2.8->tensorflow) (0.4.8)\n",
      "Requirement already satisfied: idna<4,>=2.5 in /opt/anaconda3/lib/python3.8/site-packages (from requests<3,>=2.21.0->tensorboard<2.9,>=2.8->tensorflow) (3.2)\n",
      "Requirement already satisfied: certifi>=2017.4.17 in /opt/anaconda3/lib/python3.8/site-packages (from requests<3,>=2.21.0->tensorboard<2.9,>=2.8->tensorflow) (2021.10.8)\n",
      "Requirement already satisfied: urllib3<1.27,>=1.21.1 in /opt/anaconda3/lib/python3.8/site-packages (from requests<3,>=2.21.0->tensorboard<2.9,>=2.8->tensorflow) (1.26.7)\n",
      "Requirement already satisfied: charset-normalizer~=2.0.0 in /opt/anaconda3/lib/python3.8/site-packages (from requests<3,>=2.21.0->tensorboard<2.9,>=2.8->tensorflow) (2.0.4)\n",
      "Collecting oauthlib>=3.0.0\n",
      "  Downloading oauthlib-3.2.0-py3-none-any.whl (151 kB)\n",
      "\u001b[K     |████████████████████████████████| 151 kB 3.5 MB/s eta 0:00:01\n",
      "\u001b[?25hBuilding wheels for collected packages: termcolor\n",
      "  Building wheel for termcolor (setup.py) ... \u001b[?25ldone\n",
      "\u001b[?25h  Created wheel for termcolor: filename=termcolor-1.1.0-py3-none-any.whl size=4847 sha256=65a753aa20f2acca084d50c69878f176292ea697a9972fd3ca951c672ce03737\n",
      "  Stored in directory: /Users/xiaodanxu/Library/Caches/pip/wheels/a0/16/9c/5473df82468f958445479c59e784896fa24f4a5fc024b0f501\n",
      "Successfully built termcolor\n",
      "Installing collected packages: pyasn1-modules, oauthlib, cachetools, requests-oauthlib, google-auth, tensorboard-plugin-wit, tensorboard-data-server, protobuf, markdown, grpcio, google-auth-oauthlib, absl-py, tf-estimator-nightly, termcolor, tensorflow-io-gcs-filesystem, tensorboard, opt-einsum, libclang, keras-preprocessing, keras, google-pasta, gast, flatbuffers, astunparse, tensorflow\n",
      "Successfully installed absl-py-1.0.0 astunparse-1.6.3 cachetools-5.0.0 flatbuffers-2.0 gast-0.5.3 google-auth-2.6.6 google-auth-oauthlib-0.4.6 google-pasta-0.2.0 grpcio-1.46.0 keras-2.8.0 keras-preprocessing-1.1.2 libclang-14.0.1 markdown-3.3.7 oauthlib-3.2.0 opt-einsum-3.3.0 protobuf-3.20.1 pyasn1-modules-0.2.8 requests-oauthlib-1.3.1 tensorboard-2.8.0 tensorboard-data-server-0.6.1 tensorboard-plugin-wit-1.8.1 tensorflow-2.8.0 tensorflow-io-gcs-filesystem-0.25.0 termcolor-1.1.0 tf-estimator-nightly-2.8.0.dev2021122109\n",
      "Note: you may need to restart the kernel to use updated packages.\n"
     ]
    }
   ],
   "source": [
    "pip install tensorflow"
   ]
  },
  {
   "cell_type": "code",
   "execution_count": null,
   "id": "a4d65946-f8fb-4436-8fe5-65188615a816",
   "metadata": {},
   "outputs": [],
   "source": []
  }
 ],
 "metadata": {
  "kernelspec": {
   "display_name": "Python 3 (ipykernel)",
   "language": "python",
   "name": "python3"
  },
  "language_info": {
   "codemirror_mode": {
    "name": "ipython",
    "version": 3
   },
   "file_extension": ".py",
   "mimetype": "text/x-python",
   "name": "python",
   "nbconvert_exporter": "python",
   "pygments_lexer": "ipython3",
   "version": "3.8.8"
  }
 },
 "nbformat": 4,
 "nbformat_minor": 5
}
