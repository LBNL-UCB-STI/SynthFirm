{
 "cells": [
  {
   "cell_type": "code",
   "execution_count": 1,
   "metadata": {},
   "outputs": [],
   "source": [
    "## Built-in modules\n",
    "import os\n",
    "\n",
    "## Third party modules\n",
    "import matplotlib.pyplot as plt\n",
    "import pandas as pd\n",
    "import numpy as np\n",
    "from collections import OrderedDict\n",
    "%matplotlib inline"
   ]
  },
  {
   "cell_type": "markdown",
   "metadata": {},
   "source": [
    "## Process the CFS data"
   ]
  },
  {
   "cell_type": "code",
   "execution_count": 2,
   "metadata": {},
   "outputs": [],
   "source": [
    "#df_raw = pd.read_csv('cfs_2017.csv')"
   ]
  },
  {
   "cell_type": "code",
   "execution_count": 3,
   "metadata": {},
   "outputs": [],
   "source": [
    "df = df_raw"
   ]
  },
  {
   "cell_type": "code",
   "execution_count": 4,
   "metadata": {},
   "outputs": [
    {
     "data": {
      "text/html": [
       "<div>\n",
       "<style scoped>\n",
       "    .dataframe tbody tr th:only-of-type {\n",
       "        vertical-align: middle;\n",
       "    }\n",
       "\n",
       "    .dataframe tbody tr th {\n",
       "        vertical-align: top;\n",
       "    }\n",
       "\n",
       "    .dataframe thead th {\n",
       "        text-align: right;\n",
       "    }\n",
       "</style>\n",
       "<table border=\"1\" class=\"dataframe\">\n",
       "  <thead>\n",
       "    <tr style=\"text-align: right;\">\n",
       "      <th></th>\n",
       "      <th>SHIPMT_ID</th>\n",
       "      <th>ORIG_STATE</th>\n",
       "      <th>ORIG_MA</th>\n",
       "      <th>ORIG_CFS_AREA</th>\n",
       "      <th>DEST_STATE</th>\n",
       "      <th>DEST_MA</th>\n",
       "      <th>DEST_CFS_AREA</th>\n",
       "      <th>NAICS</th>\n",
       "      <th>QUARTER</th>\n",
       "      <th>SCTG</th>\n",
       "      <th>MODE</th>\n",
       "      <th>SHIPMT_VALUE</th>\n",
       "      <th>SHIPMT_WGHT</th>\n",
       "      <th>SHIPMT_DIST_GC</th>\n",
       "      <th>SHIPMT_DIST_ROUTED</th>\n",
       "      <th>TEMP_CNTL_YN</th>\n",
       "      <th>EXPORT_YN</th>\n",
       "      <th>EXPORT_CNTRY</th>\n",
       "      <th>HAZMAT</th>\n",
       "      <th>WGT_FACTOR</th>\n",
       "    </tr>\n",
       "  </thead>\n",
       "  <tbody>\n",
       "    <tr>\n",
       "      <th>0</th>\n",
       "      <td>1</td>\n",
       "      <td>6</td>\n",
       "      <td>99999</td>\n",
       "      <td>06-99999</td>\n",
       "      <td>6</td>\n",
       "      <td>260</td>\n",
       "      <td>06-260</td>\n",
       "      <td>326</td>\n",
       "      <td>4</td>\n",
       "      <td>43</td>\n",
       "      <td>5</td>\n",
       "      <td>4380</td>\n",
       "      <td>391</td>\n",
       "      <td>54</td>\n",
       "      <td>60</td>\n",
       "      <td>N</td>\n",
       "      <td>N</td>\n",
       "      <td>N</td>\n",
       "      <td>N</td>\n",
       "      <td>328.3</td>\n",
       "    </tr>\n",
       "    <tr>\n",
       "      <th>1</th>\n",
       "      <td>2</td>\n",
       "      <td>49</td>\n",
       "      <td>482</td>\n",
       "      <td>49-482</td>\n",
       "      <td>47</td>\n",
       "      <td>314</td>\n",
       "      <td>47-314</td>\n",
       "      <td>4541</td>\n",
       "      <td>3</td>\n",
       "      <td>43</td>\n",
       "      <td>14</td>\n",
       "      <td>56</td>\n",
       "      <td>4</td>\n",
       "      <td>1524</td>\n",
       "      <td>1810</td>\n",
       "      <td>N</td>\n",
       "      <td>N</td>\n",
       "      <td>N</td>\n",
       "      <td>N</td>\n",
       "      <td>8425.3</td>\n",
       "    </tr>\n",
       "    <tr>\n",
       "      <th>2</th>\n",
       "      <td>3</td>\n",
       "      <td>6</td>\n",
       "      <td>348</td>\n",
       "      <td>06-348</td>\n",
       "      <td>6</td>\n",
       "      <td>348</td>\n",
       "      <td>06-348</td>\n",
       "      <td>4231</td>\n",
       "      <td>4</td>\n",
       "      <td>34</td>\n",
       "      <td>5</td>\n",
       "      <td>255</td>\n",
       "      <td>440</td>\n",
       "      <td>2</td>\n",
       "      <td>5</td>\n",
       "      <td>N</td>\n",
       "      <td>N</td>\n",
       "      <td>N</td>\n",
       "      <td>N</td>\n",
       "      <td>9120.7</td>\n",
       "    </tr>\n",
       "    <tr>\n",
       "      <th>3</th>\n",
       "      <td>4</td>\n",
       "      <td>6</td>\n",
       "      <td>260</td>\n",
       "      <td>06-260</td>\n",
       "      <td>6</td>\n",
       "      <td>99999</td>\n",
       "      <td>06-99999</td>\n",
       "      <td>212</td>\n",
       "      <td>4</td>\n",
       "      <td>11</td>\n",
       "      <td>5</td>\n",
       "      <td>250</td>\n",
       "      <td>44912</td>\n",
       "      <td>30</td>\n",
       "      <td>35</td>\n",
       "      <td>N</td>\n",
       "      <td>N</td>\n",
       "      <td>N</td>\n",
       "      <td>N</td>\n",
       "      <td>20.9</td>\n",
       "    </tr>\n",
       "    <tr>\n",
       "      <th>4</th>\n",
       "      <td>5</td>\n",
       "      <td>45</td>\n",
       "      <td>273</td>\n",
       "      <td>45-273</td>\n",
       "      <td>45</td>\n",
       "      <td>273</td>\n",
       "      <td>45-273</td>\n",
       "      <td>45431</td>\n",
       "      <td>4</td>\n",
       "      <td>19</td>\n",
       "      <td>5</td>\n",
       "      <td>46</td>\n",
       "      <td>73</td>\n",
       "      <td>9</td>\n",
       "      <td>11</td>\n",
       "      <td>N</td>\n",
       "      <td>N</td>\n",
       "      <td>N</td>\n",
       "      <td>H</td>\n",
       "      <td>1733.8</td>\n",
       "    </tr>\n",
       "  </tbody>\n",
       "</table>\n",
       "</div>"
      ],
      "text/plain": [
       "   SHIPMT_ID  ORIG_STATE  ORIG_MA ORIG_CFS_AREA  DEST_STATE  DEST_MA  \\\n",
       "0          1           6    99999      06-99999           6      260   \n",
       "1          2          49      482        49-482          47      314   \n",
       "2          3           6      348        06-348           6      348   \n",
       "3          4           6      260        06-260           6    99999   \n",
       "4          5          45      273        45-273          45      273   \n",
       "\n",
       "  DEST_CFS_AREA  NAICS  QUARTER SCTG  MODE  SHIPMT_VALUE  SHIPMT_WGHT  \\\n",
       "0        06-260    326        4   43     5          4380          391   \n",
       "1        47-314   4541        3   43    14            56            4   \n",
       "2        06-348   4231        4   34     5           255          440   \n",
       "3      06-99999    212        4   11     5           250        44912   \n",
       "4        45-273  45431        4   19     5            46           73   \n",
       "\n",
       "   SHIPMT_DIST_GC  SHIPMT_DIST_ROUTED TEMP_CNTL_YN EXPORT_YN EXPORT_CNTRY  \\\n",
       "0              54                  60            N         N            N   \n",
       "1            1524                1810            N         N            N   \n",
       "2               2                   5            N         N            N   \n",
       "3              30                  35            N         N            N   \n",
       "4               9                  11            N         N            N   \n",
       "\n",
       "  HAZMAT  WGT_FACTOR  \n",
       "0      N       328.3  \n",
       "1      N      8425.3  \n",
       "2      N      9120.7  \n",
       "3      N        20.9  \n",
       "4      H      1733.8  "
      ]
     },
     "execution_count": 4,
     "metadata": {},
     "output_type": "execute_result"
    }
   ],
   "source": [
    "df.head()"
   ]
  },
  {
   "cell_type": "code",
   "execution_count": 5,
   "metadata": {},
   "outputs": [
    {
     "data": {
      "text/plain": [
       "(5978523, 20)"
      ]
     },
     "execution_count": 5,
     "metadata": {},
     "output_type": "execute_result"
    }
   ],
   "source": [
    "df.shape"
   ]
  },
  {
   "cell_type": "markdown",
   "metadata": {},
   "source": [
    "### Generate mode choice variables"
   ]
  },
  {
   "cell_type": "code",
   "execution_count": 6,
   "metadata": {},
   "outputs": [],
   "source": [
    "mode_agg5_dict = {4:'For-hire Truck', \n",
    "                  5:'Private Truck', \n",
    "                  6:'Rail/IMX', \n",
    "                  15:'Rail/IMX', \n",
    "                  11:'Air', \n",
    "                  14:'Parcel', \n",
    "                  0:'Other',\n",
    "                  2:'Other',\n",
    "                  3:'Other',\n",
    "                  7:'Other',\n",
    "                  8:'Other',\n",
    "                  9:'Other',\n",
    "                  10:'Other',\n",
    "                  12:'Other',\n",
    "                  13:'Other',\n",
    "                  16:'Other',\n",
    "                  17:'Other',\n",
    "                  18:'Other',\n",
    "                  19:'Other',\n",
    "                  20:'Other',\n",
    "                  101:'Other'}\n",
    "\n",
    "mode_agg3_dict = {3:'Truck',\n",
    "                  4:'Truck', \n",
    "                  5:'Truck', \n",
    "                  6:'Rail/IMX', \n",
    "                  15:'Rail/IMX', \n",
    "                  11:'Air/Parcel', \n",
    "                  14:'Air/Parcel', \n",
    "                  0:'Other',\n",
    "                  2:'Other',\n",
    "                  7:'Other',\n",
    "                  8:'Other',\n",
    "                  9:'Other',\n",
    "                  10:'Other',\n",
    "                  12:'Other',\n",
    "                  13:'Other',\n",
    "                  16:'Other',\n",
    "                  17:'Other',\n",
    "                  18:'Other',\n",
    "                  19:'Other',\n",
    "                  20:'Other',\n",
    "                  101:'Other'}\n",
    "\n",
    "df['mode_agg5'] = (df.MODE).replace(mode_agg5_dict).copy()\n",
    "df['mode_agg3'] = (df.MODE).replace(mode_agg3_dict).copy()"
   ]
  },
  {
   "cell_type": "code",
   "execution_count": 7,
   "metadata": {},
   "outputs": [],
   "source": [
    "mode_decode_dict = {4:'For-hire Truck', \n",
    "                  5:'Private Truck', \n",
    "                  6:'Rail/IMX', \n",
    "                  15:'Rail/IMX', \n",
    "                  11:'Air', \n",
    "                  14:'Parcel', \n",
    "                  0:'Other',\n",
    "                  2:'Other',\n",
    "                  3:'Other',\n",
    "                  7:'Other',\n",
    "                  8:'Inland Water',\n",
    "                  9:'Great Lake',\n",
    "                  10:'Deep Sea',\n",
    "                  12:'Pipeline',\n",
    "                  13:'Other',\n",
    "                  16:'Truck and Water',\n",
    "                  17:'Rail and Water',\n",
    "                  18:'Other',\n",
    "                  19:'Other',\n",
    "                  20:'Other',\n",
    "                  101:'Other'}\n",
    "\n",
    "df['mode_decode'] = (df.MODE).replace(mode_decode_dict).copy()"
   ]
  },
  {
   "cell_type": "code",
   "execution_count": 8,
   "metadata": {},
   "outputs": [
    {
     "data": {
      "text/plain": [
       "For-hire Truck     2354704\n",
       "Private Truck      1825760\n",
       "Parcel             1566194\n",
       "Air                  93633\n",
       "Rail/IMX             62965\n",
       "Truck and Water      43929\n",
       "Other                18933\n",
       "Pipeline              4487\n",
       "Inland Water          3758\n",
       "Rail and Water        2542\n",
       "Deep Sea              1529\n",
       "Great Lake              89\n",
       "Name: mode_decode, dtype: int64"
      ]
     },
     "execution_count": 8,
     "metadata": {},
     "output_type": "execute_result"
    }
   ],
   "source": [
    "df['mode_decode'].value_counts()"
   ]
  },
  {
   "cell_type": "code",
   "execution_count": 9,
   "metadata": {},
   "outputs": [
    {
     "data": {
      "text/plain": [
       "For-hire Truck    2354704\n",
       "Private Truck     1825760\n",
       "Parcel            1566194\n",
       "Air                 93633\n",
       "Other               75267\n",
       "Rail/IMX            62965\n",
       "Name: mode_agg5, dtype: int64"
      ]
     },
     "execution_count": 9,
     "metadata": {},
     "output_type": "execute_result"
    }
   ],
   "source": [
    "df['mode_agg5'].value_counts()"
   ]
  },
  {
   "cell_type": "markdown",
   "metadata": {},
   "source": [
    "### Generate commodity type variables"
   ]
  },
  {
   "cell_type": "code",
   "execution_count": 10,
   "metadata": {},
   "outputs": [],
   "source": [
    "df.drop(df[(df['SCTG'] == '25-30') | (df['SCTG'] == '20-24') | (df['SCTG'] == '10-14') | \n",
    "           (df['SCTG'] == '01-05') | (df['SCTG'] == '31-34') | (df['SCTG'] == '06-09') | \n",
    "           (df['SCTG'] == '39-43') | (df['SCTG'] == '35-38') | (df['SCTG'] == '15-19') |\n",
    "           (df['SCTG'] == '00')].index, inplace = True)"
   ]
  },
  {
   "cell_type": "code",
   "execution_count": 11,
   "metadata": {},
   "outputs": [],
   "source": [
    "df['SCTG'] = df['SCTG'].astype(int)"
   ]
  },
  {
   "cell_type": "code",
   "execution_count": 12,
   "metadata": {},
   "outputs": [],
   "source": [
    "df['bulk'] = np.where((df['SCTG'] == 2) | (df['SCTG'] == 10) | (df['SCTG'] == 11) | \n",
    "                      (df['SCTG'] == 12) | (df['SCTG'] == 13) | (df['SCTG'] == 14) | \n",
    "                      (df['SCTG'] == 15) | (df['SCTG'] == 25) | (df['SCTG'] == 26)| (df['SCTG'] == 32), 1, 0)\n",
    "df['fuel_fert'] = np.where((df['SCTG'] == 16) | (df['SCTG'] == 17) | (df['SCTG'] == 18) | \n",
    "                           (df['SCTG'] == 19) | (df['SCTG'] == 20) | (df['SCTG'] == 22) | (df['SCTG'] == 23), 1, 0)\n",
    "df['interm_food'] = np.where((df['SCTG'] == 1) | (df['SCTG'] == 3) | (df['SCTG'] == 4) | \n",
    "                             (df['SCTG'] == 5) | (df['SCTG'] == 6) | (df['SCTG'] == 7) | (df['SCTG'] == 8), 1, 0)\n",
    "df['mfr_goods'] = np.where((df['SCTG'] == 9) | (df['SCTG'] == 21) | (df['SCTG'] == 24) | \n",
    "                           (df['SCTG'] == 27) | (df['SCTG'] == 28) | (df['SCTG'] == 29) | \n",
    "                           (df['SCTG'] == 30) | (df['SCTG'] == 31) | (df['SCTG'] == 33) | \n",
    "                           (df['SCTG'] == 34) | (df['SCTG'] == 35) | (df['SCTG'] == 36) |\n",
    "                           (df['SCTG'] == 37) | (df['SCTG'] == 38) | (df['SCTG'] == 39) | (df['SCTG'] == 40), 1, 0)\n",
    "df['other'] = np.where((df['SCTG'] == 41) | (df['SCTG'] == 43) | (df['SCTG'] == 99), 1, 0)"
   ]
  },
  {
   "cell_type": "code",
   "execution_count": 13,
   "metadata": {},
   "outputs": [],
   "source": [
    "commodity_dict = {2:'bulk', 10:'bulk', 11:'bulk', 12:'bulk', 13:'bulk', 14:'bulk', 15:'bulk', 25:'bulk', 26:'bulk', 32:'bulk',\n",
    "                  16:'fuel_fert', 17:'fuel_fert', 18:'fuel_fert', 19:'fuel_fert', 20:'fuel_fert', 22:'fuel_fert', 23:'fuel_fert',\n",
    "                  1:'interm_food', 3:'interm_food', 4:'interm_food', 5:'interm_food', 6:'interm_food', 7:'interm_food', 8:'interm_food',\n",
    "                  9:'mfr_goods', 21:'mfr_goods', 24:'mfr_goods', 27:'mfr_goods', 28:'mfr_goods', 29:'mfr_goods', 30:'mfr_goods', \n",
    "                  31:'mfr_goods', 33:'mfr_goods', 34:'mfr_goods', 35:'mfr_goods', 36:'mfr_goods', 37:'mfr_goods', 38:'mfr_goods', \n",
    "                  39:'mfr_goods', 40:'mfr_goods',\n",
    "                  41:'other', 43:'other', 99:'other'}\n",
    "\n",
    "df['commodity'] = df['SCTG'].map(commodity_dict)"
   ]
  },
  {
   "cell_type": "markdown",
   "metadata": {},
   "source": [
    "### Generate NAICS industry type variables"
   ]
  },
  {
   "cell_type": "code",
   "execution_count": 14,
   "metadata": {},
   "outputs": [],
   "source": [
    "df['naics2'] = df['NAICS'].astype(str).str[:2].astype(int)"
   ]
  },
  {
   "cell_type": "code",
   "execution_count": 15,
   "metadata": {},
   "outputs": [
    {
     "data": {
      "text/plain": [
       "Wholesale          2569175\n",
       "Manufacturing      2550711\n",
       "Retail              305866\n",
       "Trans_Warehouse     265653\n",
       "Mining              150835\n",
       "Information          64535\n",
       "Mgt_companies        57265\n",
       "Name: naics_name, dtype: int64"
      ]
     },
     "execution_count": 15,
     "metadata": {},
     "output_type": "execute_result"
    }
   ],
   "source": [
    "df['naics_name'] = (df.naics2).replace({21:'Mining', \n",
    "                                        31:'Manufacturing',\n",
    "                                        32:'Manufacturing',\n",
    "                                        33:'Manufacturing',\n",
    "                                        42:'Wholesale',\n",
    "                                        45:'Retail',\n",
    "                                        49:'Trans_Warehouse',\n",
    "                                        51:'Information',\n",
    "                                        55:'Mgt_companies'})\n",
    "\n",
    "df['naics_name'].value_counts() "
   ]
  },
  {
   "cell_type": "code",
   "execution_count": 16,
   "metadata": {},
   "outputs": [],
   "source": [
    "df[\"wholesale\"] = (df['naics_name'] == \"Wholesale\").astype(int)\n",
    "df[\"mfring\"] = (df['naics_name'] == \"Manufacturing\").astype(int)\n",
    "df[\"mining\"] = (df['naics_name'] == \"Mining\").astype(int)\n",
    "df[\"retail\"] = (df['naics_name'] == \"Retail\").astype(int)\n",
    "df[\"info\"] = (df['naics_name'] == \"Information\").astype(int)\n",
    "df[\"management\"] = (df['naics_name'] == \"Mgt_companies\").astype(int)\n",
    "df[\"transwarehouse\"] = (df['naics_name'] == \"Trans_Warehouse\").astype(int)"
   ]
  },
  {
   "cell_type": "markdown",
   "metadata": {},
   "source": [
    "### Generate shipment weight bins"
   ]
  },
  {
   "cell_type": "code",
   "execution_count": 17,
   "metadata": {},
   "outputs": [],
   "source": [
    "df['wght_bin1'] = np.where(df['SHIPMT_WGHT'] <= 150, 1,\n",
    "                     np.where((df['SHIPMT_WGHT'] > 150) & (df['SHIPMT_WGHT'] <= 1500), 2,\n",
    "                     np.where((df['SHIPMT_WGHT'] > 1500) & (df['SHIPMT_WGHT'] <= 30000), 3,\n",
    "                     np.where((df['SHIPMT_WGHT'] > 30000) & (df['SHIPMT_WGHT'] <= 45000), 4, 5))))"
   ]
  },
  {
   "cell_type": "markdown",
   "metadata": {},
   "source": [
    "### Generate additional variables"
   ]
  },
  {
   "cell_type": "code",
   "execution_count": 18,
   "metadata": {},
   "outputs": [],
   "source": [
    "df['SHIPMT_WGHT_TON'] = df['SHIPMT_WGHT']/2000\n",
    "\n",
    "df['value_density'] = df['SHIPMT_VALUE']/df['SHIPMT_WGHT']\n",
    "\n",
    "df['SHIPMT_DIST'] = df['SHIPMT_DIST_ROUTED']\n",
    "\n",
    "df['SHIPMT_DIST'] = np.where((df['mode_agg5'] == 'Air') | (df['mode_agg5'] == 'Parcel'), \n",
    "                              df['SHIPMT_DIST_GC'],df['SHIPMT_DIST']) # Use GC distance for Air and Parcel and Routed distance for the rest of modes."
   ]
  },
  {
   "cell_type": "markdown",
   "metadata": {},
   "source": [
    "### Additional data removal rules"
   ]
  },
  {
   "cell_type": "code",
   "execution_count": 19,
   "metadata": {},
   "outputs": [],
   "source": [
    "## based on Stinson et al. (2017)\n",
    "\n",
    "df.drop(df[(df['mode_agg5'] == 'Air') & (df['SHIPMT_WGHT'] > 15000)].index, inplace = True)\n",
    "df.drop(df[(df['mode_agg5'] == 'Air') & (df['SHIPMT_WGHT'] > 150) & (df['value_density'] < 1)].index, inplace = True)\n",
    "df.drop(df[(df['mode_agg5'] == 'Parcel') & (df['SHIPMT_WGHT'] > 150) & (df['value_density'] < 1)].index, inplace = True)\n",
    "df.drop(df[(df['MODE'] == 6) & (df['SHIPMT_WGHT'] < 1500)].index, inplace = True)\n",
    "df.drop(df[(df['MODE'] == 6) & (df['value_density'] >= 4)].index, inplace = True)\n"
   ]
  }
 ],
 "metadata": {
  "kernelspec": {
   "display_name": "Python 3",
   "language": "python",
   "name": "python3"
  },
  "language_info": {
   "codemirror_mode": {
    "name": "ipython",
    "version": 3
   },
   "file_extension": ".py",
   "mimetype": "text/x-python",
   "name": "python",
   "nbconvert_exporter": "python",
   "pygments_lexer": "ipython3",
   "version": "3.7.6"
  }
 },
 "nbformat": 4,
 "nbformat_minor": 4
}
