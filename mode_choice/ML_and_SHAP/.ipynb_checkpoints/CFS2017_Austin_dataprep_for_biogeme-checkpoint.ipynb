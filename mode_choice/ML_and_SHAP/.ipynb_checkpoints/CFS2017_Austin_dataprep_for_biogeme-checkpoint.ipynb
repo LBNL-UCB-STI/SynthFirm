{
 "cells": [
  {
   "cell_type": "code",
   "execution_count": 1,
   "metadata": {},
   "outputs": [],
   "source": [
    "## Built-in modules\n",
    "import os\n",
    "\n",
    "## Third party modules\n",
    "import matplotlib.pyplot as plt\n",
    "import pandas as pd\n",
    "import numpy as np\n",
    "from collections import OrderedDict\n",
    "%matplotlib inline"
   ]
  },
  {
   "cell_type": "code",
   "execution_count": 2,
   "metadata": {},
   "outputs": [],
   "source": [
    "#pd.__version__"
   ]
  },
  {
   "cell_type": "markdown",
   "metadata": {},
   "source": [
    "## CFS 2017 Data Import and Data Cleaning"
   ]
  },
  {
   "cell_type": "code",
   "execution_count": 3,
   "metadata": {},
   "outputs": [],
   "source": [
    "df_raw = pd.read_csv('cfs_2017.csv')"
   ]
  },
  {
   "cell_type": "code",
   "execution_count": 4,
   "metadata": {},
   "outputs": [],
   "source": [
    "# Only keep the TX Austin data + \"Rest of TX\"\n",
    "df_tx = df_raw[(df_raw['ORIG_CFS_AREA'] == '48-12420') | (df_raw['ORIG_CFS_AREA'] == '48-41700') | \n",
    "               (df_raw['ORIG_CFS_AREA'] == '48-99999') | (df_raw['DEST_CFS_AREA'] == '48-12420') |  \n",
    "               (df_raw['DEST_CFS_AREA'] == '48-41700') | (df_raw['DEST_CFS_AREA'] == '48-99999') ]"
   ]
  },
  {
   "cell_type": "code",
   "execution_count": 5,
   "metadata": {},
   "outputs": [
    {
     "data": {
      "text/html": [
       "<div>\n",
       "<style scoped>\n",
       "    .dataframe tbody tr th:only-of-type {\n",
       "        vertical-align: middle;\n",
       "    }\n",
       "\n",
       "    .dataframe tbody tr th {\n",
       "        vertical-align: top;\n",
       "    }\n",
       "\n",
       "    .dataframe thead th {\n",
       "        text-align: right;\n",
       "    }\n",
       "</style>\n",
       "<table border=\"1\" class=\"dataframe\">\n",
       "  <thead>\n",
       "    <tr style=\"text-align: right;\">\n",
       "      <th></th>\n",
       "      <th>SHIPMT_ID</th>\n",
       "      <th>ORIG_STATE</th>\n",
       "      <th>ORIG_MA</th>\n",
       "      <th>ORIG_CFS_AREA</th>\n",
       "      <th>DEST_STATE</th>\n",
       "      <th>DEST_MA</th>\n",
       "      <th>DEST_CFS_AREA</th>\n",
       "      <th>NAICS</th>\n",
       "      <th>QUARTER</th>\n",
       "      <th>SCTG</th>\n",
       "      <th>MODE</th>\n",
       "      <th>SHIPMT_VALUE</th>\n",
       "      <th>SHIPMT_WGHT</th>\n",
       "      <th>SHIPMT_DIST_GC</th>\n",
       "      <th>SHIPMT_DIST_ROUTED</th>\n",
       "      <th>TEMP_CNTL_YN</th>\n",
       "      <th>EXPORT_YN</th>\n",
       "      <th>EXPORT_CNTRY</th>\n",
       "      <th>HAZMAT</th>\n",
       "      <th>WGT_FACTOR</th>\n",
       "    </tr>\n",
       "  </thead>\n",
       "  <tbody>\n",
       "    <tr>\n",
       "      <th>5</th>\n",
       "      <td>6</td>\n",
       "      <td>48</td>\n",
       "      <td>12420</td>\n",
       "      <td>48-12420</td>\n",
       "      <td>36</td>\n",
       "      <td>160</td>\n",
       "      <td>36-160</td>\n",
       "      <td>4541</td>\n",
       "      <td>2</td>\n",
       "      <td>40</td>\n",
       "      <td>14</td>\n",
       "      <td>605</td>\n",
       "      <td>4</td>\n",
       "      <td>1348</td>\n",
       "      <td>1561</td>\n",
       "      <td>N</td>\n",
       "      <td>N</td>\n",
       "      <td>N</td>\n",
       "      <td>N</td>\n",
       "      <td>18201.7</td>\n",
       "    </tr>\n",
       "    <tr>\n",
       "      <th>8</th>\n",
       "      <td>9</td>\n",
       "      <td>17</td>\n",
       "      <td>176</td>\n",
       "      <td>17-176</td>\n",
       "      <td>48</td>\n",
       "      <td>41700</td>\n",
       "      <td>48-41700</td>\n",
       "      <td>333</td>\n",
       "      <td>1</td>\n",
       "      <td>40</td>\n",
       "      <td>14</td>\n",
       "      <td>1918</td>\n",
       "      <td>38</td>\n",
       "      <td>1057</td>\n",
       "      <td>1224</td>\n",
       "      <td>N</td>\n",
       "      <td>N</td>\n",
       "      <td>N</td>\n",
       "      <td>N</td>\n",
       "      <td>566.8</td>\n",
       "    </tr>\n",
       "    <tr>\n",
       "      <th>12</th>\n",
       "      <td>13</td>\n",
       "      <td>48</td>\n",
       "      <td>206</td>\n",
       "      <td>48-206</td>\n",
       "      <td>48</td>\n",
       "      <td>99999</td>\n",
       "      <td>48-99999</td>\n",
       "      <td>322</td>\n",
       "      <td>2</td>\n",
       "      <td>28</td>\n",
       "      <td>4</td>\n",
       "      <td>672</td>\n",
       "      <td>684</td>\n",
       "      <td>466</td>\n",
       "      <td>517</td>\n",
       "      <td>N</td>\n",
       "      <td>N</td>\n",
       "      <td>N</td>\n",
       "      <td>N</td>\n",
       "      <td>121.0</td>\n",
       "    </tr>\n",
       "    <tr>\n",
       "      <th>43</th>\n",
       "      <td>44</td>\n",
       "      <td>13</td>\n",
       "      <td>122</td>\n",
       "      <td>13-122</td>\n",
       "      <td>48</td>\n",
       "      <td>99999</td>\n",
       "      <td>48-99999</td>\n",
       "      <td>4242</td>\n",
       "      <td>2</td>\n",
       "      <td>21</td>\n",
       "      <td>14</td>\n",
       "      <td>3</td>\n",
       "      <td>1</td>\n",
       "      <td>729</td>\n",
       "      <td>831</td>\n",
       "      <td>N</td>\n",
       "      <td>N</td>\n",
       "      <td>N</td>\n",
       "      <td>N</td>\n",
       "      <td>551.7</td>\n",
       "    </tr>\n",
       "    <tr>\n",
       "      <th>65</th>\n",
       "      <td>66</td>\n",
       "      <td>48</td>\n",
       "      <td>99999</td>\n",
       "      <td>48-99999</td>\n",
       "      <td>48</td>\n",
       "      <td>99999</td>\n",
       "      <td>48-99999</td>\n",
       "      <td>4239</td>\n",
       "      <td>2</td>\n",
       "      <td>26</td>\n",
       "      <td>15</td>\n",
       "      <td>14782</td>\n",
       "      <td>138577</td>\n",
       "      <td>180</td>\n",
       "      <td>419</td>\n",
       "      <td>N</td>\n",
       "      <td>N</td>\n",
       "      <td>N</td>\n",
       "      <td>N</td>\n",
       "      <td>57.3</td>\n",
       "    </tr>\n",
       "  </tbody>\n",
       "</table>\n",
       "</div>"
      ],
      "text/plain": [
       "    SHIPMT_ID  ORIG_STATE  ORIG_MA ORIG_CFS_AREA  DEST_STATE  DEST_MA  \\\n",
       "5           6          48    12420      48-12420          36      160   \n",
       "8           9          17      176        17-176          48    41700   \n",
       "12         13          48      206        48-206          48    99999   \n",
       "43         44          13      122        13-122          48    99999   \n",
       "65         66          48    99999      48-99999          48    99999   \n",
       "\n",
       "   DEST_CFS_AREA  NAICS  QUARTER SCTG  MODE  SHIPMT_VALUE  SHIPMT_WGHT  \\\n",
       "5         36-160   4541        2   40    14           605            4   \n",
       "8       48-41700    333        1   40    14          1918           38   \n",
       "12      48-99999    322        2   28     4           672          684   \n",
       "43      48-99999   4242        2   21    14             3            1   \n",
       "65      48-99999   4239        2   26    15         14782       138577   \n",
       "\n",
       "    SHIPMT_DIST_GC  SHIPMT_DIST_ROUTED TEMP_CNTL_YN EXPORT_YN EXPORT_CNTRY  \\\n",
       "5             1348                1561            N         N            N   \n",
       "8             1057                1224            N         N            N   \n",
       "12             466                 517            N         N            N   \n",
       "43             729                 831            N         N            N   \n",
       "65             180                 419            N         N            N   \n",
       "\n",
       "   HAZMAT  WGT_FACTOR  \n",
       "5       N     18201.7  \n",
       "8       N       566.8  \n",
       "12      N       121.0  \n",
       "43      N       551.7  \n",
       "65      N        57.3  "
      ]
     },
     "execution_count": 5,
     "metadata": {},
     "output_type": "execute_result"
    }
   ],
   "source": [
    "df_tx.head()"
   ]
  },
  {
   "cell_type": "code",
   "execution_count": 6,
   "metadata": {},
   "outputs": [
    {
     "data": {
      "text/plain": [
       "(253810, 20)"
      ]
     },
     "execution_count": 6,
     "metadata": {},
     "output_type": "execute_result"
    }
   ],
   "source": [
    "df_tx.shape"
   ]
  },
  {
   "cell_type": "markdown",
   "metadata": {},
   "source": [
    "### Generate mode choice variables"
   ]
  },
  {
   "cell_type": "code",
   "execution_count": 8,
   "metadata": {},
   "outputs": [],
   "source": [
    "mode_agg5_dict = {4:'For-hire Truck', \n",
    "                  5:'Private Truck', \n",
    "                  6:'Rail/IMX', \n",
    "                  15:'Rail/IMX', \n",
    "                  11:'Air', \n",
    "                  14:'Parcel', \n",
    "                  0:'Other',\n",
    "                  2:'Other',\n",
    "                  3:'Other',\n",
    "                  7:'Other',\n",
    "                  8:'Other',\n",
    "                  10:'Other',\n",
    "                  12:'Other',\n",
    "                  13:'Other',\n",
    "                  16:'Other',\n",
    "                  17:'Other',\n",
    "                  20:'Other',\n",
    "                  101:'Other'}\n",
    "\n",
    "df_tx['mode_agg5'] = (df_tx.MODE).replace(mode_agg5_dict)"
   ]
  },
  {
   "cell_type": "code",
   "execution_count": 10,
   "metadata": {},
   "outputs": [],
   "source": [
    "# Remove shipment with mode other than the five modes\n",
    "\n",
    "df_tx = df_tx[df_tx['mode_agg5'] != 'Other'] "
   ]
  },
  {
   "cell_type": "code",
   "execution_count": 11,
   "metadata": {},
   "outputs": [
    {
     "data": {
      "text/plain": [
       "For-hire Truck    107411\n",
       "Private Truck      72413\n",
       "Parcel             65151\n",
       "Rail/IMX            4595\n",
       "Air                 3111\n",
       "Name: mode_agg5, dtype: int64"
      ]
     },
     "execution_count": 11,
     "metadata": {},
     "output_type": "execute_result"
    }
   ],
   "source": [
    "df_tx['mode_agg5'].value_counts()"
   ]
  },
  {
   "cell_type": "markdown",
   "metadata": {},
   "source": [
    "### Generate commodity type variables"
   ]
  },
  {
   "cell_type": "code",
   "execution_count": 12,
   "metadata": {},
   "outputs": [],
   "source": [
    "df_tx['SCTG'] = df_tx['SCTG'].astype(int)"
   ]
  },
  {
   "cell_type": "code",
   "execution_count": 13,
   "metadata": {},
   "outputs": [],
   "source": [
    "df_tx['bulk'] = np.where((df_tx['SCTG'] == 2) | (df_tx['SCTG'] == 10) | (df_tx['SCTG'] == 11) | \n",
    "                         (df_tx['SCTG'] == 12) | (df_tx['SCTG'] == 13) | (df_tx['SCTG'] == 14) | \n",
    "                         (df_tx['SCTG'] == 15) | (df_tx['SCTG'] == 25) | (df_tx['SCTG'] == 26)| (df_tx['SCTG'] == 32), 1, 0)\n",
    "df_tx['fuel_fert'] = np.where((df_tx['SCTG'] == 16) | (df_tx['SCTG'] == 17) | (df_tx['SCTG'] == 18) | \n",
    "                              (df_tx['SCTG'] == 19) | (df_tx['SCTG'] == 20) | (df_tx['SCTG'] == 22) | (df_tx['SCTG'] == 23), 1, 0)\n",
    "df_tx['interm_food'] = np.where((df_tx['SCTG'] == 1) | (df_tx['SCTG'] == 3) | (df_tx['SCTG'] == 4) | \n",
    "                         (df_tx['SCTG'] == 5) | (df_tx['SCTG'] == 6) | (df_tx['SCTG'] == 7) | (df_tx['SCTG'] == 8), 1, 0)\n",
    "df_tx['mfr_goods'] = np.where((df_tx['SCTG'] == 9) | (df_tx['SCTG'] == 21) | (df_tx['SCTG'] == 24) | \n",
    "                              (df_tx['SCTG'] == 27) | (df_tx['SCTG'] == 28) | (df_tx['SCTG'] == 29) | \n",
    "                              (df_tx['SCTG'] == 30) | (df_tx['SCTG'] == 31) | (df_tx['SCTG'] == 33) | \n",
    "                              (df_tx['SCTG'] == 34) | (df_tx['SCTG'] == 35) | (df_tx['SCTG'] == 36) |\n",
    "                              (df_tx['SCTG'] == 37) | (df_tx['SCTG'] == 38) | (df_tx['SCTG'] == 39) | (df_tx['SCTG'] == 40), 1, 0)\n",
    "df_tx['other'] = np.where((df_tx['SCTG'] == 41) | (df_tx['SCTG'] == 43) | (df_tx['SCTG'] == 99), 1, 0)"
   ]
  },
  {
   "cell_type": "code",
   "execution_count": 14,
   "metadata": {},
   "outputs": [],
   "source": [
    "commodity_dict = {2:'bulk', 10:'bulk', 11:'bulk', 12:'bulk', 13:'bulk', 14:'bulk', 15:'bulk', 25:'bulk', 26:'bulk', 32:'bulk',\n",
    "                  16:'fuel_fert', 17:'fuel_fert', 18:'fuel_fert', 19:'fuel_fert', 20:'fuel_fert', 22:'fuel_fert', 23:'fuel_fert',\n",
    "                  1:'interm_food', 3:'interm_food', 4:'interm_food', 5:'interm_food', 6:'interm_food', 7:'interm_food', 8:'interm_food',\n",
    "                  9:'mfr_goods', 21:'mfr_goods', 24:'mfr_goods', 27:'mfr_goods', 28:'mfr_goods', 29:'mfr_goods', 30:'mfr_goods', \n",
    "                  31:'mfr_goods', 33:'mfr_goods', 34:'mfr_goods', 35:'mfr_goods', 36:'mfr_goods', 37:'mfr_goods', 38:'mfr_goods', \n",
    "                  39:'mfr_goods', 40:'mfr_goods',\n",
    "                  41:'other', 43:'other', 99:'other'}\n",
    "\n",
    "df_tx['commodity'] = df_tx['SCTG'].map(commodity_dict)"
   ]
  },
  {
   "cell_type": "markdown",
   "metadata": {},
   "source": [
    "### Generate NAICS industry type variables"
   ]
  },
  {
   "cell_type": "code",
   "execution_count": 15,
   "metadata": {},
   "outputs": [],
   "source": [
    "df_tx['naics2'] = df_tx['NAICS'].astype(str).str[:2].astype(int)"
   ]
  },
  {
   "cell_type": "code",
   "execution_count": 16,
   "metadata": {},
   "outputs": [],
   "source": [
    "df_tx['naics_name'] = (df_tx.naics2).replace({21:'Mining', \n",
    "                                              31:'Manufacturing',\n",
    "                                              32:'Manufacturing',\n",
    "                                              33:'Manufacturing',\n",
    "                                              42:'Wholesale',\n",
    "                                              45:'Retail',\n",
    "                                              49:'Trans_Warehouse',\n",
    "                                              51:'Information',\n",
    "                                              55:'Mgt_companies'})"
   ]
  },
  {
   "cell_type": "code",
   "execution_count": 17,
   "metadata": {},
   "outputs": [],
   "source": [
    "df_tx[\"wholesale\"] = (df_tx['naics_name'] == \"Wholesale\").astype(int)\n",
    "df_tx[\"mfring\"] = (df_tx['naics_name'] == \"Manufacturing\").astype(int)\n",
    "df_tx[\"mining\"] = (df_tx['naics_name'] == \"Mining\").astype(int)\n",
    "df_tx[\"retail\"] = (df_tx['naics_name'] == \"Retail\").astype(int)\n",
    "df_tx[\"info\"] = (df_tx['naics_name'] == \"Information\").astype(int)\n",
    "df_tx[\"management\"] = (df_tx['naics_name'] == \"Mgt_companies\").astype(int)\n",
    "df_tx[\"transwarehouse\"] = (df_tx['naics_name'] == \"Trans_Warehouse\").astype(int)"
   ]
  },
  {
   "cell_type": "markdown",
   "metadata": {},
   "source": [
    "### Generate additional variables"
   ]
  },
  {
   "cell_type": "code",
   "execution_count": 20,
   "metadata": {},
   "outputs": [],
   "source": [
    "df_tx['geo'] = np.where(((df_tx['ORIG_CFS_AREA'] == '48-12420') | (df_tx['ORIG_CFS_AREA'] == '48-41700')) & \n",
    "               ((df_tx['DEST_CFS_AREA'] == '48-12420') | (df_tx['DEST_CFS_AREA'] == '48-41700')), 'Within Austin', 'External')\n",
    "\n",
    "df_tx['SHIPMT_WGHT_TON'] = df_tx['SHIPMT_WGHT']/2000\n",
    "\n",
    "df_tx['value_density'] = df_tx['SHIPMT_VALUE']/df_tx['SHIPMT_WGHT']\n",
    "\n",
    "df_tx['SHIPMT_DIST'] = df_tx['SHIPMT_DIST_ROUTED']\n",
    "df_tx['SHIPMT_DIST'] = np.where((df_tx['mode_agg5'] == 'Air') | (df_tx['mode_agg5'] == 'Parcel'), \n",
    "                                df_tx['SHIPMT_DIST_GC'],df_tx['SHIPMT_DIST']) # Use GC distance for Air and Parcel and Routed distance for the rest of modes."
   ]
  },
  {
   "cell_type": "markdown",
   "metadata": {},
   "source": [
    "### Additional data removal rules"
   ]
  },
  {
   "cell_type": "code",
   "execution_count": 21,
   "metadata": {},
   "outputs": [],
   "source": [
    "# Based on Stinson et al. (2017)\n",
    "\n",
    "df_tx.drop(df_tx[(df_tx['mode_agg5'] == 'Air') & (df_tx['SHIPMT_WGHT'] > 15000)].index, inplace = True)\n",
    "df_tx.drop(df_tx[(df_tx['mode_agg5'] == 'Air') & (df_tx['SHIPMT_WGHT'] > 150) & (df_tx['value_density'] < 1)].index, inplace = True)\n",
    "df_tx.drop(df_tx[(df_tx['mode_agg5'] == 'Parcel') & (df_tx['SHIPMT_WGHT'] > 150) & (df_tx['value_density'] < 1)].index, inplace = True)\n",
    "df_tx.drop(df_tx[(df_tx['MODE'] == 6) & (df_tx['SHIPMT_WGHT'] < 1500)].index, inplace = True)\n",
    "df_tx.drop(df_tx[(df_tx['MODE'] == 6) & (df_tx['value_density'] >= 4)].index, inplace = True)"
   ]
  },
  {
   "cell_type": "code",
   "execution_count": 23,
   "metadata": {},
   "outputs": [],
   "source": [
    "# For the ML paper, remove \"export\" shipment\n",
    "\n",
    "df_tx.drop(df_tx[df_tx['EXPORT_YN'] == 'Y'].index, inplace = True)"
   ]
  },
  {
   "cell_type": "markdown",
   "metadata": {},
   "source": [
    "## Data Setup for Biogeme"
   ]
  },
  {
   "cell_type": "markdown",
   "metadata": {},
   "source": [
    "### Create binary variables for alternative-specific variables using cutoff informed by SHAP partial dependence plots "
   ]
  },
  {
   "cell_type": "code",
   "execution_count": 24,
   "metadata": {},
   "outputs": [],
   "source": [
    "df_tx['shipmt_dist_less_than_500'] = (df_tx['SHIPMT_DIST']<=500).astype(int)\n",
    "df_tx['shipmt_dist_more_than_500'] = (df_tx['SHIPMT_DIST']>500).astype(int)\n",
    "\n",
    "df_tx['shipmt_wght_less_than_150'] = (df_tx['SHIPMT_WGHT']<=150).astype(int) # For air, parcel\n",
    "\n",
    "df_tx['val_den_less_than_1'] = (df_tx['value_density']<=1).astype(int) \n",
    "df_tx['val_den_less_than_5'] = (df_tx['value_density']<=5).astype(int) \n",
    "df_tx['val_den_more_than_25'] = (df_tx['value_density']>25).astype(int) \n",
    "df_tx['val_den_more_than_5'] = (df_tx['value_density']>5).astype(int) \n",
    "df_tx['val_den_5to25'] = ((df_tx['value_density']>5) & (df_tx['value_density']<=25)).astype(int) \n",
    "df_tx['val_den_1to10'] = ((df_tx['value_density']>1) & (df_tx['value_density']<=10)).astype(int) "
   ]
  },
  {
   "cell_type": "markdown",
   "metadata": {},
   "source": [
    "### Create weight bin binary variables"
   ]
  },
  {
   "cell_type": "code",
   "execution_count": 25,
   "metadata": {},
   "outputs": [],
   "source": [
    "df_tx['wght_bin_1'] = (df_tx['SHIPMT_WGHT'] <= 150).astype(int)\n",
    "df_tx['wght_bin_2'] = ((df_tx['SHIPMT_WGHT'] > 150) & (df_tx['SHIPMT_WGHT'] <= 1500)).astype(int)\n",
    "df_tx['wght_bin_3'] = ((df_tx['SHIPMT_WGHT'] > 1500) & (df_tx['SHIPMT_WGHT'] <= 30000)).astype(int)\n",
    "df_tx['wght_bin_4'] = ((df_tx['SHIPMT_WGHT'] > 30000) & (df_tx['SHIPMT_WGHT'] <= 45000)).astype(int)\n",
    "df_tx['wght_bin_5'] = (df_tx['SHIPMT_WGHT'] > 45000).astype(int)"
   ]
  },
  {
   "cell_type": "markdown",
   "metadata": {},
   "source": [
    "### Create the 'choice' and 'availability' variables"
   ]
  },
  {
   "cell_type": "code",
   "execution_count": 26,
   "metadata": {},
   "outputs": [],
   "source": [
    "## alt_1 = Air, alt_2 = For-hire Truck, alt_3 = Parcel, alt_4 = Private Truck, alt_5 = Rail/IMX \n",
    "\n",
    "choice_dictionary ={'Air' : 1, 'For-hire Truck' : 2, 'Parcel' : 3, 'Private Truck': 4, 'Rail/IMX':5}\n",
    "df_tx['choice'] = df_tx['mode_agg5'].map(choice_dictionary).astype(int)\n",
    "\n",
    "## Mode availability \n",
    "df_tx['AV_1c'] = np.where(((df_tx['SHIPMT_WGHT_TON'] <= 410) | (df_tx['mode_agg5'] == 'Air')), 1, 0) # the treshold is the national max (unweighted)\n",
    "df_tx['AV_2c'] = 1\n",
    "df_tx['AV_3c'] = np.where(((df_tx['SHIPMT_WGHT'] <= 150) | (df_tx['mode_agg5'] == 'Parcel')), 1, 0)\n",
    "df_tx['AV_4c'] = np.where(((df_tx['SHIPMT_DIST_ROUTED'] <= 468) | (df_tx['mode_agg5'] == 'Private Truck')), 1, 0) # the treshold is the national max (unweighted)\n",
    "df_tx['AV_5c'] = 1"
   ]
  },
  {
   "cell_type": "markdown",
   "metadata": {},
   "source": [
    "### Create TravelTime and ShipCost variables"
   ]
  },
  {
   "cell_type": "code",
   "execution_count": 27,
   "metadata": {},
   "outputs": [
    {
     "name": "stderr",
     "output_type": "stream",
     "text": [
      "C:\\Users\\hcyang\\anaconda3\\lib\\site-packages\\pandas\\core\\arraylike.py:364: RuntimeWarning: overflow encountered in exp\n",
      "  result = getattr(ufunc, method)(*inputs, **kwargs)\n"
     ]
    }
   ],
   "source": [
    "## We assume that For-hire Truck and Private Truck have the same travel time and shipping costs.\n",
    "## The calculations for Rail/IMX, For-hire Truck and Private Truck are based on Stinson et al. (2017)\n",
    "## The calculations for Air and Parcel are based on Keya (2016), minor modification to Air (adding loading time for external shipments)\n",
    "\n",
    "m = df_tx['AV_3c'] == 1\n",
    "df_tx.loc[m, 'random'] = np.random.rand(m.sum()) ## We are assigning different shipping speeds for Parcels based on a distribution; hence we need to generate this 'random' variable first \n",
    "\n",
    "\n",
    "df_tx['alt_1_traveltime'] = np.where(df_tx['geo'] == 'Within Austin', 1 + df_tx['SHIPMT_DIST_GC']/549.5,\n",
    "                            np.where(df_tx['geo'] == 'External', 12 + df_tx['SHIPMT_DIST_GC']/549.5,\n",
    "                            np.nan)) # assume average speed of 549.5 mph\n",
    "df_tx['alt_2_traveltime'] = np.where(df_tx['geo'] == 'Within Austin', 4 + df_tx['SHIPMT_DIST_ROUTED']/20,\n",
    "                            np.where((df_tx['geo'] == 'External') & (df_tx['SHIPMT_DIST_ROUTED'] <= 650), 16 + df_tx['SHIPMT_DIST_ROUTED']/65,\n",
    "                            np.where((df_tx['geo'] == 'External') & (df_tx['SHIPMT_DIST_ROUTED'] > 650) & (df_tx['SHIPMT_DIST_ROUTED'] <= 1299), 16 + df_tx['SHIPMT_DIST_ROUTED']/38,\n",
    "                            np.where((df_tx['geo'] == 'External') & (df_tx['SHIPMT_DIST_ROUTED'] > 1299), 16 + df_tx['SHIPMT_DIST_ROUTED']/32, np.nan)))) \n",
    "df_tx['alt_3_traveltime'] = np.where(df_tx['random'] <= 0.09, 3*24,\n",
    "                            np.where((df_tx['random'] > 0.09) & (df_tx['random'] <= 0.27), 24,\n",
    "                            np.where(df_tx['random'] > 0.27, 5*24, np.nan)))\n",
    "df_tx['alt_4_traveltime'] =np.where(df_tx['geo'] == 'Within Austin', 4 + df_tx['SHIPMT_DIST_ROUTED']/20,\n",
    "                           np.where((df_tx['geo'] == 'External') & (df_tx['SHIPMT_DIST_ROUTED'] <= 650), 16 + df_tx['SHIPMT_DIST_ROUTED']/65,\n",
    "                           np.where((df_tx['geo'] == 'External') & (df_tx['SHIPMT_DIST_ROUTED'] > 650) & (df_tx['SHIPMT_DIST_ROUTED'] <= 1299), 16 + df_tx['SHIPMT_DIST_ROUTED']/38,\n",
    "                           np.where((df_tx['geo'] == 'External') & (df_tx['SHIPMT_DIST_ROUTED'] > 1299), 16 + df_tx['SHIPMT_DIST_ROUTED']/32, np.nan)))) \n",
    "df_tx['alt_5_traveltime'] = 12 + df_tx['SHIPMT_DIST_ROUTED']/22 + 12*2 # Assume 2 trackage changes\n",
    "\n",
    "df_tx['alt_1_shipcost'] = np.where(df_tx['SHIPMT_WGHT'] <= 100, 55, 55+(df_tx['SHIPMT_WGHT']-100))\n",
    "df_tx['alt_2_shipcost'] = np.where(df_tx['SHIPMT_WGHT'] < 150, np.maximum(2.83*df_tx['SHIPMT_WGHT_TON']*df_tx['SHIPMT_DIST_GC'], 10),\n",
    "                          np.where((df_tx['SHIPMT_WGHT'] >= 150) & (df_tx['SHIPMT_WGHT'] < 1500), np.maximum(0.50*df_tx['SHIPMT_WGHT_TON']*df_tx['SHIPMT_DIST_GC'],15),\n",
    "                          np.where(df_tx['SHIPMT_WGHT'] >= 1500, np.maximum(0.18*df_tx['SHIPMT_WGHT_TON']*df_tx['SHIPMT_DIST_GC'],15), np.NaN)))\n",
    "df_tx['alt_3_shipcost'] = np.where((df_tx['random'] > 0.27) & (df_tx['SHIPMT_DIST_ROUTED'] <= 150), np.exp(2.056+0.016*df_tx['SHIPMT_WGHT']),\n",
    "                          np.where((df_tx['random'] > 0.27) & (df_tx['SHIPMT_DIST_ROUTED'] > 150) & (df_tx['SHIPMT_DIST_ROUTED'] <= 300), np.exp(2.251+0.015*df_tx['SHIPMT_WGHT']), \n",
    "                          np.where((df_tx['random'] > 0.27) & (df_tx['SHIPMT_DIST_ROUTED'] > 300) & (df_tx['SHIPMT_DIST_ROUTED'] <= 600), np.exp(2.362+0.015*df_tx['SHIPMT_WGHT']),\n",
    "                          np.where((df_tx['random'] > 0.27) & (df_tx['SHIPMT_DIST_ROUTED'] > 600) & (df_tx['SHIPMT_DIST_ROUTED'] <= 1000), np.exp(2.555+0.014*df_tx['SHIPMT_WGHT']), \n",
    "                          np.where((df_tx['random'] > 0.27) & (df_tx['SHIPMT_DIST_ROUTED'] > 1000) & (df_tx['SHIPMT_DIST_ROUTED'] <= 1400), np.exp(2.739+0.013*df_tx['SHIPMT_WGHT']), \n",
    "                          np.where((df_tx['random'] > 0.27) & (df_tx['SHIPMT_DIST_ROUTED'] > 1400) & (df_tx['SHIPMT_DIST_ROUTED'] <= 1800), np.exp(2.905+0.013*df_tx['SHIPMT_WGHT']), \n",
    "                          np.where((df_tx['random'] > 0.27) & (df_tx['SHIPMT_DIST_ROUTED'] > 1800), np.exp(3.023+0.013*df_tx['SHIPMT_WGHT']),\n",
    "                          np.where((df_tx['random'] > 0.09) & (df_tx['random'] <= 0.27) & (df_tx['SHIPMT_DIST_ROUTED'] <= 150), np.exp(3.666+0.015*df_tx['SHIPMT_WGHT']),\n",
    "                          np.where((df_tx['random'] > 0.09) & (df_tx['random'] <= 0.27) & (df_tx['SHIPMT_DIST_ROUTED'] > 150) & (df_tx['SHIPMT_DIST_ROUTED'] <= 300), np.exp(3.993+0.016*df_tx['SHIPMT_WGHT']), \n",
    "                          np.where((df_tx['random'] > 0.09) & (df_tx['random'] <= 0.27) & (df_tx['SHIPMT_DIST_ROUTED'] > 300) & (df_tx['SHIPMT_DIST_ROUTED'] <= 600), np.exp(4.631+0.01*df_tx['SHIPMT_WGHT']),\n",
    "                          np.where((df_tx['random'] > 0.09) & (df_tx['random'] <= 0.27) & (df_tx['SHIPMT_DIST_ROUTED'] > 600) & (df_tx['SHIPMT_DIST_ROUTED'] <= 1000), np.exp(4.700+0.01*df_tx['SHIPMT_WGHT']), \n",
    "                          np.where((df_tx['random'] > 0.09) & (df_tx['random'] <= 0.27) & (df_tx['SHIPMT_DIST_ROUTED'] > 1000) & (df_tx['SHIPMT_DIST_ROUTED'] <= 1400), np.exp(4.767+0.015*df_tx['SHIPMT_WGHT']), \n",
    "                          np.where((df_tx['random'] > 0.09) & (df_tx['random'] <= 0.27) & (df_tx['SHIPMT_DIST_ROUTED'] > 1400) & (df_tx['SHIPMT_DIST_ROUTED'] <= 1800), np.exp(4.798+0.015*df_tx['SHIPMT_WGHT']), \n",
    "                          np.where((df_tx['random'] > 0.09) & (df_tx['random'] <= 0.27) & (df_tx['SHIPMT_DIST_ROUTED'] > 1800), np.exp(4.855+0.015*df_tx['SHIPMT_WGHT']),\n",
    "                          np.where((df_tx['random'] <= 0.09) & (df_tx['SHIPMT_DIST_ROUTED'] <= 150), np.exp(3.208+0.014*df_tx['SHIPMT_WGHT']),\n",
    "                          np.where((df_tx['random'] <= 0.09) & (df_tx['SHIPMT_DIST_ROUTED'] > 150) & (df_tx['SHIPMT_DIST_ROUTED'] <= 300), np.exp(3.399+0.015*df_tx['SHIPMT_WGHT']), \n",
    "                          np.where((df_tx['random'] <= 0.09) & (df_tx['SHIPMT_DIST_ROUTED'] > 300) & (df_tx['SHIPMT_DIST_ROUTED'] <= 600), np.exp(3.560+0.015*df_tx['SHIPMT_WGHT']),\n",
    "                          np.where((df_tx['random'] <= 0.09) & (df_tx['SHIPMT_DIST_ROUTED'] > 600) & (df_tx['SHIPMT_DIST_ROUTED'] <= 1000), np.exp(3.624+0.016*df_tx['SHIPMT_WGHT']), \n",
    "                          np.where((df_tx['random'] <= 0.09) & (df_tx['SHIPMT_DIST_ROUTED'] > 1000) & (df_tx['SHIPMT_DIST_ROUTED'] <= 1400), np.exp(3.908+0.016*df_tx['SHIPMT_WGHT']), \n",
    "                          np.where((df_tx['random'] <= 0.09) & (df_tx['SHIPMT_DIST_ROUTED'] > 1400) & (df_tx['SHIPMT_DIST_ROUTED'] <= 1800), np.exp(4.010+0.016*df_tx['SHIPMT_WGHT']), \n",
    "                          np.where((df_tx['random'] <= 0.09) & (df_tx['SHIPMT_DIST_ROUTED'] > 1800), np.exp(4.158+0.016*df_tx['SHIPMT_WGHT']), np.NaN)))))))))))))))))))))\n",
    "\n",
    "## set minimum shipping cost for Parcel based on Stinson et al. (2017)\n",
    "df_tx['alt_3_shipcost'] = np.where((df_tx['AV_3c'] == 1) & (df_tx['SHIPMT_WGHT'] < 150), np.maximum(df_tx['alt_3_shipcost'], 10), \n",
    "                          np.where((df_tx['AV_3c'] == 1) & (df_tx['SHIPMT_WGHT'] >= 150), np.maximum(df_tx['alt_3_shipcost'], 15), np.NaN))\n",
    "                                   \n",
    "df_tx['alt_4_shipcost'] = np.where(df_tx['SHIPMT_WGHT'] < 150, np.maximum(2.83*df_tx['SHIPMT_WGHT_TON']*df_tx['SHIPMT_DIST_GC'],10),\n",
    "                          np.where((df_tx['SHIPMT_WGHT'] >= 150) & (df_tx['SHIPMT_WGHT'] < 1500), np.maximum(0.50*df_tx['SHIPMT_WGHT_TON']*df_tx['SHIPMT_DIST_GC'],15),\n",
    "                          np.where(df_tx['SHIPMT_WGHT'] >= 1500, np.maximum(0.18*df_tx['SHIPMT_WGHT_TON']*df_tx['SHIPMT_DIST_GC'],15), np.NaN)))\n",
    "df_tx['alt_5_shipcost'] = np.maximum(0.039*df_tx['SHIPMT_WGHT_TON']*df_tx['SHIPMT_DIST_ROUTED'],200)"
   ]
  },
  {
   "cell_type": "markdown",
   "metadata": {},
   "source": [
    "### Create Biogeme datasets"
   ]
  },
  {
   "cell_type": "code",
   "execution_count": 28,
   "metadata": {},
   "outputs": [],
   "source": [
    "## Biogeme only take dataset that contains numbers, keep numerical variables\n",
    "\n",
    "df_tx_short = df_tx[['SHIPMT_ID','SHIPMT_DIST','SHIPMT_DIST_GC','SHIPMT_DIST_ROUTED','SHIPMT_WGHT_TON','SHIPMT_WGHT','value_density',\n",
    "                     'bulk','fuel_fert','interm_food','mfr_goods','other',\n",
    "                     'wholesale','mfring','mining','retail',\n",
    "                     'info','management','transwarehouse','alt_1_traveltime','alt_2_traveltime','alt_3_traveltime',\n",
    "                     'alt_4_traveltime','alt_5_traveltime',\n",
    "                     'alt_1_shipcost','alt_2_shipcost','alt_3_shipcost','alt_4_shipcost','alt_5_shipcost','choice',\n",
    "                     'AV_1c','AV_2c','AV_3c','AV_4c','AV_5c',\n",
    "                     'WGT_FACTOR',\n",
    "                     'shipmt_dist_less_than_500','shipmt_dist_more_than_500','shipmt_wght_less_than_150',\n",
    "                     'val_den_less_than_1', 'val_den_less_than_5', 'val_den_more_than_5',\n",
    "                     'val_den_more_than_25','val_den_5to25', 'val_den_1to10', \n",
    "                     'wght_bin_1', 'wght_bin_2', 'wght_bin_3', 'wght_bin_4', 'wght_bin_5']]\n",
    "\n",
    "df_tx_short.columns[df_tx_short.isna().any()].tolist() # 'alt_3_traveltime' and 'alt_3_shipcost' contain NaN\n",
    "\n",
    "df_tx_short = df_tx_short.fillna(0).copy() # Biogeme does not allow NaN in dataset"
   ]
  },
  {
   "cell_type": "code",
   "execution_count": null,
   "metadata": {},
   "outputs": [],
   "source": [
    "df_tx_short.to_csv('CFS2017_austin_forbiogeme.csv', index = False)"
   ]
  },
  {
   "cell_type": "code",
   "execution_count": null,
   "metadata": {},
   "outputs": [],
   "source": []
  },
  {
   "cell_type": "code",
   "execution_count": null,
   "metadata": {},
   "outputs": [],
   "source": []
  }
 ],
 "metadata": {
  "kernelspec": {
   "display_name": "Python 3",
   "language": "python",
   "name": "python3"
  },
  "language_info": {
   "codemirror_mode": {
    "name": "ipython",
    "version": 3
   },
   "file_extension": ".py",
   "mimetype": "text/x-python",
   "name": "python",
   "nbconvert_exporter": "python",
   "pygments_lexer": "ipython3",
   "version": "3.7.6"
  }
 },
 "nbformat": 4,
 "nbformat_minor": 4
}
