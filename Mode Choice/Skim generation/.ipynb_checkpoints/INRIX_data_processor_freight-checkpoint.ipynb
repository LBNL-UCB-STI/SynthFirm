{
 "cells": [
  {
   "cell_type": "code",
   "execution_count": 1,
   "id": "9abbd75a-c67c-415a-9bdb-99b04d7bd538",
   "metadata": {},
   "outputs": [],
   "source": [
    "import pandas as pd\n",
    "import os\n",
    "from pandas import read_csv\n",
    "from pandas import read_parquet\n",
    "import matplotlib.pyplot as plt\n",
    "import seaborn as sns\n",
    "import warnings\n",
    "import numpy as np\n",
    "import pyarrow\n",
    "import fastparquet\n",
    "from datetime import datetime, timezone, timedelta\n",
    "import scipy.stats as s\n",
    "\n",
    "warnings.filterwarnings(\"ignore\")\n",
    "\n",
    "work_dir = '/Users/xiaodanxu/Library/CloudStorage/GoogleDrive-arielinseu@gmail.com/My Drive/GEMS/data/INRIX'\n",
    "os.chdir(work_dir)\n",
    "\n",
    "selected_state = 'CA'\n",
    "plt.style.use('ggplot')\n",
    "sns.set(font_scale=1.2)  # larger font\n",
    "meter_to_mile = 0.000621371"
   ]
  },
  {
   "cell_type": "code",
   "execution_count": 3,
   "id": "229f9325-f391-4156-96df-60de46e9ba1a",
   "metadata": {},
   "outputs": [],
   "source": [
    "# data process function\n",
    "def inrix_data_cleaning(data):\n",
    "    \n",
    "    # data filtering & cleaning\n",
    "    data = data.loc[data['mode'] == 1] # vehicle\n",
    "    data = data.loc[data['movement_type'] == 1] # moving trips\n",
    "    data = data.loc[data['vehicle_weight_class'].isin([2,3])] # MDV + HDV\n",
    "    data = data.loc[data['provider_type'] == 2] # fleet vehicles\n",
    "    data = data.dropna(subset = ['start_cbg', 'end_cbg']) \n",
    "    \n",
    "    # generate time-related attributes\n",
    "    tz = data.start_tz.unique()[0]\n",
    "#     print(tz)\n",
    "    data.loc[:, 'start_date'] = data.loc[:, 'start_date'].str.split('.').str[0]\n",
    "    data.loc[:, 'end_date'] = data.loc[:, 'end_date'].str.split('.').str[0]\n",
    "\n",
    "    data['start_time'] = \\\n",
    "    pd.to_datetime(data['start_date'].astype(str), format='%Y-%m-%dT%H:%M:%S')\n",
    "    data['start_time'] = data['start_time'].dt.tz_localize('utc').dt.tz_convert(tz)\n",
    "\n",
    "    data['end_time'] = \\\n",
    "    pd.to_datetime(data['end_date'].astype(str), format='%Y-%m-%dT%H:%M:%S')\n",
    "    data['end_time'] = data['end_time'].dt.tz_localize('utc').dt.tz_convert(tz)\n",
    "    data.loc[:, 'start_hour'] = \\\n",
    "    data.loc[:, 'start_time'].dt.hour\n",
    "    data.loc[:, 'end_hour'] = \\\n",
    "    data.loc[:, 'end_time'].dt.hour\n",
    "    data.loc[:, 'travel_time'] = data.loc[:, 'end_time'] - data.loc[:, 'start_time'] \n",
    "    \n",
    "    # generate travel impedance\n",
    "    data.loc[:, 'travel_time_h'] =  data.loc[:, 'travel_time']/ pd.Timedelta(hours=1)\n",
    "    data.loc[:, 'trip_distance_mile'] = data.loc[:, 'trip_distance_m'] * meter_to_mile\n",
    "    \n",
    "    # generate O-D info\n",
    "    data.loc[:, ['start_cbg', 'end_cbg']] = data.loc[:, ['start_cbg', 'end_cbg']].astype(int)\n",
    "#     data.loc[:, 'o_GEOID'] = data.loc[:, 'start_cbg'] / 10\n",
    "#     data.loc[:, 'd_GEOID'] = data.loc[:, 'end_cbg'] / 10\n",
    "#     data.loc[:, ['o_GEOID', 'd_GEOID']] = data.loc[:, ['o_GEOID', 'd_GEOID']].astype(int)\n",
    "    return(data)"
   ]
  },
  {
   "cell_type": "code",
   "execution_count": 5,
   "id": "003124da-c941-4b97-967e-25f66d70327c",
   "metadata": {},
   "outputs": [
    {
     "name": "stdout",
     "output_type": "stream",
     "text": [
      "inrix.trips.20200121.ca\n",
      "40224\n"
     ]
    },
    {
     "data": {
      "text/html": [
       "<div>\n",
       "<style scoped>\n",
       "    .dataframe tbody tr th:only-of-type {\n",
       "        vertical-align: middle;\n",
       "    }\n",
       "\n",
       "    .dataframe tbody tr th {\n",
       "        vertical-align: top;\n",
       "    }\n",
       "\n",
       "    .dataframe thead th {\n",
       "        text-align: right;\n",
       "    }\n",
       "</style>\n",
       "<table border=\"1\" class=\"dataframe\">\n",
       "  <thead>\n",
       "    <tr style=\"text-align: right;\">\n",
       "      <th></th>\n",
       "      <th>start_cbg</th>\n",
       "      <th>end_cbg</th>\n",
       "      <th>start_hour</th>\n",
       "      <th>vehicle_weight_class</th>\n",
       "      <th>travel_time_h</th>\n",
       "      <th>trip_distance_mile</th>\n",
       "      <th>trip_count</th>\n",
       "    </tr>\n",
       "  </thead>\n",
       "  <tbody>\n",
       "    <tr>\n",
       "      <th>0</th>\n",
       "      <td>60014001001</td>\n",
       "      <td>60014226001</td>\n",
       "      <td>11</td>\n",
       "      <td>2</td>\n",
       "      <td>0.040000</td>\n",
       "      <td>0.153881</td>\n",
       "      <td>1</td>\n",
       "    </tr>\n",
       "    <tr>\n",
       "      <th>1</th>\n",
       "      <td>60014002001</td>\n",
       "      <td>60014004003</td>\n",
       "      <td>12</td>\n",
       "      <td>2</td>\n",
       "      <td>0.122222</td>\n",
       "      <td>0.962049</td>\n",
       "      <td>1</td>\n",
       "    </tr>\n",
       "    <tr>\n",
       "      <th>2</th>\n",
       "      <td>60014002001</td>\n",
       "      <td>60014073001</td>\n",
       "      <td>14</td>\n",
       "      <td>2</td>\n",
       "      <td>0.621944</td>\n",
       "      <td>10.506426</td>\n",
       "      <td>1</td>\n",
       "    </tr>\n",
       "    <tr>\n",
       "      <th>3</th>\n",
       "      <td>60014002001</td>\n",
       "      <td>60014104003</td>\n",
       "      <td>9</td>\n",
       "      <td>2</td>\n",
       "      <td>0.325833</td>\n",
       "      <td>11.861437</td>\n",
       "      <td>1</td>\n",
       "    </tr>\n",
       "    <tr>\n",
       "      <th>4</th>\n",
       "      <td>60014002002</td>\n",
       "      <td>60014217003</td>\n",
       "      <td>12</td>\n",
       "      <td>2</td>\n",
       "      <td>0.301111</td>\n",
       "      <td>2.755186</td>\n",
       "      <td>1</td>\n",
       "    </tr>\n",
       "  </tbody>\n",
       "</table>\n",
       "</div>"
      ],
      "text/plain": [
       "     start_cbg      end_cbg  start_hour  vehicle_weight_class  travel_time_h  \\\n",
       "0  60014001001  60014226001          11                     2       0.040000   \n",
       "1  60014002001  60014004003          12                     2       0.122222   \n",
       "2  60014002001  60014073001          14                     2       0.621944   \n",
       "3  60014002001  60014104003           9                     2       0.325833   \n",
       "4  60014002002  60014217003          12                     2       0.301111   \n",
       "\n",
       "   trip_distance_mile  trip_count  \n",
       "0            0.153881           1  \n",
       "1            0.962049           1  \n",
       "2           10.506426           1  \n",
       "3           11.861437           1  \n",
       "4            2.755186           1  "
      ]
     },
     "execution_count": 5,
     "metadata": {},
     "output_type": "execute_result"
    }
   ],
   "source": [
    "# bildaq_od_data = read_csv('Output/' + selected_state+ '/OD_summary_with_routed_distance.csv')\n",
    "list_of_inrix_folder = os.listdir(selected_state + '_trips')\n",
    "inrix_trip_out = None\n",
    "out_attr = ['trip_id', 'o_GEOID', 'd_GEOID', 'travel_time_h', 'trip_distance_mile']\n",
    "agg_var = ['start_cbg', 'end_cbg', 'start_hour', 'vehicle_weight_class']\n",
    "for folder in list_of_inrix_folder:\n",
    "    if folder == '.DS_Store':\n",
    "        continue\n",
    "    print(folder)\n",
    "    list_of_inrix_trips = os.listdir(selected_state + '_trips/' + folder)\n",
    "    trip_dir = selected_state + '_trips/' + folder\n",
    "    for file in list_of_inrix_trips:\n",
    "        if file.endswith('.parquet'):\n",
    "#             print(file)\n",
    "            inrix_trips = read_parquet(trip_dir + '/' + file, engine = 'auto')\n",
    "#             sample_raw_data = inrix_trips.head(1000)\n",
    "#             sample_raw_data.to_csv('sampletrips/sample_raw_INRIX_data.csv', index = False)\n",
    "            inrix_trips = inrix_data_cleaning(inrix_trips)\n",
    "            \n",
    "#             sample_cleaned_data = inrix_data_cleaning(sample_raw_data)\n",
    "#             sample_cleaned_data.to_csv('sampletrips/sample_cleaned_INRIX_data.csv', index = False)\n",
    "#             inrix_trips = inrix_trips[out_attr]\n",
    "            \n",
    "            # generate skims\n",
    "            od_skim = inrix_trips.groupby(agg_var).agg({'travel_time_h':'sum', \n",
    "                                                                       'trip_distance_mile':'sum',\n",
    "                                                                       'trip_id':'count'})\n",
    "            od_skim = od_skim.reset_index()\n",
    "            od_skim.columns = ['start_cbg', 'end_cbg', 'start_hour', 'vehicle_weight_class', \n",
    "                               'travel_time_h', 'trip_distance_mile', 'trip_count']\n",
    "            inrix_trip_out = pd.concat([inrix_trip_out, od_skim])            \n",
    "#         break\n",
    "#     break\n",
    "print(len(inrix_trip_out))\n",
    "inrix_trip_out.head(5)\n"
   ]
  },
  {
   "cell_type": "code",
   "execution_count": 4,
   "id": "c6087fd8-7ad0-4da9-b220-f4071efeb56c",
   "metadata": {},
   "outputs": [
    {
     "name": "stdout",
     "output_type": "stream",
     "text": [
      "607005\n",
      "31476064\n"
     ]
    },
    {
     "data": {
      "text/html": [
       "<div>\n",
       "<style scoped>\n",
       "    .dataframe tbody tr th:only-of-type {\n",
       "        vertical-align: middle;\n",
       "    }\n",
       "\n",
       "    .dataframe tbody tr th {\n",
       "        vertical-align: top;\n",
       "    }\n",
       "\n",
       "    .dataframe thead th {\n",
       "        text-align: right;\n",
       "    }\n",
       "</style>\n",
       "<table border=\"1\" class=\"dataframe\">\n",
       "  <thead>\n",
       "    <tr style=\"text-align: right;\">\n",
       "      <th></th>\n",
       "      <th>o_GEOID</th>\n",
       "      <th>d_GEOID</th>\n",
       "      <th>distance_mile</th>\n",
       "      <th>travel_time_h</th>\n",
       "      <th>trip_count</th>\n",
       "    </tr>\n",
       "  </thead>\n",
       "  <tbody>\n",
       "    <tr>\n",
       "      <th>0</th>\n",
       "      <td>53001950100</td>\n",
       "      <td>16001000900</td>\n",
       "      <td>709.798112</td>\n",
       "      <td>10.907222</td>\n",
       "      <td>2</td>\n",
       "    </tr>\n",
       "    <tr>\n",
       "      <th>1</th>\n",
       "      <td>53001950100</td>\n",
       "      <td>16001002100</td>\n",
       "      <td>354.681985</td>\n",
       "      <td>5.629722</td>\n",
       "      <td>1</td>\n",
       "    </tr>\n",
       "    <tr>\n",
       "      <th>2</th>\n",
       "      <td>53001950100</td>\n",
       "      <td>16001010313</td>\n",
       "      <td>345.171967</td>\n",
       "      <td>5.222222</td>\n",
       "      <td>1</td>\n",
       "    </tr>\n",
       "    <tr>\n",
       "      <th>3</th>\n",
       "      <td>53001950100</td>\n",
       "      <td>16001010503</td>\n",
       "      <td>370.731686</td>\n",
       "      <td>5.344722</td>\n",
       "      <td>1</td>\n",
       "    </tr>\n",
       "    <tr>\n",
       "      <th>4</th>\n",
       "      <td>53001950100</td>\n",
       "      <td>16009940000</td>\n",
       "      <td>102.719906</td>\n",
       "      <td>1.625278</td>\n",
       "      <td>1</td>\n",
       "    </tr>\n",
       "  </tbody>\n",
       "</table>\n",
       "</div>"
      ],
      "text/plain": [
       "       o_GEOID      d_GEOID  distance_mile  travel_time_h  trip_count\n",
       "0  53001950100  16001000900     709.798112      10.907222           2\n",
       "1  53001950100  16001002100     354.681985       5.629722           1\n",
       "2  53001950100  16001010313     345.171967       5.222222           1\n",
       "3  53001950100  16001010503     370.731686       5.344722           1\n",
       "4  53001950100  16009940000     102.719906       1.625278           1"
      ]
     },
     "execution_count": 4,
     "metadata": {},
     "output_type": "execute_result"
    }
   ],
   "source": [
    "# generate travel time and distance skim\n",
    "\n",
    "# inrix_trip_out.loc[:, 'travel_time_h'].head(5)\n",
    "travel_time_by_od = inrix_trip_out.groupby(['o_GEOID', 'd_GEOID'])[['trip_distance_mile', \n",
    "                                                                    'travel_time_h', 'trip_count']].sum()\n",
    "travel_time_by_od = travel_time_by_od.reset_index()\n",
    "# travel_time_by_od.loc[:, 'trip_distance_m'] *= meter_to_mile\n",
    "\n",
    "travel_time_by_od.columns = ['o_GEOID', 'd_GEOID', 'distance_mile', 'travel_time_h', 'trip_count']\n",
    "print(len(travel_time_by_od))\n",
    "print(travel_time_by_od.trip_count.sum())\n",
    "travel_time_by_od.head(5)\n",
    "# travel_time_by_od.to_csv('Skim/CA_travel_time.csv')"
   ]
  },
  {
   "cell_type": "code",
   "execution_count": 5,
   "id": "33a7c873-09ca-494b-8f5b-06808d3cd3fc",
   "metadata": {},
   "outputs": [],
   "source": [
    "travel_time_by_od.loc[:, 'distance_mile'] = travel_time_by_od.loc[:, 'distance_mile'] / travel_time_by_od.loc[:, 'trip_count']\n",
    "travel_time_by_od.loc[:, 'travel_time_h'] = travel_time_by_od.loc[:, 'travel_time_h'] / travel_time_by_od.loc[:, 'trip_count']\n",
    "\n",
    "travel_time_by_od.to_csv('Skim/' + selected_state + '_travel_time.csv', index = False)"
   ]
  },
  {
   "cell_type": "code",
   "execution_count": 6,
   "id": "68618c88-c62b-4326-95fb-37271746b3c1",
   "metadata": {},
   "outputs": [
    {
     "name": "stdout",
     "output_type": "stream",
     "text": [
      "inrix.trips.20200108.wa\n",
      "9825\n"
     ]
    },
    {
     "data": {
      "text/plain": [
       "(0.0, 2.0)"
      ]
     },
     "execution_count": 6,
     "metadata": {},
     "output_type": "execute_result"
    },
    {
     "data": {
      "image/png": "[encoded data removed]",
      "text/plain": [
       "<Figure size 432x288 with 1 Axes>"
      ]
     },
     "metadata": {},
     "output_type": "display_data"
    }
   ],
   "source": [
    "# fit survival function for travel time\n",
    "#sns.histplot(data=inrix_trip_out, x=\"travel_time_h\", bins=30)\n",
    "\n",
    "list_of_inrix_folder = os.listdir(selected_state + '_trips')\n",
    "inrix_trip_out = None\n",
    "out_attr = ['trip_id', 'o_GEOID', 'd_GEOID', 'travel_time_h', 'trip_distance_mile']\n",
    "\n",
    "for folder in list_of_inrix_folder:\n",
    "    if folder == '.DS_Store':\n",
    "        continue\n",
    "    print(folder)\n",
    "    list_of_inrix_trips = os.listdir(selected_state + '_trips/' + folder)\n",
    "    trip_dir = selected_state + '_trips/' + folder\n",
    "    for file in list_of_inrix_trips:\n",
    "        if file.endswith('.parquet'):\n",
    "#             print(file)\n",
    "            inrix_trips = read_parquet(trip_dir + '/' + file, engine = 'auto')\n",
    "            sample_inrix_trip_out = inrix_data_cleaning(inrix_trips)\n",
    "            sample_inrix_trip_out = sample_inrix_trip_out[out_attr]\n",
    "                     \n",
    "        break\n",
    "    break\n",
    "print(len(sample_inrix_trip_out))\n",
    "sample_inrix_trip_out.head(5)\n",
    "sample_inrix_trip_out['travel_time_h'].plot(kind = 'hist',bins = 500)\n",
    "plt.xlabel('travel time (h)')\n",
    "plt.xlim([0, 2])"
   ]
  },
  {
   "cell_type": "code",
   "execution_count": 7,
   "id": "3d202244-34f9-4e4b-a1cc-41215fd22af9",
   "metadata": {},
   "outputs": [
    {
     "name": "stdout",
     "output_type": "stream",
     "text": [
      "(1, 1.1603505204251645, 0, 0.34345185900749187)\n",
      "shape: 1.1603505204251645\n",
      "scale: 0.34345185900749187\n"
     ]
    }
   ],
   "source": [
    "params = s.exponweib.fit(sample_inrix_trip_out['travel_time_h'], floc=0, f0=1)\n",
    "shape = params[1]\n",
    "scale = params[3]\n",
    "print(params)\n",
    "print('shape:', shape)\n",
    "print('scale:',scale)"
   ]
  },
  {
   "cell_type": "code",
   "execution_count": 9,
   "id": "371b1a3a-217d-4403-b831-dbfd7cf4d1fe",
   "metadata": {},
   "outputs": [
    {
     "data": {
      "image/png": "[encoded data removed]",
      "text/plain": [
       "<Figure size 432x288 with 1 Axes>"
      ]
     },
     "metadata": {},
     "output_type": "display_data"
    }
   ],
   "source": [
    "values,bins,hist = plt.hist(sample_inrix_trip_out['travel_time_h'],bins=50, range=(0,2), density = True)\n",
    "center = (bins[:-1] + bins[1:]) / 2.\n",
    "\n",
    "# Using all params and the stats function\n",
    "plt.plot(center,s.exponweib.pdf(center,*params),lw=4,label='Weibull pdf')\n",
    "# plt.plot(center,s.exponweib.sf(center,*params),lw=4,label='survival function')\n",
    "plt.xlabel('travel time (h)')\n",
    "plt.legend()\n",
    "plt.savefig('Plot/' + selected_state+ '/fitted_travel_time_curve.png', dpi = 300)"
   ]
  },
  {
   "cell_type": "code",
   "execution_count": 7,
   "id": "2d605926-d6e4-4ab4-ac9c-df469fdc4456",
   "metadata": {},
   "outputs": [
    {
     "name": "stdout",
     "output_type": "stream",
     "text": [
      "(1, 1.1883551257075007, 0, 0.34605314636038553)\n",
      "shape: 1.1883551257075007\n",
      "scale: 0.34605314636038553\n"
     ]
    }
   ],
   "source": [
    "#CA results for comparison\n",
    "params = s.exponweib.fit(sample_inrix_trip_out['travel_time_h'], floc=0, f0=1)\n",
    "shape = params[1]\n",
    "scale = params[3]\n",
    "print(params)\n",
    "print('shape:', shape)\n",
    "print('scale:',scale)"
   ]
  },
  {
   "cell_type": "code",
   "execution_count": 9,
   "id": "59782870-e82f-4536-a251-4cd5ab237089",
   "metadata": {},
   "outputs": [
    {
     "data": {
      "image/png": "[encoded data removed]",
      "text/plain": [
       "<Figure size 432x288 with 1 Axes>"
      ]
     },
     "metadata": {},
     "output_type": "display_data"
    }
   ],
   "source": [
    "values,bins,hist = plt.hist(sample_inrix_trip_out['travel_time_h'],bins=50, range=(0,2), density = True)\n",
    "center = (bins[:-1] + bins[1:]) / 2.\n",
    "\n",
    "# Using all params and the stats function\n",
    "plt.plot(center,s.exponweib.pdf(center,*params),lw=4,label='Weibull pdf')\n",
    "# plt.plot(center,s.exponweib.sf(center,*params),lw=4,label='survival function')\n",
    "plt.xlabel('travel time (h)')\n",
    "plt.legend()\n",
    "plt.savefig('Plot/' + selected_state+ '/fitted_travel_time_curve.png', dpi = 300)"
   ]
  },
  {
   "cell_type": "code",
   "execution_count": null,
   "id": "535cb2ee-0933-44ae-a50c-8f9707e82f13",
   "metadata": {},
   "outputs": [],
   "source": []
  }
 ],
 "metadata": {
  "kernelspec": {
   "display_name": "Python 3 (ipykernel)",
   "language": "python",
   "name": "python3"
  },
  "language_info": {
   "codemirror_mode": {
    "name": "ipython",
    "version": 3
   },
   "file_extension": ".py",
   "mimetype": "text/x-python",
   "name": "python",
   "nbconvert_exporter": "python",
   "pygments_lexer": "ipython3",
   "version": "3.8.8"
  }
 },
 "nbformat": 4,
 "nbformat_minor": 5
}
