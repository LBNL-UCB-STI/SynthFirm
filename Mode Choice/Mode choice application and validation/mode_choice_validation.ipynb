{
 "cells": [
  {
   "cell_type": "code",
   "execution_count": 1,
   "id": "36c9e9f3-1cb6-4b78-849e-61c2745488a1",
   "metadata": {},
   "outputs": [
    {
     "name": "stderr",
     "output_type": "stream",
     "text": [
      "/opt/anaconda3/lib/python3.8/site-packages/geopandas/_compat.py:106: UserWarning: The Shapely GEOS version (3.8.0-CAPI-1.13.1 ) is incompatible with the GEOS version PyGEOS was compiled with (3.10.1-CAPI-1.16.0). Conversions between both will be slow.\n",
      "  warnings.warn(\n"
     ]
    }
   ],
   "source": [
    "# set environment and import packages\n",
    "import os\n",
    "from pandas import read_csv\n",
    "import pandas as pd\n",
    "import geopandas as gps\n",
    "import matplotlib.pyplot as plt\n",
    "import seaborn as sns\n",
    "# import local python modules\n",
    "import constants as c\n",
    "\n",
    "os.chdir('/Users/xiaodanxu/Documents/SynthFirm.nosync/mode_choice')\n",
    "\n",
    "\n",
    "plt.style.use('ggplot')\n",
    "sns.set(font_scale=1.2)  # larger font"
   ]
  },
  {
   "cell_type": "code",
   "execution_count": 2,
   "id": "6ee83dff-0223-44bd-bc17-6c1bc728b0d3",
   "metadata": {},
   "outputs": [],
   "source": [
    "# load input\n",
    "cfs_summary_data = read_csv(c.input_dir + c.cfs_summary_file, sep = ',')\n",
    "modeled_data = read_csv(c.output_dir + c.modeled_file, sep = ',')\n",
    "faf_data = read_csv(c.input_dir + c.faf_version_4_file, sep = ',')\n",
    "#  cfs_distribution = read_csv(c.input_dir + c.cfs_dir + c.cfs_distribution_file, sep = ',')\n",
    "\n",
    "modeled_data = modeled_data.loc[modeled_data['mode_choice'] != 'Other']"
   ]
  },
  {
   "cell_type": "code",
   "execution_count": 3,
   "id": "794f3ed1-579f-445d-836f-f85e0b8812b4",
   "metadata": {},
   "outputs": [
    {
     "data": {
      "text/html": [
       "<div>\n",
       "<style scoped>\n",
       "    .dataframe tbody tr th:only-of-type {\n",
       "        vertical-align: middle;\n",
       "    }\n",
       "\n",
       "    .dataframe tbody tr th {\n",
       "        vertical-align: top;\n",
       "    }\n",
       "\n",
       "    .dataframe thead th {\n",
       "        text-align: right;\n",
       "    }\n",
       "</style>\n",
       "<table border=\"1\" class=\"dataframe\">\n",
       "  <thead>\n",
       "    <tr style=\"text-align: right;\">\n",
       "      <th></th>\n",
       "      <th>SCTG_Name</th>\n",
       "      <th>mode_choice</th>\n",
       "      <th>Count_fraction</th>\n",
       "      <th>Source</th>\n",
       "      <th>Area</th>\n",
       "    </tr>\n",
       "  </thead>\n",
       "  <tbody>\n",
       "    <tr>\n",
       "      <th>0</th>\n",
       "      <td>bulk</td>\n",
       "      <td>Air</td>\n",
       "      <td>0.000002</td>\n",
       "      <td>Modeled</td>\n",
       "      <td>Austin</td>\n",
       "    </tr>\n",
       "    <tr>\n",
       "      <th>1</th>\n",
       "      <td>fuel_fert</td>\n",
       "      <td>Air</td>\n",
       "      <td>0.000015</td>\n",
       "      <td>Modeled</td>\n",
       "      <td>Austin</td>\n",
       "    </tr>\n",
       "    <tr>\n",
       "      <th>2</th>\n",
       "      <td>interm_food</td>\n",
       "      <td>Air</td>\n",
       "      <td>0.000010</td>\n",
       "      <td>Modeled</td>\n",
       "      <td>Austin</td>\n",
       "    </tr>\n",
       "    <tr>\n",
       "      <th>3</th>\n",
       "      <td>mfr_goods</td>\n",
       "      <td>Air</td>\n",
       "      <td>0.000333</td>\n",
       "      <td>Modeled</td>\n",
       "      <td>Austin</td>\n",
       "    </tr>\n",
       "    <tr>\n",
       "      <th>4</th>\n",
       "      <td>bulk</td>\n",
       "      <td>For-hire Truck</td>\n",
       "      <td>0.289219</td>\n",
       "      <td>Modeled</td>\n",
       "      <td>Austin</td>\n",
       "    </tr>\n",
       "  </tbody>\n",
       "</table>\n",
       "</div>"
      ],
      "text/plain": [
       "     SCTG_Name     mode_choice  Count_fraction   Source    Area\n",
       "0         bulk             Air        0.000002  Modeled  Austin\n",
       "1    fuel_fert             Air        0.000015  Modeled  Austin\n",
       "2  interm_food             Air        0.000010  Modeled  Austin\n",
       "3    mfr_goods             Air        0.000333  Modeled  Austin\n",
       "4         bulk  For-hire Truck        0.289219  Modeled  Austin"
      ]
     },
     "execution_count": 3,
     "metadata": {},
     "output_type": "execute_result"
    }
   ],
   "source": [
    "# generate modeled national shipment count fraction\n",
    "modeled_count_by_sctg = modeled_data.groupby(['mode_choice', 'SCTG_Name'])[['count']].sum()\n",
    "modeled_count_by_sctg = modeled_count_by_sctg.reset_index()\n",
    "modeled_count_total = modeled_data.groupby(['SCTG_Name'])[['count']].sum()\n",
    "modeled_count_total = modeled_count_total.reset_index()\n",
    "modeled_count_by_sctg = pd.merge(modeled_count_by_sctg, modeled_count_total, \n",
    "                                 on = 'SCTG_Name', how = 'left')\n",
    "modeled_count_by_sctg.loc[:, 'Count_fraction'] = modeled_count_by_sctg.loc[:, 'count_x'] / modeled_count_by_sctg.loc[:, 'count_y']\n",
    "modeled_count_by_sctg = modeled_count_by_sctg.loc[:, ['SCTG_Name', 'mode_choice','Count_fraction']]\n",
    "\n",
    "modeled_count_all_sctg = modeled_data.groupby(['mode_choice'])[['count']].sum()\n",
    "modeled_count_all_sctg = modeled_count_all_sctg.reset_index()\n",
    "modeled_count_all_sctg.loc[:, 'SCTG_Name'] = 'all'\n",
    "modeled_count_all_sctg.loc[:, 'Count_fraction'] = modeled_count_all_sctg.loc[:, 'count'] / modeled_count_all_sctg.loc[:, 'count'].sum()\n",
    "modeled_count_all_sctg = modeled_count_all_sctg.loc[:, ['SCTG_Name', 'mode_choice', 'Count_fraction']]\n",
    "modeled_count = pd.concat([modeled_count_by_sctg, modeled_count_all_sctg])\n",
    "modeled_count.loc[:, 'Source'] = 'Modeled'\n",
    "modeled_count.loc[:, 'Area'] = 'Austin'\n",
    "modeled_count.head(5)                                                    "
   ]
  },
  {
   "cell_type": "code",
   "execution_count": 4,
   "id": "5af32e76-40c3-48ff-bfa1-52dfa9fbcbd0",
   "metadata": {},
   "outputs": [
    {
     "name": "stdout",
     "output_type": "stream",
     "text": [
      "['bulk' 'fuel_fert' 'interm_food' 'mfr_goods' 'other' 'all']\n"
     ]
    },
    {
     "data": {
      "text/html": [
       "<div>\n",
       "<style scoped>\n",
       "    .dataframe tbody tr th:only-of-type {\n",
       "        vertical-align: middle;\n",
       "    }\n",
       "\n",
       "    .dataframe tbody tr th {\n",
       "        vertical-align: top;\n",
       "    }\n",
       "\n",
       "    .dataframe thead th {\n",
       "        text-align: right;\n",
       "    }\n",
       "</style>\n",
       "<table border=\"1\" class=\"dataframe\">\n",
       "  <thead>\n",
       "    <tr style=\"text-align: right;\">\n",
       "      <th></th>\n",
       "      <th>SCTG_Name</th>\n",
       "      <th>mode_choice</th>\n",
       "      <th>Count_fraction</th>\n",
       "      <th>Source</th>\n",
       "      <th>Area</th>\n",
       "    </tr>\n",
       "  </thead>\n",
       "  <tbody>\n",
       "    <tr>\n",
       "      <th>60</th>\n",
       "      <td>bulk</td>\n",
       "      <td>Air</td>\n",
       "      <td>0.005848</td>\n",
       "      <td>CFS2012</td>\n",
       "      <td>Austin</td>\n",
       "    </tr>\n",
       "    <tr>\n",
       "      <th>61</th>\n",
       "      <td>bulk</td>\n",
       "      <td>For-hire Truck</td>\n",
       "      <td>0.463706</td>\n",
       "      <td>CFS2012</td>\n",
       "      <td>Austin</td>\n",
       "    </tr>\n",
       "    <tr>\n",
       "      <th>62</th>\n",
       "      <td>bulk</td>\n",
       "      <td>Parcel</td>\n",
       "      <td>0.094474</td>\n",
       "      <td>CFS2012</td>\n",
       "      <td>Austin</td>\n",
       "    </tr>\n",
       "    <tr>\n",
       "      <th>63</th>\n",
       "      <td>bulk</td>\n",
       "      <td>Private Truck</td>\n",
       "      <td>0.419794</td>\n",
       "      <td>CFS2012</td>\n",
       "      <td>Austin</td>\n",
       "    </tr>\n",
       "    <tr>\n",
       "      <th>64</th>\n",
       "      <td>bulk</td>\n",
       "      <td>Rail/IMX</td>\n",
       "      <td>0.016179</td>\n",
       "      <td>CFS2012</td>\n",
       "      <td>Austin</td>\n",
       "    </tr>\n",
       "  </tbody>\n",
       "</table>\n",
       "</div>"
      ],
      "text/plain": [
       "   SCTG_Name     mode_choice  Count_fraction   Source    Area\n",
       "60      bulk             Air        0.005848  CFS2012  Austin\n",
       "61      bulk  For-hire Truck        0.463706  CFS2012  Austin\n",
       "62      bulk          Parcel        0.094474  CFS2012  Austin\n",
       "63      bulk   Private Truck        0.419794  CFS2012  Austin\n",
       "64      bulk        Rail/IMX        0.016179  CFS2012  Austin"
      ]
     },
     "execution_count": 4,
     "metadata": {},
     "output_type": "execute_result"
    }
   ],
   "source": [
    "# compare % of shipment count with CFS\n",
    "mode_matching = {'Air': 'air', 'For-hire Truck': 'for-hire truck',\n",
    "                 'Parcel': 'parcel',  'Private Truck': 'private truck',\n",
    "                 \"Rail/IMX\": 'rail/IMX'}\n",
    "\n",
    "# combined_modeled_count = pd.concat([modeled_count, bay_area_modeled_count])\n",
    "# modeled_count.loc[:, 'mode_choice'] = modeled_count.loc[:, 'mode_choice'].map(mode_matching)\n",
    "cfs_count = cfs_summary_data.loc[:, ['SCTG_Name', 'mode_choice', 'Count_fraction', 'Source', 'Area']]\n",
    "cfs_count = cfs_count.loc[cfs_count['Area'] == 'Austin']\n",
    "print(cfs_summary_data.SCTG_Name.unique())\n",
    "compare_shipment_count = pd.concat([cfs_count, modeled_count])\n",
    "compare_shipment_count.head(5)"
   ]
  },
  {
   "cell_type": "code",
   "execution_count": 5,
   "id": "8a6f3c6a-2c02-48f1-b83c-1d2ebab39de6",
   "metadata": {},
   "outputs": [
    {
     "data": {
      "image/png": "[encoded data removed]",
      "text/plain": [
       "<Figure size 1140.19x576 with 6 Axes>"
      ]
     },
     "metadata": {},
     "output_type": "display_data"
    }
   ],
   "source": [
    "# plot shipment fraction comparison\n",
    "\n",
    "# compare_shipment_count_to_plot = compare_shipment_count.loc[compare_shipment_count['Area'] == a]\n",
    "sns.catplot(x = \"mode_choice\", y = 'Count_fraction', hue = 'Source',\n",
    "                col = \"SCTG_Name\", col_wrap = 3,\n",
    "                data = compare_shipment_count, height = 4, aspect=1.2, kind = \"bar\")\n",
    "#     plt.title('mode split comparison (' + a + ')')\n",
    "# plt.xticks(rotation = 60)\n",
    "plt.savefig('plot/mode_split_by_sctg_austin.png', dpi = 200)\n",
    "plt.show()"
   ]
  },
  {
   "cell_type": "code",
   "execution_count": null,
   "id": "d91f1dc0-7337-404c-961f-46ffdc7834e8",
   "metadata": {},
   "outputs": [],
   "source": []
  }
 ],
 "metadata": {
  "kernelspec": {
   "display_name": "Python 3 (ipykernel)",
   "language": "python",
   "name": "python3"
  },
  "language_info": {
   "codemirror_mode": {
    "name": "ipython",
    "version": 3
   },
   "file_extension": ".py",
   "mimetype": "text/x-python",
   "name": "python",
   "nbconvert_exporter": "python",
   "pygments_lexer": "ipython3",
   "version": "3.8.8"
  }
 },
 "nbformat": 4,
 "nbformat_minor": 5
}
