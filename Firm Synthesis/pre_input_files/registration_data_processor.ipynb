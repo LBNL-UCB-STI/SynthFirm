{
 "cells": [
  {
   "cell_type": "code",
   "execution_count": 1,
   "id": "92532886-f89d-451d-b765-57ff79db6b00",
   "metadata": {},
   "outputs": [
    {
     "name": "stderr",
     "output_type": "stream",
     "text": [
      "/opt/anaconda3/lib/python3.8/site-packages/geopandas/_compat.py:106: UserWarning: The Shapely GEOS version (3.8.0-CAPI-1.13.1 ) is incompatible with the GEOS version PyGEOS was compiled with (3.10.1-CAPI-1.16.0). Conversions between both will be slow.\n",
      "  warnings.warn(\n"
     ]
    }
   ],
   "source": [
    "import os\n",
    "from pandas import read_csv\n",
    "import pandas as pd\n",
    "import geopandas as gps\n",
    "import matplotlib.pyplot as plt\n",
    "import seaborn as sns\n",
    "\n",
    "os.chdir('/Users/xiaodanxu/Documents/SynthFirm.nosync/BayArea_GIS')\n",
    "\n",
    "medium_duty_class = [3, 4, 5, 6] # ref: https://afdc.energy.gov/data/10380\n",
    "heavy_duty_class = [7, 8]\n",
    "\n",
    "plt.style.use('ggplot')\n",
    "sns.set(font_scale=1.2)  # larger font"
   ]
  },
  {
   "cell_type": "code",
   "execution_count": 6,
   "id": "a81ae6f9-fa54-44ac-8df0-56dfccc2804e",
   "metadata": {},
   "outputs": [
    {
     "name": "stdout",
     "output_type": "stream",
     "text": [
      "623668\n"
     ]
    },
    {
     "data": {
      "text/html": [
       "<div>\n",
       "<style scoped>\n",
       "    .dataframe tbody tr th:only-of-type {\n",
       "        vertical-align: middle;\n",
       "    }\n",
       "\n",
       "    .dataframe tbody tr th {\n",
       "        vertical-align: top;\n",
       "    }\n",
       "\n",
       "    .dataframe thead th {\n",
       "        text-align: right;\n",
       "    }\n",
       "</style>\n",
       "<table border=\"1\" class=\"dataframe\">\n",
       "  <thead>\n",
       "    <tr style=\"text-align: right;\">\n",
       "      <th></th>\n",
       "      <th>Unnamed: 0</th>\n",
       "      <th>zip_code</th>\n",
       "      <th>vocation</th>\n",
       "      <th>carrier_type</th>\n",
       "      <th>business_name</th>\n",
       "      <th>fuel</th>\n",
       "      <th>vin_gvw</th>\n",
       "      <th>vehicle_type</th>\n",
       "      <th>yr_mdl</th>\n",
       "      <th>totcount</th>\n",
       "      <th>MDV</th>\n",
       "      <th>HDV</th>\n",
       "    </tr>\n",
       "  </thead>\n",
       "  <tbody>\n",
       "    <tr>\n",
       "      <th>0</th>\n",
       "      <td>1</td>\n",
       "      <td>73301</td>\n",
       "      <td>INDIVIDUAL</td>\n",
       "      <td>INDIVIDUAL</td>\n",
       "      <td>31556.0</td>\n",
       "      <td>DIESEL</td>\n",
       "      <td>8</td>\n",
       "      <td>TRACTOR TRUCK</td>\n",
       "      <td>1994</td>\n",
       "      <td>1</td>\n",
       "      <td>0</td>\n",
       "      <td>1</td>\n",
       "    </tr>\n",
       "    <tr>\n",
       "      <th>1</th>\n",
       "      <td>2</td>\n",
       "      <td>75001</td>\n",
       "      <td>AGRICULTURE/FARM</td>\n",
       "      <td>PRIVATE</td>\n",
       "      <td>20583.0</td>\n",
       "      <td>DIESEL</td>\n",
       "      <td>4</td>\n",
       "      <td>PICKUP</td>\n",
       "      <td>2008</td>\n",
       "      <td>1</td>\n",
       "      <td>1</td>\n",
       "      <td>0</td>\n",
       "    </tr>\n",
       "    <tr>\n",
       "      <th>2</th>\n",
       "      <td>3</td>\n",
       "      <td>75001</td>\n",
       "      <td>AGRICULTURE/FARM</td>\n",
       "      <td>PRIVATE</td>\n",
       "      <td>20583.0</td>\n",
       "      <td>DIESEL</td>\n",
       "      <td>6</td>\n",
       "      <td>STRAIGHT TRUCK</td>\n",
       "      <td>2005</td>\n",
       "      <td>1</td>\n",
       "      <td>1</td>\n",
       "      <td>0</td>\n",
       "    </tr>\n",
       "    <tr>\n",
       "      <th>3</th>\n",
       "      <td>4</td>\n",
       "      <td>75001</td>\n",
       "      <td>AGRICULTURE/FARM</td>\n",
       "      <td>PRIVATE</td>\n",
       "      <td>20583.0</td>\n",
       "      <td>DIESEL</td>\n",
       "      <td>7</td>\n",
       "      <td>STRAIGHT TRUCK</td>\n",
       "      <td>1990</td>\n",
       "      <td>1</td>\n",
       "      <td>0</td>\n",
       "      <td>1</td>\n",
       "    </tr>\n",
       "    <tr>\n",
       "      <th>4</th>\n",
       "      <td>5</td>\n",
       "      <td>75001</td>\n",
       "      <td>AGRICULTURE/FARM</td>\n",
       "      <td>PRIVATE</td>\n",
       "      <td>20583.0</td>\n",
       "      <td>DIESEL</td>\n",
       "      <td>7</td>\n",
       "      <td>TRACTOR TRUCK</td>\n",
       "      <td>1989</td>\n",
       "      <td>1</td>\n",
       "      <td>0</td>\n",
       "      <td>1</td>\n",
       "    </tr>\n",
       "  </tbody>\n",
       "</table>\n",
       "</div>"
      ],
      "text/plain": [
       "   Unnamed: 0  zip_code          vocation carrier_type  business_name    fuel  \\\n",
       "0           1     73301        INDIVIDUAL   INDIVIDUAL        31556.0  DIESEL   \n",
       "1           2     75001  AGRICULTURE/FARM      PRIVATE        20583.0  DIESEL   \n",
       "2           3     75001  AGRICULTURE/FARM      PRIVATE        20583.0  DIESEL   \n",
       "3           4     75001  AGRICULTURE/FARM      PRIVATE        20583.0  DIESEL   \n",
       "4           5     75001  AGRICULTURE/FARM      PRIVATE        20583.0  DIESEL   \n",
       "\n",
       "   vin_gvw    vehicle_type  yr_mdl  totcount  MDV  HDV  \n",
       "0        8   TRACTOR TRUCK    1994         1    0    1  \n",
       "1        4          PICKUP    2008         1    1    0  \n",
       "2        6  STRAIGHT TRUCK    2005         1    1    0  \n",
       "3        7  STRAIGHT TRUCK    1990         1    0    1  \n",
       "4        7   TRACTOR TRUCK    1989         1    0    1  "
      ]
     },
     "execution_count": 6,
     "metadata": {},
     "output_type": "execute_result"
    }
   ],
   "source": [
    "tx_registration_data = read_csv('registration/TEXAS_MDHDbybiz.csv')\n",
    "tx_registration_data.loc[:, 'MDV'] = tx_registration_data.loc[:, 'totcount'] * (tx_registration_data.loc[:, 'vin_gvw'].isin(medium_duty_class)) + \\\n",
    "0 * (tx_registration_data.loc[:, 'vin_gvw'].isin(heavy_duty_class))\n",
    "tx_registration_data.loc[:, 'HDV'] = 0 * (tx_registration_data.loc[:, 'vin_gvw'].isin(medium_duty_class)) + \\\n",
    "tx_registration_data.loc[:, 'totcount'] * (tx_registration_data.loc[:, 'vin_gvw'].isin(heavy_duty_class))\n",
    "print(tx_registration_data.totcount.sum())\n",
    "tx_registration_data.head(5)"
   ]
  },
  {
   "cell_type": "code",
   "execution_count": 4,
   "id": "a8407aaf-b754-442c-a733-a3836f12a923",
   "metadata": {},
   "outputs": [
    {
     "name": "stdout",
     "output_type": "stream",
     "text": [
      "                    carrier_type  totcount  percentage\n",
      "0                         DEALER      3977    0.637679\n",
      "1                  FINANCE LEASE     13072    2.095987\n",
      "2                       FOR HIRE     57753    9.260215\n",
      "3             FULL SERVICE LEASE     42385    6.796084\n",
      "4                     INDIVIDUAL    189452   30.377060\n",
      "5   LOCAL GOVERNMENT (U.S. ONLY)     63897   10.245355\n",
      "6   MANUFACTURER SPONSORED LEASE      7596    1.217956\n",
      "7                        PRIVATE    227694   36.508848\n",
      "8   STATE GOVERNMENT (U.S. ONLY)      5187    0.831693\n",
      "9                U.S. GOVERNMENT       944    0.151363\n",
      "10      UTILITIES/COMMUNICATIONS     11513    1.846014\n",
      "11          VEHICLE MANUFACTURER       198    0.031748\n",
      "                     fuel  totcount  percentage\n",
      "0  COMPRESSED NATURAL GAS      1399    0.224318\n",
      "1             CONVERTIBLE       128    0.020524\n",
      "2                  DIESEL    544865   87.364591\n",
      "3                FLEXIBLE       748    0.119936\n",
      "4                     GAS     66997   10.742414\n",
      "5                 PROPANE       484    0.077605\n",
      "6                 UNKNOWN      9047    1.450612\n"
     ]
    }
   ],
   "source": [
    "count_by_carrier_type = tx_registration_data.groupby(['carrier_type'])[['totcount']].sum()\n",
    "count_by_carrier_type = count_by_carrier_type.reset_index()\n",
    "count_by_carrier_type.loc[:, 'percentage'] = count_by_carrier_type.loc[:, 'totcount'] / \\\n",
    "count_by_carrier_type.loc[:, 'totcount'].sum() *100\n",
    "print(count_by_carrier_type)\n",
    "\n",
    "count_by_fuel_type = tx_registration_data.groupby(['fuel'])[['totcount']].sum()\n",
    "count_by_fuel_type = count_by_fuel_type.reset_index()\n",
    "count_by_fuel_type.loc[:, 'percentage'] = count_by_fuel_type.loc[:, 'totcount'] / \\\n",
    "count_by_fuel_type.loc[:, 'totcount'].sum() *100\n",
    "print(count_by_fuel_type)"
   ]
  },
  {
   "cell_type": "code",
   "execution_count": 8,
   "id": "5a02e6dc-852f-449c-884d-21e319bc97d5",
   "metadata": {},
   "outputs": [
    {
     "name": "stdout",
     "output_type": "stream",
     "text": [
      "total tx private carriers  135562\n",
      "total private trucks  227694\n",
      "max private trucks in a firm 3340\n",
      "avg. private trucks in a firm 4.619945216597342\n"
     ]
    },
    {
     "data": {
      "text/plain": [
       "Text(0.5, 1.0, 'private truck count distribution')"
      ]
     },
     "execution_count": 8,
     "metadata": {},
     "output_type": "execute_result"
    },
    {
     "data": {
      "image/png": "[encoded data removed]",
      "text/plain": [
       "<Figure size 432x288 with 1 Axes>"
      ]
     },
     "metadata": {},
     "output_type": "display_data"
    }
   ],
   "source": [
    "# private truck analysis\n",
    "private_carriers = tx_registration_data.loc[tx_registration_data['carrier_type'] == 'PRIVATE']\n",
    "private_truck_by_firm = private_carriers.groupby(['business_name'])[['totcount', 'MDV', 'HDV']].sum()\n",
    "private_truck_by_firm = private_truck_by_firm.reset_index()\n",
    "print('total tx private carriers ', len(private_carriers))\n",
    "print('total private trucks ', private_carriers['totcount'].sum())\n",
    "print('max private trucks in a firm', private_truck_by_firm['totcount'].max())\n",
    "print('avg. private trucks in a firm', private_truck_by_firm['totcount'].mean())\n",
    "\n",
    "private_truck_by_firm['totcount'].hist(bins = 200)\n",
    "plt.xlim([0, 500])\n",
    "plt.xlabel('truck count per firm')\n",
    "plt.ylabel('count of firms')\n",
    "plt.title('private truck count distribution')"
   ]
  },
  {
   "cell_type": "code",
   "execution_count": 11,
   "id": "7fe07e25-7adb-4318-9178-58ca20167599",
   "metadata": {},
   "outputs": [
    {
     "name": "stdout",
     "output_type": "stream",
     "text": [
      "  fleet_size  total_carriers  total_trucks  total_truck_std  \\\n",
      "0        0-2           35332         42851         0.409300   \n",
      "1        3-5            7524         27814         0.778540   \n",
      "2       6-10            3287         24634         1.372236   \n",
      "3      11-50            2711         54918         9.423459   \n",
      "4     51-100             242         16781        13.560152   \n",
      "\n",
      "   total_single_trucks  total_combination_trucks  \n",
      "0                23120                     19731  \n",
      "1                11554                     16260  \n",
      "2                 8846                     15788  \n",
      "3                16251                     38667  \n",
      "4                 3301                     13480  \n"
     ]
    }
   ],
   "source": [
    "size_interval = [-1, 2, 5, 10, 50, 100, 1000, private_truck_by_firm['totcount'].max()]\n",
    "interval_name = ['0-2', '3-5', '6-10', '11-50', '51-100', '101-1000', '>1000']    \n",
    "private_truck_by_firm.loc[:, 'size_group'] = pd.cut(private_truck_by_firm['totcount'], \n",
    "                                                bins = size_interval, right = True, \n",
    "                                                labels = interval_name)\n",
    "# private_truck_by_firm.head(5)\n",
    "truck_count_by_size = private_truck_by_firm.groupby('size_group').agg({'business_name': 'count',\n",
    "                                                                   'totcount': ['sum','std'],\n",
    "                                                                   'MDV': 'sum',\n",
    "                                                                   'HDV': 'sum'})\n",
    "truck_count_by_size = truck_count_by_size.reset_index()\n",
    "truck_count_by_size.columns = ['fleet_size', 'total_carriers', 'total_trucks', 'total_truck_std',\n",
    "                               'total_single_trucks', 'total_combination_trucks']\n",
    "print(truck_count_by_size.head(5))\n"
   ]
  },
  {
   "cell_type": "code",
   "execution_count": 13,
   "id": "63be933f-9489-4068-a6bc-a734c0b301cd",
   "metadata": {},
   "outputs": [],
   "source": [
    "min_size_lookup = {'0-2':1, '3-5':3, '6-10':6, \n",
    "                   '11-50':11, '51-100':51, '101-1000':101, \n",
    "                   '>1000':1001}\n",
    "truck_count_by_size.loc[:, 'min_size'] = truck_count_by_size.loc[:, 'fleet_size'].map(min_size_lookup)\n",
    "truck_count_by_size.loc[:, 'avg_truck_per_carrier'] = truck_count_by_size.loc[:, 'total_trucks'] / truck_count_by_size.loc[:, 'total_carriers']\n",
    "truck_count_by_size.loc[:, 'avg_sut_per_carrier'] = truck_count_by_size.loc[:, 'total_single_trucks'] / truck_count_by_size.loc[:, 'total_carriers']\n",
    "truck_count_by_size.loc[:, 'avg_ct_per_carrier'] = truck_count_by_size.loc[:, 'total_combination_trucks'] / truck_count_by_size.loc[:, 'total_carriers']\n",
    "truck_count_by_size.loc[:, 'fraction_of_carrier'] = truck_count_by_size.loc[:, 'total_carriers'] / truck_count_by_size.loc[:, 'total_carriers'].sum()\n",
    "truck_count_by_size.loc[:, 'percent_sut'] = truck_count_by_size.loc[:, 'total_single_trucks'] / truck_count_by_size.loc[:, 'total_trucks']\n",
    "truck_count_by_size.to_csv('registration/private_fleet_size_distribution.csv', index = False, sep = ',')"
   ]
  },
  {
   "cell_type": "code",
   "execution_count": 14,
   "id": "26d6fe52-32ab-45b9-8ff1-5c9c5dff99a4",
   "metadata": {},
   "outputs": [
    {
     "name": "stdout",
     "output_type": "stream",
     "text": [
      "total tx for-hire carriers  27108\n",
      "total for-hire trucks  57753\n",
      "max for-hire trucks in a firm 1400\n",
      "avg. for-hire trucks in a firm 5.535077630822312\n"
     ]
    },
    {
     "data": {
      "text/plain": [
       "Text(0.5, 1.0, 'for-hire truck count distribution')"
      ]
     },
     "execution_count": 14,
     "metadata": {},
     "output_type": "execute_result"
    },
    {
     "data": {
      "image/png": "[encoded data removed]",
      "text/plain": [
       "<Figure size 432x288 with 1 Axes>"
      ]
     },
     "metadata": {},
     "output_type": "display_data"
    }
   ],
   "source": [
    "# for-hire truck analysis\n",
    "for_hire_carriers = tx_registration_data.loc[tx_registration_data['carrier_type'] == 'FOR HIRE']\n",
    "print('total tx for-hire carriers ', len(for_hire_carriers))\n",
    "\n",
    "for_hire_truck_by_firm = for_hire_carriers.groupby(['business_name'])[['totcount', 'MDV', 'HDV']].sum()\n",
    "for_hire_truck_by_firm = for_hire_truck_by_firm.reset_index()\n",
    "print('total for-hire trucks ', for_hire_truck_by_firm['totcount'].sum())\n",
    "print('max for-hire trucks in a firm', for_hire_truck_by_firm['totcount'].max())\n",
    "print('avg. for-hire trucks in a firm', for_hire_truck_by_firm['totcount'].mean())\n",
    "\n",
    "for_hire_truck_by_firm['totcount'].hist(bins = 100)\n",
    "plt.xlim([0, 500])\n",
    "plt.xlabel('truck count per firm')\n",
    "plt.ylabel('count of firms')\n",
    "plt.title('for-hire truck count distribution')"
   ]
  },
  {
   "cell_type": "code",
   "execution_count": 15,
   "id": "378f381a-c064-4460-afd8-26fbebdb066f",
   "metadata": {},
   "outputs": [
    {
     "name": "stdout",
     "output_type": "stream",
     "text": [
      "  fleet_size  total_carriers  total_trucks  total_truck_std  \\\n",
      "0        0-2            7033          8679         0.423427   \n",
      "1        3-5            1724          6390         0.784901   \n",
      "2       6-10             812          6066         1.364645   \n",
      "3      11-50             729         15041         9.111751   \n",
      "4     51-100              76          5209        15.282618   \n",
      "\n",
      "   total_single_trucks  total_combination_trucks  \n",
      "0                 1435                      7244  \n",
      "1                  941                      5449  \n",
      "2                  884                      5182  \n",
      "3                 1631                     13410  \n",
      "4                  364                      4845  \n"
     ]
    }
   ],
   "source": [
    "size_interval = [-1, 2, 5, 10, 50, 100, 1000, for_hire_truck_by_firm['totcount'].max()]\n",
    "interval_name = ['0-2', '3-5', '6-10', '11-50', '51-100', '101-1000', '>1000']    \n",
    "for_hire_truck_by_firm.loc[:, 'size_group'] = pd.cut(for_hire_truck_by_firm['totcount'], \n",
    "                                                bins = size_interval, right = True, \n",
    "                                                labels = interval_name)\n",
    "# private_truck_by_firm.head(5)\n",
    "truck_count_by_size = for_hire_truck_by_firm.groupby('size_group').agg({'business_name': 'count',\n",
    "                                                                   'totcount': ['sum','std'],\n",
    "                                                                   'MDV': 'sum',\n",
    "                                                                   'HDV': 'sum'})\n",
    "truck_count_by_size = truck_count_by_size.reset_index()\n",
    "truck_count_by_size.columns = ['fleet_size', 'total_carriers', 'total_trucks', 'total_truck_std',\n",
    "                               'total_single_trucks', 'total_combination_trucks']\n",
    "print(truck_count_by_size.head(5))\n"
   ]
  },
  {
   "cell_type": "code",
   "execution_count": 16,
   "id": "0ee8f714-3cd9-4b1d-aa80-76c03e7e3823",
   "metadata": {},
   "outputs": [],
   "source": [
    "min_size_lookup = {'0-2':1, '3-5':3, '6-10':6, \n",
    "                   '11-50':11, '51-100':51, '101-1000':101, \n",
    "                   '>1000':1001}\n",
    "truck_count_by_size.loc[:, 'min_size'] = truck_count_by_size.loc[:, 'fleet_size'].map(min_size_lookup)\n",
    "truck_count_by_size.loc[:, 'avg_truck_per_carrier'] = truck_count_by_size.loc[:, 'total_trucks'] / truck_count_by_size.loc[:, 'total_carriers']\n",
    "truck_count_by_size.loc[:, 'avg_sut_per_carrier'] = truck_count_by_size.loc[:, 'total_single_trucks'] / truck_count_by_size.loc[:, 'total_carriers']\n",
    "truck_count_by_size.loc[:, 'avg_ct_per_carrier'] = truck_count_by_size.loc[:, 'total_combination_trucks'] / truck_count_by_size.loc[:, 'total_carriers']\n",
    "truck_count_by_size.loc[:, 'fraction_of_carrier'] = truck_count_by_size.loc[:, 'total_carriers'] / truck_count_by_size.loc[:, 'total_carriers'].sum()\n",
    "truck_count_by_size.loc[:, 'percent_sut'] = truck_count_by_size.loc[:, 'total_single_trucks'] / truck_count_by_size.loc[:, 'total_trucks']\n",
    "truck_count_by_size.to_csv('registration/for_hire_fleet_size_distribution.csv', index = False, sep = ',')"
   ]
  },
  {
   "cell_type": "code",
   "execution_count": 17,
   "id": "392fdd85-da70-4884-b082-3653932fbee9",
   "metadata": {},
   "outputs": [
    {
     "name": "stdout",
     "output_type": "stream",
     "text": [
      "total tx for-hire carriers  17529\n",
      "total for-hire trucks  63053\n",
      "max for-hire trucks in a firm 7033\n",
      "avg. for-hire trucks in a firm 19.679463171036204\n"
     ]
    },
    {
     "data": {
      "text/plain": [
       "Text(0.5, 1.0, 'for-hire truck count distribution')"
      ]
     },
     "execution_count": 17,
     "metadata": {},
     "output_type": "execute_result"
    },
    {
     "data": {
      "image/png": "[encoded data removed]",
      "text/plain": [
       "<Figure size 432x288 with 1 Axes>"
      ]
     },
     "metadata": {},
     "output_type": "display_data"
    }
   ],
   "source": [
    "# for-leasing truck analysis\n",
    "for_lease_carriers = tx_registration_data.loc[tx_registration_data['carrier_type'].isin(['FINANCE LEASE', \\\n",
    "                                                                                        'FULL SERVICE LEASE', \\\n",
    "                                                                                        'MANUFACTURER SPONSORED LEASE'])]\n",
    "print('total tx for-hire carriers ', len(for_lease_carriers))\n",
    "\n",
    "for_lease_truck_by_firm = for_lease_carriers.groupby(['business_name'])[['totcount', 'MDV', 'HDV']].sum()\n",
    "for_lease_truck_by_firm = for_lease_truck_by_firm.reset_index()\n",
    "print('total for-hire trucks ', for_lease_truck_by_firm['totcount'].sum())\n",
    "print('max for-hire trucks in a firm', for_lease_truck_by_firm['totcount'].max())\n",
    "print('avg. for-hire trucks in a firm', for_lease_truck_by_firm['totcount'].mean())\n",
    "\n",
    "for_lease_truck_by_firm['totcount'].hist(bins = 100)\n",
    "plt.xlim([0, 500])\n",
    "plt.xlabel('truck count per firm')\n",
    "plt.ylabel('count of firms')\n",
    "plt.title('for-hire truck count distribution')"
   ]
  },
  {
   "cell_type": "code",
   "execution_count": 18,
   "id": "57afcc17-c4ee-4d71-9c4c-3b7980d76a80",
   "metadata": {},
   "outputs": [
    {
     "name": "stdout",
     "output_type": "stream",
     "text": [
      "  fleet_size  total_carriers  total_trucks  total_truck_std  \\\n",
      "0        0-2            2185          2574         0.382627   \n",
      "1        3-5             380          1413         0.797210   \n",
      "2       6-10             233          1758         1.401626   \n",
      "3      11-50             282          6157         9.940601   \n",
      "4     51-100              50          3373        13.739872   \n",
      "\n",
      "   total_single_trucks  total_combination_trucks  \n",
      "0                 1220                      1354  \n",
      "1                  474                       939  \n",
      "2                  555                      1203  \n",
      "3                 1442                      4715  \n",
      "4                  771                      2602  \n"
     ]
    }
   ],
   "source": [
    "size_interval = [-1, 2, 5, 10, 50, 100, 1000, for_lease_truck_by_firm['totcount'].max()]\n",
    "interval_name = ['0-2', '3-5', '6-10', '11-50', '51-100', '101-1000', '>1000']    \n",
    "for_lease_truck_by_firm.loc[:, 'size_group'] = pd.cut(for_lease_truck_by_firm['totcount'], \n",
    "                                                bins = size_interval, right = True, \n",
    "                                                labels = interval_name)\n",
    "# private_truck_by_firm.head(5)\n",
    "truck_count_by_size = for_lease_truck_by_firm.groupby('size_group').agg({'business_name': 'count',\n",
    "                                                                   'totcount': ['sum','std'],\n",
    "                                                                   'MDV': 'sum',\n",
    "                                                                   'HDV': 'sum'})\n",
    "truck_count_by_size = truck_count_by_size.reset_index()\n",
    "truck_count_by_size.columns = ['fleet_size', 'total_carriers', 'total_trucks', 'total_truck_std',\n",
    "                               'total_single_trucks', 'total_combination_trucks']\n",
    "print(truck_count_by_size.head(5))"
   ]
  },
  {
   "cell_type": "code",
   "execution_count": 19,
   "id": "79abe0c2-5c0a-45c5-9604-115c2f62e6c5",
   "metadata": {},
   "outputs": [],
   "source": [
    "min_size_lookup = {'0-2':1, '3-5':3, '6-10':6, \n",
    "                   '11-50':11, '51-100':51, '101-1000':101, \n",
    "                   '>1000':1001}\n",
    "truck_count_by_size.loc[:, 'min_size'] = truck_count_by_size.loc[:, 'fleet_size'].map(min_size_lookup)\n",
    "truck_count_by_size.loc[:, 'avg_truck_per_carrier'] = truck_count_by_size.loc[:, 'total_trucks'] / truck_count_by_size.loc[:, 'total_carriers']\n",
    "truck_count_by_size.loc[:, 'avg_sut_per_carrier'] = truck_count_by_size.loc[:, 'total_single_trucks'] / truck_count_by_size.loc[:, 'total_carriers']\n",
    "truck_count_by_size.loc[:, 'avg_ct_per_carrier'] = truck_count_by_size.loc[:, 'total_combination_trucks'] / truck_count_by_size.loc[:, 'total_carriers']\n",
    "truck_count_by_size.loc[:, 'fraction_of_carrier'] = truck_count_by_size.loc[:, 'total_carriers'] / truck_count_by_size.loc[:, 'total_carriers'].sum()\n",
    "truck_count_by_size.loc[:, 'percent_sut'] = truck_count_by_size.loc[:, 'total_single_trucks'] / truck_count_by_size.loc[:, 'total_trucks']\n",
    "truck_count_by_size.to_csv('registration/for_lease_fleet_size_distribution.csv', index = False, sep = ',')"
   ]
  },
  {
   "cell_type": "code",
   "execution_count": 1,
   "id": "4d9db80a-9534-4e47-8e9c-ffbaaca387a3",
   "metadata": {},
   "outputs": [
    {
     "name": "stdout",
     "output_type": "stream",
     "text": [
      "Collecting tensorflow\n",
      "  Downloading tensorflow-2.8.0-cp38-cp38-macosx_10_14_x86_64.whl (217.4 MB)\n",
      "\u001b[K     |████████████████████████████████| 217.4 MB 1.0 MB/s eta 0:00:012     |████████████████████████████▍   | 193.2 MB 11.1 MB/s eta 0:00:03\n",
      "\u001b[?25hCollecting termcolor>=1.1.0\n",
      "  Downloading termcolor-1.1.0.tar.gz (3.9 kB)\n",
      "Collecting libclang>=9.0.1\n",
      "  Downloading libclang-14.0.1-py2.py3-none-macosx_10_9_x86_64.whl (13.2 MB)\n",
      "\u001b[K     |████████████████████████████████| 13.2 MB 5.3 MB/s eta 0:00:01\n",
      "\u001b[?25hRequirement already satisfied: numpy>=1.20 in /opt/anaconda3/lib/python3.8/site-packages (from tensorflow) (1.20.3)\n",
      "Collecting grpcio<2.0,>=1.24.3\n",
      "  Downloading grpcio-1.46.0-cp38-cp38-macosx_10_10_x86_64.whl (4.4 MB)\n",
      "\u001b[K     |████████████████████████████████| 4.4 MB 6.7 MB/s eta 0:00:01\n",
      "\u001b[?25hCollecting absl-py>=0.4.0\n",
      "  Downloading absl_py-1.0.0-py3-none-any.whl (126 kB)\n",
      "\u001b[K     |████████████████████████████████| 126 kB 6.1 MB/s eta 0:00:01\n",
      "\u001b[?25hCollecting astunparse>=1.6.0\n",
      "  Downloading astunparse-1.6.3-py2.py3-none-any.whl (12 kB)\n",
      "Collecting keras-preprocessing>=1.1.1\n",
      "  Downloading Keras_Preprocessing-1.1.2-py2.py3-none-any.whl (42 kB)\n",
      "\u001b[K     |████████████████████████████████| 42 kB 4.4 MB/s eta 0:00:01\n",
      "\u001b[?25hCollecting flatbuffers>=1.12\n",
      "  Downloading flatbuffers-2.0-py2.py3-none-any.whl (26 kB)\n",
      "Collecting tf-estimator-nightly==2.8.0.dev2021122109\n",
      "  Downloading tf_estimator_nightly-2.8.0.dev2021122109-py2.py3-none-any.whl (462 kB)\n",
      "\u001b[K     |████████████████████████████████| 462 kB 5.8 MB/s eta 0:00:01\n",
      "\u001b[?25hCollecting gast>=0.2.1\n",
      "  Downloading gast-0.5.3-py3-none-any.whl (19 kB)\n",
      "Requirement already satisfied: typing-extensions>=3.6.6 in /opt/anaconda3/lib/python3.8/site-packages (from tensorflow) (3.10.0.2)\n",
      "Collecting google-pasta>=0.1.1\n",
      "  Downloading google_pasta-0.2.0-py3-none-any.whl (57 kB)\n",
      "\u001b[K     |████████████████████████████████| 57 kB 3.1 MB/s eta 0:00:01\n",
      "\u001b[?25hRequirement already satisfied: six>=1.12.0 in /opt/anaconda3/lib/python3.8/site-packages (from tensorflow) (1.15.0)\n",
      "Requirement already satisfied: wrapt>=1.11.0 in /opt/anaconda3/lib/python3.8/site-packages (from tensorflow) (1.12.1)\n",
      "Collecting tensorboard<2.9,>=2.8\n",
      "  Downloading tensorboard-2.8.0-py3-none-any.whl (5.8 MB)\n",
      "\u001b[K     |████████████████████████████████| 5.8 MB 6.0 MB/s eta 0:00:01\n",
      "\u001b[?25hCollecting opt-einsum>=2.3.2\n",
      "  Downloading opt_einsum-3.3.0-py3-none-any.whl (65 kB)\n",
      "\u001b[K     |████████████████████████████████| 65 kB 4.1 MB/s eta 0:00:01\n",
      "\u001b[?25hCollecting protobuf>=3.9.2\n",
      "  Downloading protobuf-3.20.1-cp38-cp38-macosx_10_9_x86_64.whl (962 kB)\n",
      "\u001b[K     |████████████████████████████████| 962 kB 3.6 MB/s eta 0:00:01\n",
      "\u001b[?25hCollecting keras<2.9,>=2.8.0rc0\n",
      "  Downloading keras-2.8.0-py2.py3-none-any.whl (1.4 MB)\n",
      "\u001b[K     |████████████████████████████████| 1.4 MB 4.1 MB/s eta 0:00:01\n",
      "\u001b[?25hRequirement already satisfied: h5py>=2.9.0 in /opt/anaconda3/lib/python3.8/site-packages (from tensorflow) (2.10.0)\n",
      "Collecting tensorflow-io-gcs-filesystem>=0.23.1\n",
      "  Downloading tensorflow_io_gcs_filesystem-0.25.0-cp38-cp38-macosx_10_14_x86_64.whl (1.6 MB)\n",
      "\u001b[K     |████████████████████████████████| 1.6 MB 5.2 MB/s eta 0:00:01\n",
      "\u001b[?25hRequirement already satisfied: setuptools in /opt/anaconda3/lib/python3.8/site-packages (from tensorflow) (58.0.4)\n",
      "Requirement already satisfied: wheel<1.0,>=0.23.0 in /opt/anaconda3/lib/python3.8/site-packages (from astunparse>=1.6.0->tensorflow) (0.37.0)\n",
      "Requirement already satisfied: requests<3,>=2.21.0 in /opt/anaconda3/lib/python3.8/site-packages (from tensorboard<2.9,>=2.8->tensorflow) (2.26.0)\n",
      "Collecting google-auth<3,>=1.6.3\n",
      "  Downloading google_auth-2.6.6-py2.py3-none-any.whl (156 kB)\n",
      "\u001b[K     |████████████████████████████████| 156 kB 7.3 MB/s eta 0:00:01\n",
      "\u001b[?25hRequirement already satisfied: werkzeug>=0.11.15 in /opt/anaconda3/lib/python3.8/site-packages (from tensorboard<2.9,>=2.8->tensorflow) (2.0.1)\n",
      "Collecting markdown>=2.6.8\n",
      "  Downloading Markdown-3.3.7-py3-none-any.whl (97 kB)\n",
      "\u001b[K     |████████████████████████████████| 97 kB 5.9 MB/s eta 0:00:01\n",
      "\u001b[?25hCollecting google-auth-oauthlib<0.5,>=0.4.1\n",
      "  Downloading google_auth_oauthlib-0.4.6-py2.py3-none-any.whl (18 kB)\n",
      "Collecting tensorboard-data-server<0.7.0,>=0.6.0\n",
      "  Downloading tensorboard_data_server-0.6.1-py3-none-macosx_10_9_x86_64.whl (3.5 MB)\n",
      "\u001b[K     |████████████████████████████████| 3.5 MB 4.4 MB/s eta 0:00:01\n",
      "\u001b[?25hCollecting tensorboard-plugin-wit>=1.6.0\n",
      "  Downloading tensorboard_plugin_wit-1.8.1-py3-none-any.whl (781 kB)\n",
      "\u001b[K     |████████████████████████████████| 781 kB 3.3 MB/s eta 0:00:01\n",
      "\u001b[?25hRequirement already satisfied: rsa<5,>=3.1.4 in /opt/anaconda3/lib/python3.8/site-packages (from google-auth<3,>=1.6.3->tensorboard<2.9,>=2.8->tensorflow) (4.7.2)\n",
      "Collecting cachetools<6.0,>=2.0.0\n",
      "  Downloading cachetools-5.0.0-py3-none-any.whl (9.1 kB)\n",
      "Collecting pyasn1-modules>=0.2.1\n",
      "  Downloading pyasn1_modules-0.2.8-py2.py3-none-any.whl (155 kB)\n",
      "\u001b[K     |████████████████████████████████| 155 kB 4.0 MB/s eta 0:00:01\n",
      "\u001b[?25hCollecting requests-oauthlib>=0.7.0\n",
      "  Downloading requests_oauthlib-1.3.1-py2.py3-none-any.whl (23 kB)\n",
      "Requirement already satisfied: importlib-metadata>=4.4 in /opt/anaconda3/lib/python3.8/site-packages (from markdown>=2.6.8->tensorboard<2.9,>=2.8->tensorflow) (4.8.1)\n",
      "Requirement already satisfied: zipp>=0.5 in /opt/anaconda3/lib/python3.8/site-packages (from importlib-metadata>=4.4->markdown>=2.6.8->tensorboard<2.9,>=2.8->tensorflow) (3.6.0)\n",
      "Requirement already satisfied: pyasn1<0.5.0,>=0.4.6 in /opt/anaconda3/lib/python3.8/site-packages (from pyasn1-modules>=0.2.1->google-auth<3,>=1.6.3->tensorboard<2.9,>=2.8->tensorflow) (0.4.8)\n",
      "Requirement already satisfied: idna<4,>=2.5 in /opt/anaconda3/lib/python3.8/site-packages (from requests<3,>=2.21.0->tensorboard<2.9,>=2.8->tensorflow) (3.2)\n",
      "Requirement already satisfied: certifi>=2017.4.17 in /opt/anaconda3/lib/python3.8/site-packages (from requests<3,>=2.21.0->tensorboard<2.9,>=2.8->tensorflow) (2021.10.8)\n",
      "Requirement already satisfied: urllib3<1.27,>=1.21.1 in /opt/anaconda3/lib/python3.8/site-packages (from requests<3,>=2.21.0->tensorboard<2.9,>=2.8->tensorflow) (1.26.7)\n",
      "Requirement already satisfied: charset-normalizer~=2.0.0 in /opt/anaconda3/lib/python3.8/site-packages (from requests<3,>=2.21.0->tensorboard<2.9,>=2.8->tensorflow) (2.0.4)\n",
      "Collecting oauthlib>=3.0.0\n",
      "  Downloading oauthlib-3.2.0-py3-none-any.whl (151 kB)\n",
      "\u001b[K     |████████████████████████████████| 151 kB 3.5 MB/s eta 0:00:01\n",
      "\u001b[?25hBuilding wheels for collected packages: termcolor\n",
      "  Building wheel for termcolor (setup.py) ... \u001b[?25ldone\n",
      "\u001b[?25h  Created wheel for termcolor: filename=termcolor-1.1.0-py3-none-any.whl size=4847 sha256=65a753aa20f2acca084d50c69878f176292ea697a9972fd3ca951c672ce03737\n",
      "  Stored in directory: /Users/xiaodanxu/Library/Caches/pip/wheels/a0/16/9c/5473df82468f958445479c59e784896fa24f4a5fc024b0f501\n",
      "Successfully built termcolor\n",
      "Installing collected packages: pyasn1-modules, oauthlib, cachetools, requests-oauthlib, google-auth, tensorboard-plugin-wit, tensorboard-data-server, protobuf, markdown, grpcio, google-auth-oauthlib, absl-py, tf-estimator-nightly, termcolor, tensorflow-io-gcs-filesystem, tensorboard, opt-einsum, libclang, keras-preprocessing, keras, google-pasta, gast, flatbuffers, astunparse, tensorflow\n",
      "Successfully installed absl-py-1.0.0 astunparse-1.6.3 cachetools-5.0.0 flatbuffers-2.0 gast-0.5.3 google-auth-2.6.6 google-auth-oauthlib-0.4.6 google-pasta-0.2.0 grpcio-1.46.0 keras-2.8.0 keras-preprocessing-1.1.2 libclang-14.0.1 markdown-3.3.7 oauthlib-3.2.0 opt-einsum-3.3.0 protobuf-3.20.1 pyasn1-modules-0.2.8 requests-oauthlib-1.3.1 tensorboard-2.8.0 tensorboard-data-server-0.6.1 tensorboard-plugin-wit-1.8.1 tensorflow-2.8.0 tensorflow-io-gcs-filesystem-0.25.0 termcolor-1.1.0 tf-estimator-nightly-2.8.0.dev2021122109\n",
      "Note: you may need to restart the kernel to use updated packages.\n"
     ]
    }
   ],
   "source": [
    "pip install tensorflow"
   ]
  },
  {
   "cell_type": "code",
   "execution_count": null,
   "id": "a4d65946-f8fb-4436-8fe5-65188615a816",
   "metadata": {},
   "outputs": [],
   "source": []
  }
 ],
 "metadata": {
  "kernelspec": {
   "display_name": "Python 3 (ipykernel)",
   "language": "python",
   "name": "python3"
  },
  "language_info": {
   "codemirror_mode": {
    "name": "ipython",
    "version": 3
   },
   "file_extension": ".py",
   "mimetype": "text/x-python",
   "name": "python",
   "nbconvert_exporter": "python",
   "pygments_lexer": "ipython3",
   "version": "3.8.8"
  }
 },
 "nbformat": 4,
 "nbformat_minor": 5
}
